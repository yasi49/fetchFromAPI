{
  "cells": [
    {
      "cell_type": "markdown",
      "metadata": {
        "id": "view-in-github",
        "colab_type": "text"
      },
      "source": [
        "<a href=\"https://colab.research.google.com/github/yasi49/fetchFromAPI/blob/main/chatbot.ipynb\" target=\"_parent\"><img src=\"https://colab.research.google.com/assets/colab-badge.svg\" alt=\"Open In Colab\"/></a>"
      ]
    },
    {
      "cell_type": "code",
      "execution_count": 1,
      "metadata": {
        "id": "XtkvGSL9sumA"
      },
      "outputs": [],
      "source": [
        "%%capture --no-stderr\n",
        "%pip install -U langgraph langsmith langchain_anthropic langchain_google_genai\n"
      ]
    },
    {
      "cell_type": "code",
      "execution_count": 2,
      "metadata": {
        "id": "1Th7bPYttLjS"
      },
      "outputs": [],
      "source": [
        "import os\n",
        "from google.colab import userdata\n",
        "\n",
        "os.environ[\"LANGCHAIN_API_KEY\"] = userdata.get('LANGCHAIN_API_KEY')\n",
        "os.environ[\"LANGCHAIN_TRACING_V2\"] = \"true\"\n",
        "os.environ[\"LANGCHAIN_PROJECT\"] = \"quickstart\"\n",
        "\n",
        "gemini_api_key = userdata.get('GEMINI_API_KEY')"
      ]
    },
    {
      "cell_type": "code",
      "execution_count": 3,
      "metadata": {
        "colab": {
          "base_uri": "https://localhost:8080/"
        },
        "id": "IB26Wnpukpr5",
        "outputId": "fd03b9b1-4d62-4b77-e885-f905ac84c553"
      },
      "outputs": [
        {
          "output_type": "execute_result",
          "data": {
            "text/plain": [
              "AIMessage(content='Hello there!', additional_kwargs={}, response_metadata={'prompt_feedback': {'block_reason': 0, 'safety_ratings': []}, 'finish_reason': 'STOP', 'safety_ratings': []}, id='run-d9417048-849f-4d2e-a7ce-36729b8b7d39-0', usage_metadata={'input_tokens': 3, 'output_tokens': 4, 'total_tokens': 7, 'input_token_details': {'cache_read': 0}})"
            ]
          },
          "metadata": {},
          "execution_count": 3
        }
      ],
      "source": [
        "from langchain_google_genai import ChatGoogleGenerativeAI\n",
        "\n",
        "llm = ChatGoogleGenerativeAI(\n",
        "    model=\"gemini-1.5-flash\",\n",
        "    max_retries=2,\n",
        "    api_key=gemini_api_key\n",
        ")\n",
        "\n",
        "llm.invoke(\"greet me\")\n"
      ]
    },
    {
      "cell_type": "code",
      "execution_count": 4,
      "metadata": {
        "id": "9Gyb82sBWTO5"
      },
      "outputs": [],
      "source": [
        "from typing import Annotated\n",
        "\n",
        "from typing_extensions import TypedDict\n",
        "\n",
        "from langgraph.graph import StateGraph, START, END\n",
        "from langgraph.graph.message import add_messages\n",
        "\n",
        "\n",
        "class State(TypedDict):\n",
        "    # Messages have the type \"list\". The `add_messages` function\n",
        "    # in the annotation defines how this state key should be updated\n",
        "    # (in this case, it appends messages to the list, rather than overwriting them)\n",
        "    messages: Annotated[list, add_messages]\n",
        "\n",
        "\n",
        "graph_builder = StateGraph(State)"
      ]
    },
    {
      "cell_type": "code",
      "execution_count": 5,
      "metadata": {
        "colab": {
          "base_uri": "https://localhost:8080/"
        },
        "id": "oU9Nk8ItZpJn",
        "outputId": "709376ff-4261-4d85-fdef-09b9237039ed"
      },
      "outputs": [
        {
          "output_type": "stream",
          "name": "stdout",
          "text": [
            "update state 1: [HumanMessage(content='hello', additional_kwargs={}, response_metadata={}, id='32abe0cb-ffb0-4fec-9009-4d4fa7497607'), AIMessage(content='hello! there', additional_kwargs={}, response_metadata={}, id='09fb764e-d0f3-4713-9bf7-da8b6b7026b1')]\n"
          ]
        }
      ],
      "source": [
        "new_message_1 = [{\"role\": \"user\", \"content\": \"hello\"}]\n",
        "new_message_2 = [{\"role\": \"ai\", \"content\": \"hello! there\"}]\n",
        "\n",
        "message = add_messages(new_message_1, new_message_2)\n",
        "\n",
        "print(\"update state 1:\", message)"
      ]
    },
    {
      "cell_type": "code",
      "execution_count": 6,
      "metadata": {
        "colab": {
          "base_uri": "https://localhost:8080/"
        },
        "id": "EmqQluQDr5zK",
        "outputId": "6cca6b90-cc12-4561-b68b-23af0b68bd1e"
      },
      "outputs": [
        {
          "output_type": "execute_result",
          "data": {
            "text/plain": [
              "<langgraph.graph.state.StateGraph at 0x79edcfef5b50>"
            ]
          },
          "metadata": {},
          "execution_count": 6
        }
      ],
      "source": [
        "def chatbot(state: State):\n",
        "  return{\"messages\": [llm.invoke(state[\"messages\"])]}\n",
        "\n",
        "\n",
        "graph_builder.add_node(\"chatbot\", chatbot)"
      ]
    },
    {
      "cell_type": "code",
      "execution_count": 7,
      "metadata": {
        "colab": {
          "base_uri": "https://localhost:8080/"
        },
        "id": "cMn9kfSXs7r_",
        "outputId": "07b00f1a-64d9-41c3-e7cc-ed4d417e2996"
      },
      "outputs": [
        {
          "output_type": "execute_result",
          "data": {
            "text/plain": [
              "<langgraph.graph.state.StateGraph at 0x79edcfef5b50>"
            ]
          },
          "metadata": {},
          "execution_count": 7
        }
      ],
      "source": [
        "graph_builder.add_edge(START, \"chatbot\")"
      ]
    },
    {
      "cell_type": "code",
      "execution_count": 8,
      "metadata": {
        "colab": {
          "base_uri": "https://localhost:8080/"
        },
        "id": "gz-FhZmwtwJo",
        "outputId": "0f597db9-050e-4e45-b61d-29c9a6e68cc1"
      },
      "outputs": [
        {
          "output_type": "execute_result",
          "data": {
            "text/plain": [
              "<langgraph.graph.state.StateGraph at 0x79edcfef5b50>"
            ]
          },
          "metadata": {},
          "execution_count": 8
        }
      ],
      "source": [
        "graph_builder.add_edge(\"chatbot\", END)"
      ]
    },
    {
      "cell_type": "code",
      "execution_count": 9,
      "metadata": {
        "id": "RsQHLiUugWDH"
      },
      "outputs": [],
      "source": [
        "graph = graph_builder.compile()"
      ]
    },
    {
      "cell_type": "code",
      "execution_count": 10,
      "metadata": {
        "colab": {
          "base_uri": "https://localhost:8080/",
          "height": 251
        },
        "id": "5qOMHssVuUuT",
        "outputId": "7c2c649d-2c56-4127-b07d-43d036deb522"
      },
      "outputs": [
        {
          "output_type": "display_data",
          "data": {
            "image/png": "[encoded data removed]",
            "text/plain": [
              "<IPython.core.display.Image object>"
            ]
          },
          "metadata": {}
        }
      ],
      "source": [
        "from IPython.display import Image, display\n",
        "\n",
        "try:\n",
        "  display(Image(graph.get_graph().draw_mermaid_png()))\n",
        "except Exception:\n",
        "  pass"
      ]
    },
    {
      "cell_type": "code",
      "execution_count": 11,
      "metadata": {
        "colab": {
          "base_uri": "https://localhost:8080/"
        },
        "id": "lOEsWigivR1b",
        "outputId": "c559d30f-bc51-43b5-fd8f-0a07f625a759"
      },
      "outputs": [
        {
          "output_type": "stream",
          "name": "stdout",
          "text": [
            "{'chatbot': {'messages': [AIMessage(content=\"It's nice to meet you, Junaid.  How can I help you today?\", additional_kwargs={}, response_metadata={'prompt_feedback': {'block_reason': 0, 'safety_ratings': []}, 'finish_reason': 'STOP', 'safety_ratings': []}, id='run-7c0f7ba3-6463-486b-9a6a-e12a1641c5e3-0', usage_metadata={'input_tokens': 6, 'output_tokens': 21, 'total_tokens': 27, 'input_token_details': {'cache_read': 0}})]}}\n",
            "EVENT: It's nice to meet you, Junaid.  How can I help you today?\n"
          ]
        }
      ],
      "source": [
        "for event in graph.stream({\"messages\": [(\"user\", \"i am junaid\")]}):\n",
        "  print(event)\n",
        "  print(\"EVENT:\", list(event.values())[0][\"messages\"][-1].content)\n"
      ]
    },
    {
      "cell_type": "code",
      "execution_count": 12,
      "metadata": {
        "id": "qqpRrkvqXPBo"
      },
      "outputs": [],
      "source": [
        "def stream_graph_updates(user_input: str):\n",
        "    for event in graph.stream({\"messages\": [(\"user\", user_input)]}):\n",
        "        for value in event.values():\n",
        "            print(\"Assistant:\", value[\"messages\"][-1].content)"
      ]
    },
    {
      "cell_type": "code",
      "execution_count": 13,
      "metadata": {
        "colab": {
          "base_uri": "https://localhost:8080/"
        },
        "id": "i9G7ARRYgBf5",
        "outputId": "e02de859-2536-41de-8bbe-19fc647c304d"
      },
      "outputs": [
        {
          "output_type": "stream",
          "name": "stdout",
          "text": [
            "User: q\n",
            "Goodbye!\n"
          ]
        }
      ],
      "source": [
        "\n",
        "\n",
        "\n",
        "while True:\n",
        "    try:\n",
        "        user_input = input(\"User: \")\n",
        "        if user_input.lower() in [\"quit\", \"exit\", \"q\"]:\n",
        "            print(\"Goodbye!\")\n",
        "            break\n",
        "\n",
        "        stream_graph_updates(user_input)\n",
        "    except:\n",
        "        # fallback if input() is not available\n",
        "        user_input = \"What do you know about LangGraph?\"\n",
        "        print(\"User: \" + user_input)\n",
        "        stream_graph_updates(user_input)\n",
        "        break"
      ]
    },
    {
      "cell_type": "code",
      "execution_count": 14,
      "metadata": {
        "id": "cEX_x3CSXTUQ"
      },
      "outputs": [],
      "source": [
        "%%capture --no-stderr\n",
        "%pip install -U tavily-python langchain_community"
      ]
    },
    {
      "cell_type": "code",
      "execution_count": 15,
      "metadata": {
        "id": "RUnhoVD6YmKY"
      },
      "outputs": [],
      "source": [
        "os.environ[\"TAVILY_API_KEY\"] = userdata.get(\"TAVILY_API_KEY\")"
      ]
    },
    {
      "cell_type": "code",
      "execution_count": 16,
      "metadata": {
        "id": "EuOJM3zBZ7RP"
      },
      "outputs": [],
      "source": [
        "from langchain_community.tools.tavily_search import TavilySearchResults\n",
        "\n",
        "search_tool = TavilySearchResults(max_results=2)\n",
        "\n",
        "\n",
        "\n"
      ]
    },
    {
      "cell_type": "code",
      "execution_count": 17,
      "metadata": {
        "id": "PO3ho3Am0Nw4"
      },
      "outputs": [],
      "source": [
        "tools = [search_tool]"
      ]
    },
    {
      "cell_type": "code",
      "execution_count": 18,
      "metadata": {
        "colab": {
          "base_uri": "https://localhost:8080/"
        },
        "id": "qknE-bULcFgc",
        "outputId": "795cdfc5-161f-4928-fbaa-4c74ea90c9a5"
      },
      "outputs": [
        {
          "output_type": "execute_result",
          "data": {
            "text/plain": [
              "[{'url': 'https://www.nbcnews.com/politics/2024-elections/president-results',\n",
              "  'content': \"Democrats won Nevada in the past two presidential elections — but polling and voting trends in the state have made it an appealing target for Donald Trump in a bid to flip states in his direction. North Carolina hasn’t voted for a Democrat for president since 2008, but Kamala Harris’ campaign has targeted it as a state she can win, buoyed by its large Black population. Resident of the states listed in the 'Your Rights' section of NBCUniversal’s Privacy Policy Only: To opt out of selling or sharing/processing for targeted advertising of information such as cookies and device identifiers processed for targeted ads (as defined by law) and related purposes for this site/app on this browser/device, switch this toggle to off (grey color) by moving it left and clicking “Confirm My Choice” below.\"},\n",
              " {'url': 'https://www.270towin.com/2024_Election/results',\n",
              "  'content': '2024 Electoral College Map 2024 Presidential Election Results 2024 Pundit Forecasts 2024 Polling Averages by State Most Recent General Election Polls 2024 Election Simulator 2024 Presidential Calendar Historical Elections 2026 Senate Interactive Map 2024 Senate Election Results 2024 Pundit Forecasts 2024 Senate Polls What Happens: 50-50 Senate Contact Your Senator 2025-26 Governor Interactive Map 2024 Governor Election Results 2024 Pundit Forecasts 2024 Governor Polls State Government Trifectas State Senate Interactive Map State House Interactive Map 2024 Election Results 2024 Primary Election Results The Republican ticket of Donald Trump, who was the 45th president of the United States, and JD Vance, the junior U.S. senator from Ohio defeated the Democratic ticket of Kamala Harris, the incumbent vice president, and Tim Walz, the 41st governor of Minnesota.'}]"
            ]
          },
          "metadata": {},
          "execution_count": 18
        }
      ],
      "source": [
        "search_tool.invoke(\"who is winner of 2024 un elections?\")"
      ]
    },
    {
      "cell_type": "code",
      "execution_count": 19,
      "metadata": {
        "colab": {
          "base_uri": "https://localhost:8080/"
        },
        "id": "CqnNl4ofeGwo",
        "outputId": "36708f81-f2b9-49ec-90ed-6d790e35e1c0"
      },
      "outputs": [
        {
          "output_type": "execute_result",
          "data": {
            "text/plain": [
              "<langgraph.graph.state.StateGraph at 0x79edb7762510>"
            ]
          },
          "metadata": {},
          "execution_count": 19
        }
      ],
      "source": [
        "from typing import Annotated\n",
        "\n",
        "\n",
        "from typing_extensions import TypedDict\n",
        "\n",
        "from langgraph.graph import StateGraph, START, END\n",
        "from langgraph.graph.message import add_messages\n",
        "\n",
        "\n",
        "class State(TypedDict):\n",
        "    messages: Annotated[list, add_messages]\n",
        "\n",
        "\n",
        "graph_builder = StateGraph(State)\n",
        "\n",
        "\n",
        "# llm = ChatAnthropic(model=\"claude-3-5-sonnet-20240620\")\n",
        "# Modification: tell the LLM which tools it can call\n",
        "llm_with_tools = llm.bind_tools(tools)\n",
        "\n",
        "\n",
        "def chatbot(state: State):\n",
        "    return {\"messages\": [llm_with_tools.invoke(state[\"messages\"])]}\n",
        "\n",
        "\n",
        "graph_builder.add_node(\"chatbot\", chatbot)"
      ]
    },
    {
      "cell_type": "code",
      "execution_count": 20,
      "metadata": {
        "colab": {
          "base_uri": "https://localhost:8080/"
        },
        "id": "C0oKJmWbe88r",
        "outputId": "a7305bdc-f57e-4c0d-85c3-054f147db8f6"
      },
      "outputs": [
        {
          "output_type": "execute_result",
          "data": {
            "text/plain": [
              "ChatGoogleGenerativeAI(model='models/gemini-1.5-flash', google_api_key=SecretStr('**********'), max_retries=2, client=<google.ai.generativelanguage_v1beta.services.generative_service.client.GenerativeServiceClient object at 0x79ee112e99d0>, default_metadata=())"
            ]
          },
          "metadata": {},
          "execution_count": 20
        }
      ],
      "source": [
        "llm"
      ]
    },
    {
      "cell_type": "code",
      "execution_count": 21,
      "metadata": {
        "colab": {
          "base_uri": "https://localhost:8080/"
        },
        "id": "4lKEyafWfChR",
        "outputId": "e82ec1ed-8bac-45a7-e679-b183f08fac30"
      },
      "outputs": [
        {
          "output_type": "execute_result",
          "data": {
            "text/plain": [
              "RunnableBinding(bound=ChatGoogleGenerativeAI(model='models/gemini-1.5-flash', google_api_key=SecretStr('**********'), max_retries=2, client=<google.ai.generativelanguage_v1beta.services.generative_service.client.GenerativeServiceClient object at 0x79ee112e99d0>, default_metadata=()), kwargs={'tools': [{'type': 'function', 'function': {'name': 'tavily_search_results_json', 'description': 'A search engine optimized for comprehensive, accurate, and trusted results. Useful for when you need to answer questions about current events. Input should be a search query.', 'parameters': {'properties': {'query': {'description': 'search query to look up', 'type': 'string'}}, 'required': ['query'], 'type': 'object'}}}]}, config={}, config_factories=[])"
            ]
          },
          "metadata": {},
          "execution_count": 21
        }
      ],
      "source": [
        "llm_with_tools"
      ]
    },
    {
      "cell_type": "code",
      "execution_count": 22,
      "metadata": {
        "colab": {
          "base_uri": "https://localhost:8080/"
        },
        "id": "RNVjYpW1hL-8",
        "outputId": "90cb19ee-db9e-4d7e-a13a-6d3d2bf1ad2f"
      },
      "outputs": [
        {
          "output_type": "execute_result",
          "data": {
            "text/plain": [
              "AIMessage(content='I cannot answer this question. The available tools lack the functionality to access information about the US 2024 elections.', additional_kwargs={}, response_metadata={'prompt_feedback': {'block_reason': 0, 'safety_ratings': []}, 'finish_reason': 'STOP', 'safety_ratings': []}, id='run-ed447771-ecea-45e0-8dc4-28fa777c981e-0', usage_metadata={'input_tokens': 88, 'output_tokens': 26, 'total_tokens': 114, 'input_token_details': {'cache_read': 0}})"
            ]
          },
          "metadata": {},
          "execution_count": 22
        }
      ],
      "source": [
        "llm_with_tools.invoke(\"Search when is the us 2024 elections be happend\")"
      ]
    },
    {
      "cell_type": "code",
      "execution_count": 23,
      "metadata": {
        "id": "NLHYKcF2FgEQ"
      },
      "outputs": [],
      "source": [
        "tool_calls=[\n",
        "    {'name': 'tavily_search_results_json', 'args':\n",
        "     {'query': 'when is the us 2024 elections'}, 'id':\n",
        "     '782aab1e-9efb-4e07-816f-d5de72c13907', 'type':\n",
        "     'tool_call'}]"
      ]
    },
    {
      "cell_type": "code",
      "execution_count": 24,
      "metadata": {
        "colab": {
          "base_uri": "https://localhost:8080/"
        },
        "id": "5uuvMMjDytcn",
        "outputId": "de1346f0-f457-49f5-8035-f8f9adfae7cd"
      },
      "outputs": [
        {
          "output_type": "stream",
          "name": "stdout",
          "text": [
            "<class 'dict'>\n",
            "{'tavily_search_results_json': TavilySearchResults(max_results=2, api_wrapper=TavilySearchAPIWrapper(tavily_api_key=SecretStr('**********')))}\n"
          ]
        }
      ],
      "source": [
        "tools_by_name = {tool.name: tool for tool in tools}\n",
        "print(type(tools_by_name))\n",
        "print(tools_by_name)\n"
      ]
    },
    {
      "cell_type": "code",
      "execution_count": 25,
      "metadata": {
        "colab": {
          "base_uri": "https://localhost:8080/"
        },
        "id": "ymItKD7izUC_",
        "outputId": "f03b9468-a6a0-4079-e2b7-e90b9a4142fc"
      },
      "outputs": [
        {
          "output_type": "execute_result",
          "data": {
            "text/plain": [
              "TavilySearchResults(max_results=2, api_wrapper=TavilySearchAPIWrapper(tavily_api_key=SecretStr('**********')))"
            ]
          },
          "metadata": {},
          "execution_count": 25
        }
      ],
      "source": [
        "tools_by_name[\"tavily_search_results_json\"]"
      ]
    },
    {
      "cell_type": "code",
      "execution_count": 26,
      "metadata": {
        "id": "A4bUkjQg0SpV"
      },
      "outputs": [],
      "source": [
        "import json\n",
        "\n",
        "from langchain_core.messages import ToolMessage\n",
        "\n",
        "\n",
        "class BasicToolNode:\n",
        "    \"\"\"A node that runs the tools requested in the last AIMessage.\"\"\"\n",
        "\n",
        "    def __init__(self, tools: list) -> None:\n",
        "        self.tools_by_name = {tool.name: tool for tool in tools}\n",
        "\n",
        "    def __call__(self, inputs: dict):\n",
        "        if messages := inputs.get(\"messages\", []):\n",
        "            message = messages[-1]\n",
        "        else:\n",
        "            raise ValueError(\"No message found in input...\")\n",
        "        outputs = []\n",
        "        for tool_call in message.tool_calls:\n",
        "            tool_result = self.tools_by_name[tool_call[\"name\"]].invoke(\n",
        "                tool_call[\"args\"]\n",
        "            )\n",
        "            outputs.append(\n",
        "                ToolMessage(\n",
        "                    content=json.dumps(tool_result),\n",
        "                    name=tool_call[\"name\"],\n",
        "                    tool_call_id=tool_call[\"id\"],\n",
        "                )\n",
        "            )\n",
        "        return {\"messages\": outputs}\n",
        "\n",
        "\n",
        "tool_node = BasicToolNode(tools=[search_tool])\n",
        "# graph_builder.add_node(\"tools\", tool_node)      # second node (tool_node)"
      ]
    },
    {
      "cell_type": "code",
      "execution_count": 27,
      "metadata": {
        "colab": {
          "base_uri": "https://localhost:8080/"
        },
        "id": "gk4vdQ1y2BTP",
        "outputId": "bf3a6a66-df65-4ea1-ef6b-b04ad0b5b96c"
      },
      "outputs": [
        {
          "output_type": "execute_result",
          "data": {
            "text/plain": [
              "{'messages': [ToolMessage(content='[{\"url\": \"https://usafacts.org/articles/dates-to-know-for-the-2024-presidential-election/\", \"content\": \"Explore more of USAFacts\\\\nRelated Articles\\\\nGovernment\\\\nThe October 2019 Democratic debate and the data behind it\\\\nGovernment\\\\nFor a nonpartisan state of the nation, try The State of the Union in Numbers\\\\nGovernment\\\\nData on six topics from the vice presidential debate\\\\nGovernment\\\\nData on four topics from the final presidential debate\\\\nRelated Data\\\\nVoting-age population during elections\\\\n255.46 million\\\\n2022\\\\nPercent of people who always or sometimes vote in local elections\\\\n56%\\\\n2013\\\\nNewsletter\\\\nData delivered to your inbox\\\\nKeep up with the latest data and most popular content.\\\\n \\\\u2022 Check your spelling\\\\n\\\\u2022 Try other search terms\\\\n\\\\u2022 Use fewer words\\\\nDates to know for the 2024 presidential election\\\\nThe 2024 presidential election will take place on Tuesday, November 5, 2024. All topics\\\\nExplore articles, data and trends by topic\\\\nAbout\\\\nWhat makes USAFacts different\\\\nWe frequently add data and we\\'re interested in what would be useful to people. Beginning in January of the election year, voters participate in primaries and caucuses, influencing which presidential candidates are on the November ballot.\\\\n When is the Republican National Convention?\\\\nThe Republican National Convention will take place from July 15-18, 2024, in Milwaukee.\\\\n\"}, {\"url\": \"https://en.wikipedia.org/wiki/2024_United_States_elections\", \"content\": \"On March 30, 2023, Trump was indicted by a grand jury in Manhattan for his alleged role in a scandal stemming from hush money payments made to Stormy Daniels before the 2016 presidential election.[8]\\\\nOn May 10, 2023, Republican New York Congressman George Santos was indicted on federal charges of fraud and money laundering.[9]\\\\nOn June 8, 2023, Trump was indicted on 37 federal charges related to his alleged mishandling of classified documents by the office of the Smith special counsel investigation.[10]\\\\nOn August 1, 2023, a Washington, D.C., federal grand jury indicted Trump again on four felony counts of conspiracy and obstruction related to Trump\\'s role in the January 6 attack and his efforts to overturn the 2020 election.[11]\\\\nOn August 14, a Georgia grand jury indicted Trump on racketeering and other felonies committed in an effort to overturn the state\\'s 2020 election results and the Trump\\\\u2013Raffensperger phone call.[12][13] Thus, many conservative political analysts and commentators called a continued Republican alliance with the anti-abortion movement \\\\\"untenable\\\\\" and an \\\\\"electoral disaster\\\\\", and urged the party to favor abortion rights.[6] Some issue polling has shown Donald Trump, the likely Republican nominee, outrunning his party and closing the gap with Democrats on the issue of abortion, but no election data with Trump directly on the ballot has happened to verify these results.[7]\\\\nIndictments[edit]\\\\nOn November 18, 2022, three days after former president and Republican candidate Donald Trump announced his 2024 re-election bid, U.S. Attorney General Merrick Garland appointed Jack Smith as special counsel to investigate Trump\\'s role in the January 6 U.S. Capitol attack and Trump\\'s mishandling of government documents, including classified documents.\\\\n Three Democratic-held seats up for election are in the heavily Republican-leaning states of Montana, Ohio, and West Virginia, all of which were won comfortably by Trump in both 2016 and 2020.[23] Other potential Republican targets include seats in Arizona, Michigan, Nevada, Pennsylvania, and Wisconsin, while Democrats may target Republican-held seats in Florida and Texas.[24]\\\\nTwo special elections are scheduled to fill the unexpired terms of senators who vacated their seats during the 118th Congress:\\\\nAll 435 voting seats in the United States House of Representatives will be up for election. On August 11, four months after incumbent president and Democratic candidate Joe Biden announced his re-election bid, Garland appointed David C. Weiss to serve as special counsel to investigate Biden\\'s son, Hunter Biden, who was indicted on September 14, 2023, on three federal firearms-related charges.[14][15]\\\\nOn September 22, 2023, Democratic U.S. Senator Bob Menendez of New Jersey and his wife Nadine were both indicted on bribery charges.[16][17]\\\\nFederal elections[edit]\\\\nPresidential election[edit]\\\\nThe 2024 United States presidential election will be the 60th quadrennial U.S. presidential election. The first Republican presidential debate was held on August 23, 2023, and the first scheduled primary contest is the 2024 Iowa Republican presidential caucuses, which will be held on January 15, 2024.[22]\\\\nCongressional elections[edit]\\\\nAll 33 seats in Senate Class 1 and one seat in Senate Class 2 will be up for election; at least one additional special election will take place to fill vacancies that arise during the 118th Congress.\"}]', name='tavily_search_results_json', tool_call_id='fb1f767e-00b1-4160-b594-c8e67317352c')]}"
            ]
          },
          "metadata": {},
          "execution_count": 27
        }
      ],
      "source": [
        "from langchain_core.messages import AIMessage, HumanMessage\n",
        "\n",
        "messages = [\n",
        "    AIMessage(content='', additional_kwargs={'function_call': {'name': 'tavily_search_results_json', 'arguments': '{\"query\": \"when is the us 2024 elections\"}'}}, response_metadata={'prompt_feedback': {'block_reason': 0, 'safety_ratings': []}, 'finish_reason': 'STOP', 'safety_ratings': []}, id='run-d43ad1dc-1e1a-4f6e-b299-1a01469673ca-0', tool_calls=[{'name': 'tavily_search_results_json', 'args': {'query': 'when is the us 2024 elections'}, 'id': 'fb1f767e-00b1-4160-b594-c8e67317352c', 'type': 'tool_call'}], usage_metadata={'input_tokens': 88, 'output_tokens': 19, 'total_tokens': 107, 'input_token_details': {'cache_read': 0}})\n",
        "\n",
        "\n",
        "\n",
        "]\n",
        "tool_node(inputs={\"messages\": messages})"
      ]
    },
    {
      "cell_type": "code",
      "execution_count": 28,
      "metadata": {
        "id": "3WnYmWx4SRK0"
      },
      "outputs": [],
      "source": [
        "# from typing import Literal\n",
        "\n",
        "# def route_tools(\n",
        "#     state: State,\n",
        "# ):\n",
        "#     \"\"\"\n",
        "#     Use in the conditional_edge to route to the ToolNode if the last message\n",
        "#     has tool calls. Otherwise, route to the end.\n",
        "#     \"\"\"\n",
        "#     if isinstance(state, list):\n",
        "#         ai_message = state[-1]\n",
        "#     elif messages := state.get(\"messages\", []):\n",
        "#         ai_message = messages[-1]\n",
        "#     else:\n",
        "#         raise ValueError(f\"No messages found in input state to tool_edge: {state}\")\n",
        "#     if hasattr(ai_message, \"tool_calls\") and len(ai_message.tool_calls) > 0:\n",
        "#         return \"tools\"\n",
        "#     return END\n",
        "\n",
        "\n",
        "# # The `tools_condition` function returns \"tools\" if the chatbot asks to use a tool, and \"END\" if\n",
        "# # it is fine directly responding. This conditional routing defines the main agent loop.\n",
        "# graph_builder.add_conditional_edges(\n",
        "#     \"chatbot\",\n",
        "#     route_tools,\n",
        "#     # The following dictionary lets you tell the graph to interpret the condition's outputs as a specific node\n",
        "#     # It defaults to the identity function, but if you\n",
        "#     # want to use a node named something else apart from \"tools\",\n",
        "#     # You can update the value of the dictionary to something else\n",
        "#     # e.g., \"tools\": \"my_tools\"\n",
        "#     {\"tools\": \"tools\", END: END},\n",
        "# )\n",
        "# # Any time a tool is called, we return to the chatbot to decide the next step\n",
        "# graph_builder.add_edge(\"tools\", \"chatbot\")\n",
        "# graph_builder.add_edge(START, \"chatbot\")\n",
        "# graph = graph_builder.compile()"
      ]
    },
    {
      "cell_type": "code",
      "execution_count": 29,
      "metadata": {
        "id": "laXUimaUQ9tZ"
      },
      "outputs": [],
      "source": [
        "from typing import Annotated\n",
        "\n",
        "from langchain_community.tools.tavily_search import TavilySearchResults\n",
        "from langchain_core.messages import BaseMessage\n",
        "from typing_extensions import TypedDict\n",
        "\n",
        "from langgraph.graph import StateGraph\n",
        "from langgraph.graph.message import add_messages\n",
        "from langgraph.prebuilt import ToolNode, tools_condition\n",
        "\n",
        "\n",
        "class State(TypedDict):\n",
        "    messages: Annotated[list, add_messages]\n",
        "\n",
        "\n",
        "graph_builder = StateGraph(State)\n",
        "\n",
        "\n",
        "tool = TavilySearchResults(max_results=2)\n",
        "tools = [tool]\n",
        "llm_with_tools = llm.bind_tools(tools)\n",
        "\n",
        "\n",
        "def chatbot(state: State):\n",
        "    return {\"messages\": [llm_with_tools.invoke(state[\"messages\"])]}\n",
        "\n",
        "\n",
        "graph_builder.add_node(\"chatbot\", chatbot)\n",
        "\n",
        "tool_node = ToolNode(tools=[tool])\n",
        "graph_builder.add_node(\"tools\", tool_node)\n",
        "\n",
        "graph_builder.add_conditional_edges(\n",
        "    \"chatbot\",\n",
        "    tools_condition,\n",
        ")\n",
        "# Any time a tool is called, we return to the chatbot to decide the next step\n",
        "graph_builder.add_edge(\"tools\", \"chatbot\")\n",
        "graph_builder.set_entry_point(\"chatbot\")\n",
        "graph = graph_builder.compile()"
      ]
    },
    {
      "cell_type": "code",
      "execution_count": 30,
      "metadata": {
        "colab": {
          "base_uri": "https://localhost:8080/",
          "height": 266
        },
        "id": "74OMEBUlQ-7B",
        "outputId": "db0249de-6a07-4b70-fdb7-3d151b9f1470"
      },
      "outputs": [
        {
          "output_type": "display_data",
          "data": {
            "image/png": "[encoded data removed]",
            "text/plain": [
              "<IPython.core.display.Image object>"
            ]
          },
          "metadata": {}
        }
      ],
      "source": [
        "from IPython.display import Image, display\n",
        "\n",
        "try:\n",
        "    display(Image(graph.get_graph().draw_mermaid_png()))\n",
        "except Exception:\n",
        "    # This requires some extra dependencies and is optional\n",
        "    pass"
      ]
    },
    {
      "cell_type": "code",
      "execution_count": 31,
      "metadata": {
        "colab": {
          "base_uri": "https://localhost:8080/"
        },
        "id": "I6-tAa2KRGZ3",
        "outputId": "ae2c5336-c991-4fd0-c7f2-36ba37a64432"
      },
      "outputs": [
        {
          "output_type": "stream",
          "name": "stdout",
          "text": [
            "User: q\n",
            "Goodbye!\n"
          ]
        }
      ],
      "source": [
        "while True:\n",
        "    try:\n",
        "        user_input = input(\"User: \")\n",
        "        if user_input.lower() in [\"quit\", \"exit\", \"q\"]:\n",
        "            print(\"Goodbye!\")\n",
        "            break\n",
        "\n",
        "        stream_graph_updates(user_input)\n",
        "    except:\n",
        "        # fallback if input() is not available\n",
        "        user_input = \"What do you know about LangGraph?\"\n",
        "        print(\"User: \" + user_input)\n",
        "        stream_graph_updates(user_input)\n",
        "        break"
      ]
    },
    {
      "cell_type": "code",
      "execution_count": 32,
      "metadata": {
        "id": "1hebALb-aHYn"
      },
      "outputs": [],
      "source": [
        "from langgraph.checkpoint.memory import MemorySaver\n",
        "\n",
        "memory = MemorySaver()"
      ]
    },
    {
      "cell_type": "code",
      "execution_count": 33,
      "metadata": {
        "colab": {
          "base_uri": "https://localhost:8080/"
        },
        "collapsed": true,
        "id": "uXFTcGKwaQC_",
        "outputId": "2911ed59-ace1-4c00-a3c4-b4f87daad533"
      },
      "outputs": [
        {
          "output_type": "execute_result",
          "data": {
            "text/plain": [
              "['__abstractmethods__',\n",
              " '__aenter__',\n",
              " '__aexit__',\n",
              " '__annotations__',\n",
              " '__class__',\n",
              " '__class_getitem__',\n",
              " '__delattr__',\n",
              " '__dict__',\n",
              " '__dir__',\n",
              " '__doc__',\n",
              " '__enter__',\n",
              " '__eq__',\n",
              " '__exit__',\n",
              " '__format__',\n",
              " '__ge__',\n",
              " '__getattribute__',\n",
              " '__getstate__',\n",
              " '__gt__',\n",
              " '__hash__',\n",
              " '__init__',\n",
              " '__init_subclass__',\n",
              " '__le__',\n",
              " '__lt__',\n",
              " '__module__',\n",
              " '__ne__',\n",
              " '__new__',\n",
              " '__orig_bases__',\n",
              " '__parameters__',\n",
              " '__reduce__',\n",
              " '__reduce_ex__',\n",
              " '__repr__',\n",
              " '__setattr__',\n",
              " '__sizeof__',\n",
              " '__slots__',\n",
              " '__str__',\n",
              " '__subclasshook__',\n",
              " '__weakref__',\n",
              " '_abc_impl',\n",
              " '_is_protocol',\n",
              " 'aget',\n",
              " 'aget_tuple',\n",
              " 'alist',\n",
              " 'aput',\n",
              " 'aput_writes',\n",
              " 'config_specs',\n",
              " 'get',\n",
              " 'get_next_version',\n",
              " 'get_tuple',\n",
              " 'list',\n",
              " 'put',\n",
              " 'put_writes',\n",
              " 'serde',\n",
              " 'stack',\n",
              " 'storage',\n",
              " 'writes']"
            ]
          },
          "metadata": {},
          "execution_count": 33
        }
      ],
      "source": [
        "dir(memory)"
      ]
    },
    {
      "cell_type": "code",
      "execution_count": 34,
      "metadata": {
        "colab": {
          "base_uri": "https://localhost:8080/"
        },
        "id": "Ei6po6XeaXjj",
        "outputId": "e6ad9681-3817-450a-b769-bd93b0308588"
      },
      "outputs": [
        {
          "output_type": "execute_result",
          "data": {
            "text/plain": [
              "<langgraph.graph.state.StateGraph at 0x79edb774a150>"
            ]
          },
          "metadata": {},
          "execution_count": 34
        }
      ],
      "source": [
        "from typing import Annotated\n",
        "\n",
        "from langchain_community.tools.tavily_search import TavilySearchResults\n",
        "from langchain_core.messages import BaseMessage\n",
        "from typing_extensions import TypedDict\n",
        "\n",
        "from langgraph.graph import StateGraph, START, END\n",
        "from langgraph.graph.message import add_messages\n",
        "from langgraph.prebuilt import ToolNode, tools_condition\n",
        "\n",
        "\n",
        "class State(TypedDict):\n",
        "    messages: Annotated[list, add_messages]\n",
        "\n",
        "\n",
        "graph_builder = StateGraph(State)\n",
        "\n",
        "\n",
        "tool = TavilySearchResults(max_results=2)\n",
        "tools = [tool]\n",
        "llm_with_tools = llm.bind_tools(tools)\n",
        "\n",
        "\n",
        "def chatbot(state: State):\n",
        "    return {\"messages\": [llm_with_tools.invoke(state[\"messages\"])]}\n",
        "\n",
        "\n",
        "graph_builder.add_node(\"chatbot\", chatbot)\n",
        "\n",
        "tool_node = ToolNode(tools=[tool])\n",
        "graph_builder.add_node(\"tools\", tool_node)\n",
        "\n",
        "graph_builder.add_conditional_edges(\n",
        "    \"chatbot\",\n",
        "    tools_condition,\n",
        ")\n",
        "# Any time a tool is called, we return to the chatbot to decide the next step\n",
        "graph_builder.add_edge(\"tools\", \"chatbot\")\n",
        "graph_builder.add_edge(START, \"chatbot\")"
      ]
    },
    {
      "cell_type": "code",
      "execution_count": 35,
      "metadata": {
        "id": "8XJU5OeFaftl"
      },
      "outputs": [],
      "source": [
        "graph = graph_builder.compile(checkpointer=memory)"
      ]
    },
    {
      "cell_type": "code",
      "execution_count": 36,
      "metadata": {
        "colab": {
          "base_uri": "https://localhost:8080/",
          "height": 266
        },
        "id": "0rCXllfHaoo1",
        "outputId": "772501b7-08eb-46e7-f8e6-04618a54cd47"
      },
      "outputs": [
        {
          "output_type": "display_data",
          "data": {
            "image/png": "[encoded data removed]",
            "text/plain": [
              "<IPython.core.display.Image object>"
            ]
          },
          "metadata": {}
        }
      ],
      "source": [
        "from IPython.display import Image, display\n",
        "\n",
        "try:\n",
        "    display(Image(graph.get_graph().draw_mermaid_png()))\n",
        "except Exception:\n",
        "    # This requires some extra dependencies and is optional\n",
        "    pass"
      ]
    },
    {
      "cell_type": "code",
      "execution_count": 37,
      "metadata": {
        "id": "X0oFD6B5auUT"
      },
      "outputs": [],
      "source": [
        "config = {\"configurable\": {\"thread_id\": \"1\"}}"
      ]
    },
    {
      "cell_type": "code",
      "execution_count": 38,
      "metadata": {
        "colab": {
          "base_uri": "https://localhost:8080/"
        },
        "id": "muTo3zpoa1Ca",
        "outputId": "4ba4cb75-5cf3-402c-f81d-3641a2e281a4"
      },
      "outputs": [
        {
          "output_type": "stream",
          "name": "stdout",
          "text": [
            "================================\u001b[1m Human Message \u001b[0m=================================\n",
            "\n",
            "Hi there! My name is Will.\n",
            "==================================\u001b[1m Ai Message \u001b[0m==================================\n",
            "\n",
            "Nice to meet you, Will! How can I help you today?\n"
          ]
        }
      ],
      "source": [
        "user_input = \"Hi there! My name is Will.\"\n",
        "\n",
        "# The config is the **second positional argument** to stream() or invoke()!\n",
        "events = graph.stream(\n",
        "    {\"messages\": [(\"user\", user_input)]}, config, stream_mode=\"values\"\n",
        ")\n",
        "for event in events:\n",
        "    event[\"messages\"][-1].pretty_print()"
      ]
    },
    {
      "cell_type": "code",
      "execution_count": 39,
      "metadata": {
        "colab": {
          "base_uri": "https://localhost:8080/"
        },
        "id": "xo3imUJRLWdZ",
        "outputId": "565372c4-bd56-4db6-e4d3-f1cc122a8a05"
      },
      "outputs": [
        {
          "output_type": "execute_result",
          "data": {
            "text/plain": [
              "StateSnapshot(values={'messages': [HumanMessage(content='Hi there! My name is Will.', additional_kwargs={}, response_metadata={}, id='615439a8-d6a3-4789-88bd-6c26a51af907'), AIMessage(content='Nice to meet you, Will! How can I help you today?', additional_kwargs={}, response_metadata={'prompt_feedback': {'block_reason': 0, 'safety_ratings': []}, 'finish_reason': 'STOP', 'safety_ratings': []}, id='run-37a95558-700e-4739-b628-293e5303da01-0', usage_metadata={'input_tokens': 82, 'output_tokens': 15, 'total_tokens': 97, 'input_token_details': {'cache_read': 0}})]}, next=(), config={'configurable': {'thread_id': '1', 'checkpoint_ns': '', 'checkpoint_id': '1efe142b-1a20-6692-8001-8dc29fddb7c3'}}, metadata={'source': 'loop', 'writes': {'chatbot': {'messages': [AIMessage(content='Nice to meet you, Will! How can I help you today?', additional_kwargs={}, response_metadata={'prompt_feedback': {'block_reason': 0, 'safety_ratings': []}, 'finish_reason': 'STOP', 'safety_ratings': []}, id='run-37a95558-700e-4739-b628-293e5303da01-0', usage_metadata={'input_tokens': 82, 'output_tokens': 15, 'total_tokens': 97, 'input_token_details': {'cache_read': 0}})]}}, 'thread_id': '1', 'step': 1, 'parents': {}}, created_at='2025-02-02T08:50:03.605122+00:00', parent_config={'configurable': {'thread_id': '1', 'checkpoint_ns': '', 'checkpoint_id': '1efe142b-160c-6552-8000-cc9f67488b63'}}, tasks=())"
            ]
          },
          "metadata": {},
          "execution_count": 39
        }
      ],
      "source": [
        "snapshot = graph.get_state(config)\n",
        "snapshot"
      ]
    },
    {
      "cell_type": "code",
      "execution_count": 40,
      "metadata": {
        "colab": {
          "base_uri": "https://localhost:8080/"
        },
        "id": "cig7xoqKbqc8",
        "outputId": "2a06f8be-9a52-4c6f-84d8-26eec9a8dab0"
      },
      "outputs": [
        {
          "output_type": "execute_result",
          "data": {
            "text/plain": [
              "<langgraph.graph.state.StateGraph at 0x79edd80c8110>"
            ]
          },
          "metadata": {},
          "execution_count": 40
        }
      ],
      "source": [
        "from typing import Annotated\n",
        "\n",
        "from langchain_community.tools.tavily_search import TavilySearchResults\n",
        "from typing_extensions import TypedDict\n",
        "\n",
        "from langgraph.checkpoint.memory import MemorySaver\n",
        "from langgraph.graph import StateGraph, START\n",
        "from langgraph.graph.message import add_messages\n",
        "from langgraph.prebuilt import ToolNode, tools_condition\n",
        "\n",
        "memory = MemorySaver()\n",
        "\n",
        "\n",
        "class State(TypedDict):\n",
        "    messages: Annotated[list, add_messages]\n",
        "\n",
        "\n",
        "graph_builder = StateGraph(State)\n",
        "\n",
        "\n",
        "tool = TavilySearchResults(max_results=2)\n",
        "tools = [tool]\n",
        "llm_with_tools = llm.bind_tools(tools)\n",
        "\n",
        "\n",
        "def chatbot(state: State):\n",
        "    return {\"messages\": [llm_with_tools.invoke(state[\"messages\"])]}\n",
        "\n",
        "\n",
        "graph_builder.add_node(\"chatbot\", chatbot)\n",
        "\n",
        "tool_node = ToolNode(tools=[tool])\n",
        "graph_builder.add_node(\"tools\", tool_node)\n",
        "\n",
        "graph_builder.add_conditional_edges(\n",
        "    \"chatbot\",\n",
        "    tools_condition,\n",
        ")\n",
        "graph_builder.add_edge(\"tools\", \"chatbot\")\n",
        "graph_builder.add_edge(START, \"chatbot\")"
      ]
    },
    {
      "cell_type": "code",
      "execution_count": 41,
      "metadata": {
        "id": "RGyAy5l2dEfQ"
      },
      "outputs": [],
      "source": [
        "graph = graph_builder.compile(\n",
        "    checkpointer=memory,\n",
        "    # This is new!\n",
        "    interrupt_before=[\"tools\"],\n",
        "    # Note: can also interrupt __after__ tools, if desired.\n",
        "    # interrupt_after=[\"tools\"]\n",
        ")"
      ]
    },
    {
      "cell_type": "code",
      "execution_count": 42,
      "metadata": {
        "colab": {
          "base_uri": "https://localhost:8080/"
        },
        "id": "bPpfN6OndVna",
        "outputId": "ae24551b-c6cc-455e-c2ea-85ac523715db"
      },
      "outputs": [
        {
          "output_type": "stream",
          "name": "stdout",
          "text": [
            "================================\u001b[1m Human Message \u001b[0m=================================\n",
            "\n",
            "I AM LEARNING LANGGRAPH, COULD YOU SEARCH ON IT FOR ME\n",
            "==================================\u001b[1m Ai Message \u001b[0m==================================\n",
            "Tool Calls:\n",
            "  tavily_search_results_json (1e42cbd6-9f37-4972-b8c7-ddf71f648caa)\n",
            " Call ID: 1e42cbd6-9f37-4972-b8c7-ddf71f648caa\n",
            "  Args:\n",
            "    query: LangGraph\n"
          ]
        }
      ],
      "source": [
        "user_input = \"I AM LEARNING LANGGRAPH, COULD YOU SEARCH ON IT FOR ME\"\n",
        "config = {\"configurable\": {\"thread_id\": \"3\"}}\n",
        "# The config is the **second positional argument** to stream() or invoke()!\n",
        "events = graph.stream(\n",
        "    {\"messages\": [(\"user\", user_input)]}, config, stream_mode=\"values\"\n",
        ")\n",
        "for event in events:\n",
        "    if \"messages\" in event:\n",
        "        event[\"messages\"][-1].pretty_print()"
      ]
    },
    {
      "cell_type": "code",
      "execution_count": 43,
      "metadata": {
        "colab": {
          "base_uri": "https://localhost:8080/"
        },
        "collapsed": true,
        "id": "NtAuY3jMinPi",
        "outputId": "76357b02-eda6-4ece-db30-bdb84d9b4ea3"
      },
      "outputs": [
        {
          "output_type": "execute_result",
          "data": {
            "text/plain": [
              "['InputType',\n",
              " 'OutputType',\n",
              " '__abstractmethods__',\n",
              " '__annotations__',\n",
              " '__class__',\n",
              " '__class_getitem__',\n",
              " '__delattr__',\n",
              " '__dict__',\n",
              " '__dir__',\n",
              " '__doc__',\n",
              " '__eq__',\n",
              " '__format__',\n",
              " '__ge__',\n",
              " '__getattribute__',\n",
              " '__getstate__',\n",
              " '__gt__',\n",
              " '__hash__',\n",
              " '__init__',\n",
              " '__init_subclass__',\n",
              " '__le__',\n",
              " '__lt__',\n",
              " '__module__',\n",
              " '__ne__',\n",
              " '__new__',\n",
              " '__or__',\n",
              " '__orig_bases__',\n",
              " '__parameters__',\n",
              " '__reduce__',\n",
              " '__reduce_ex__',\n",
              " '__repr__',\n",
              " '__ror__',\n",
              " '__setattr__',\n",
              " '__sizeof__',\n",
              " '__slots__',\n",
              " '__str__',\n",
              " '__subclasshook__',\n",
              " '__weakref__',\n",
              " '_abatch_with_config',\n",
              " '_abc_impl',\n",
              " '_acall_with_config',\n",
              " '_aprepare_state_snapshot',\n",
              " '_atransform_stream_with_config',\n",
              " '_batch_with_config',\n",
              " '_call_with_config',\n",
              " '_defaults',\n",
              " '_is_protocol',\n",
              " '_prepare_state_snapshot',\n",
              " '_repr_mimebundle_',\n",
              " '_transform_stream_with_config',\n",
              " 'abatch',\n",
              " 'abatch_as_completed',\n",
              " 'aget_graph',\n",
              " 'aget_state',\n",
              " 'aget_state_history',\n",
              " 'aget_subgraphs',\n",
              " 'ainvoke',\n",
              " 'as_tool',\n",
              " 'assign',\n",
              " 'astream',\n",
              " 'astream_events',\n",
              " 'astream_log',\n",
              " 'atransform',\n",
              " 'attach_branch',\n",
              " 'attach_edge',\n",
              " 'attach_node',\n",
              " 'aupdate_state',\n",
              " 'batch',\n",
              " 'batch_as_completed',\n",
              " 'bind',\n",
              " 'builder',\n",
              " 'channels',\n",
              " 'checkpointer',\n",
              " 'config',\n",
              " 'config_schema',\n",
              " 'config_specs',\n",
              " 'config_type',\n",
              " 'copy',\n",
              " 'debug',\n",
              " 'get_config_jsonschema',\n",
              " 'get_graph',\n",
              " 'get_input_jsonschema',\n",
              " 'get_input_schema',\n",
              " 'get_name',\n",
              " 'get_output_jsonschema',\n",
              " 'get_output_schema',\n",
              " 'get_prompts',\n",
              " 'get_state',\n",
              " 'get_state_history',\n",
              " 'get_subgraphs',\n",
              " 'input_channels',\n",
              " 'input_schema',\n",
              " 'interrupt_after_nodes',\n",
              " 'interrupt_before_nodes',\n",
              " 'invoke',\n",
              " 'map',\n",
              " 'name',\n",
              " 'nodes',\n",
              " 'output_channels',\n",
              " 'output_schema',\n",
              " 'pick',\n",
              " 'pipe',\n",
              " 'retry_policy',\n",
              " 'step_timeout',\n",
              " 'store',\n",
              " 'stream',\n",
              " 'stream_channels',\n",
              " 'stream_channels_asis',\n",
              " 'stream_channels_list',\n",
              " 'stream_eager',\n",
              " 'stream_mode',\n",
              " 'transform',\n",
              " 'update_state',\n",
              " 'validate',\n",
              " 'with_alisteners',\n",
              " 'with_config',\n",
              " 'with_fallbacks',\n",
              " 'with_listeners',\n",
              " 'with_retry',\n",
              " 'with_types']"
            ]
          },
          "metadata": {},
          "execution_count": 43
        }
      ],
      "source": [
        "dir(graph)\n"
      ]
    },
    {
      "cell_type": "code",
      "execution_count": 44,
      "metadata": {
        "colab": {
          "base_uri": "https://localhost:8080/"
        },
        "id": "bER96FZpihTX",
        "outputId": "eacc2533-8b75-4ef7-9c29-1d246b1f7367"
      },
      "outputs": [
        {
          "output_type": "execute_result",
          "data": {
            "text/plain": [
              "StateSnapshot(values={'messages': [HumanMessage(content='Hi there! My name is Will.', additional_kwargs={}, response_metadata={}, id='615439a8-d6a3-4789-88bd-6c26a51af907'), AIMessage(content='Nice to meet you, Will! How can I help you today?', additional_kwargs={}, response_metadata={'prompt_feedback': {'block_reason': 0, 'safety_ratings': []}, 'finish_reason': 'STOP', 'safety_ratings': []}, id='run-37a95558-700e-4739-b628-293e5303da01-0', usage_metadata={'input_tokens': 82, 'output_tokens': 15, 'total_tokens': 97, 'input_token_details': {'cache_read': 0}})]}, next=(), config={'configurable': {'thread_id': '1', 'checkpoint_ns': '', 'checkpoint_id': '1efe142b-1a20-6692-8001-8dc29fddb7c3'}}, metadata={'source': 'loop', 'writes': {'chatbot': {'messages': [AIMessage(content='Nice to meet you, Will! How can I help you today?', additional_kwargs={}, response_metadata={'prompt_feedback': {'block_reason': 0, 'safety_ratings': []}, 'finish_reason': 'STOP', 'safety_ratings': []}, id='run-37a95558-700e-4739-b628-293e5303da01-0', usage_metadata={'input_tokens': 82, 'output_tokens': 15, 'total_tokens': 97, 'input_token_details': {'cache_read': 0}})]}}, 'thread_id': '1', 'step': 1, 'parents': {}}, created_at='2025-02-02T08:50:03.605122+00:00', parent_config={'configurable': {'thread_id': '1', 'checkpoint_ns': '', 'checkpoint_id': '1efe142b-160c-6552-8000-cc9f67488b63'}}, tasks=())"
            ]
          },
          "metadata": {},
          "execution_count": 44
        }
      ],
      "source": [
        "snapshot\n"
      ]
    },
    {
      "cell_type": "code",
      "execution_count": 45,
      "metadata": {
        "colab": {
          "base_uri": "https://localhost:8080/"
        },
        "id": "O8krJ0icsiK3",
        "outputId": "b804e789-bee9-4c84-cc5d-6275df25b6ff"
      },
      "outputs": [
        {
          "output_type": "execute_result",
          "data": {
            "text/plain": [
              "{'configurable': {'thread_id': '1',\n",
              "  'checkpoint_ns': '',\n",
              "  'checkpoint_id': '1efe142b-1a20-6692-8001-8dc29fddb7c3'}}"
            ]
          },
          "metadata": {},
          "execution_count": 45
        }
      ],
      "source": [
        "snapshot.config     # current state     thread id\n"
      ]
    },
    {
      "cell_type": "code",
      "execution_count": 46,
      "metadata": {
        "id": "2WPJWHnQsCRN"
      },
      "outputs": [],
      "source": [
        "snapshot = graph.get_state(config)\n"
      ]
    },
    {
      "cell_type": "code",
      "execution_count": 47,
      "metadata": {
        "colab": {
          "base_uri": "https://localhost:8080/"
        },
        "id": "MltdYxLQPl3c",
        "outputId": "69904884-27a5-499b-d5a7-d80ae25de1fd"
      },
      "outputs": [
        {
          "output_type": "execute_result",
          "data": {
            "text/plain": [
              "StateSnapshot(values={'messages': [HumanMessage(content='I AM LEARNING LANGGRAPH, COULD YOU SEARCH ON IT FOR ME', additional_kwargs={}, response_metadata={}, id='e505a195-e979-4e0b-900e-d054ff6218ba'), AIMessage(content='', additional_kwargs={'function_call': {'name': 'tavily_search_results_json', 'arguments': '{\"query\": \"LangGraph\"}'}}, response_metadata={'prompt_feedback': {'block_reason': 0, 'safety_ratings': []}, 'finish_reason': 'STOP', 'safety_ratings': []}, id='run-bb5e7659-db5e-4641-ad45-99ef480549e4-0', tool_calls=[{'name': 'tavily_search_results_json', 'args': {'query': 'LangGraph'}, 'id': '1e42cbd6-9f37-4972-b8c7-ddf71f648caa', 'type': 'tool_call'}], usage_metadata={'input_tokens': 87, 'output_tokens': 11, 'total_tokens': 98, 'input_token_details': {'cache_read': 0}})]}, next=('tools',), config={'configurable': {'thread_id': '3', 'checkpoint_ns': '', 'checkpoint_id': '1efe142b-2029-627f-8001-1ba5695ff4fb'}}, metadata={'source': 'loop', 'writes': {'chatbot': {'messages': [AIMessage(content='', additional_kwargs={'function_call': {'name': 'tavily_search_results_json', 'arguments': '{\"query\": \"LangGraph\"}'}}, response_metadata={'prompt_feedback': {'block_reason': 0, 'safety_ratings': []}, 'finish_reason': 'STOP', 'safety_ratings': []}, id='run-bb5e7659-db5e-4641-ad45-99ef480549e4-0', tool_calls=[{'name': 'tavily_search_results_json', 'args': {'query': 'LangGraph'}, 'id': '1e42cbd6-9f37-4972-b8c7-ddf71f648caa', 'type': 'tool_call'}], usage_metadata={'input_tokens': 87, 'output_tokens': 11, 'total_tokens': 98, 'input_token_details': {'cache_read': 0}})]}}, 'thread_id': '3', 'step': 1, 'parents': {}}, created_at='2025-02-02T08:50:04.237850+00:00', parent_config={'configurable': {'thread_id': '3', 'checkpoint_ns': '', 'checkpoint_id': '1efe142b-1b3e-6b61-8000-496c64edfc1b'}}, tasks=(PregelTask(id='620867c5-cda5-871a-1069-80910dd33a16', name='tools', path=('__pregel_pull', 'tools'), error=None, interrupts=(), state=None, result=None),))"
            ]
          },
          "metadata": {},
          "execution_count": 47
        }
      ],
      "source": [
        "snapshot"
      ]
    },
    {
      "cell_type": "code",
      "execution_count": 48,
      "metadata": {
        "colab": {
          "base_uri": "https://localhost:8080/"
        },
        "id": "aSzcByQNPZkK",
        "outputId": "7cedc414-ffa5-4f27-9926-20ca88e0ad52"
      },
      "outputs": [
        {
          "output_type": "execute_result",
          "data": {
            "text/plain": [
              "('tools',)"
            ]
          },
          "metadata": {},
          "execution_count": 48
        }
      ],
      "source": [
        "snapshot.next       # to check next node"
      ]
    },
    {
      "cell_type": "code",
      "execution_count": 49,
      "metadata": {
        "colab": {
          "base_uri": "https://localhost:8080/"
        },
        "id": "seH4f1aitNVF",
        "outputId": "cce984cd-ab0c-4665-89ef-1ec9c1fbd21f"
      },
      "outputs": [
        {
          "output_type": "execute_result",
          "data": {
            "text/plain": [
              "{'messages': [HumanMessage(content='I AM LEARNING LANGGRAPH, COULD YOU SEARCH ON IT FOR ME', additional_kwargs={}, response_metadata={}, id='e505a195-e979-4e0b-900e-d054ff6218ba'),\n",
              "  AIMessage(content='', additional_kwargs={'function_call': {'name': 'tavily_search_results_json', 'arguments': '{\"query\": \"LangGraph\"}'}}, response_metadata={'prompt_feedback': {'block_reason': 0, 'safety_ratings': []}, 'finish_reason': 'STOP', 'safety_ratings': []}, id='run-bb5e7659-db5e-4641-ad45-99ef480549e4-0', tool_calls=[{'name': 'tavily_search_results_json', 'args': {'query': 'LangGraph'}, 'id': '1e42cbd6-9f37-4972-b8c7-ddf71f648caa', 'type': 'tool_call'}], usage_metadata={'input_tokens': 87, 'output_tokens': 11, 'total_tokens': 98, 'input_token_details': {'cache_read': 0}})]}"
            ]
          },
          "metadata": {},
          "execution_count": 49
        }
      ],
      "source": [
        "snapshot.values"
      ]
    },
    {
      "cell_type": "code",
      "execution_count": 50,
      "metadata": {
        "colab": {
          "base_uri": "https://localhost:8080/"
        },
        "id": "hgX48rxGtWzo",
        "outputId": "1ab2bc39-07f1-4fa5-ae0f-b6b5c3905170"
      },
      "outputs": [
        {
          "output_type": "execute_result",
          "data": {
            "text/plain": [
              "[HumanMessage(content='I AM LEARNING LANGGRAPH, COULD YOU SEARCH ON IT FOR ME', additional_kwargs={}, response_metadata={}, id='e505a195-e979-4e0b-900e-d054ff6218ba'),\n",
              " AIMessage(content='', additional_kwargs={'function_call': {'name': 'tavily_search_results_json', 'arguments': '{\"query\": \"LangGraph\"}'}}, response_metadata={'prompt_feedback': {'block_reason': 0, 'safety_ratings': []}, 'finish_reason': 'STOP', 'safety_ratings': []}, id='run-bb5e7659-db5e-4641-ad45-99ef480549e4-0', tool_calls=[{'name': 'tavily_search_results_json', 'args': {'query': 'LangGraph'}, 'id': '1e42cbd6-9f37-4972-b8c7-ddf71f648caa', 'type': 'tool_call'}], usage_metadata={'input_tokens': 87, 'output_tokens': 11, 'total_tokens': 98, 'input_token_details': {'cache_read': 0}})]"
            ]
          },
          "metadata": {},
          "execution_count": 50
        }
      ],
      "source": [
        "snapshot.values['messages']"
      ]
    },
    {
      "cell_type": "code",
      "execution_count": 51,
      "metadata": {
        "colab": {
          "base_uri": "https://localhost:8080/"
        },
        "id": "59s6CbPds9te",
        "outputId": "e8a32410-9fbd-43c8-abad-0ed54f025da2"
      },
      "outputs": [
        {
          "output_type": "stream",
          "name": "stdout",
          "text": [
            "==================================\u001b[1m Ai Message \u001b[0m==================================\n",
            "Tool Calls:\n",
            "  tavily_search_results_json (1e42cbd6-9f37-4972-b8c7-ddf71f648caa)\n",
            " Call ID: 1e42cbd6-9f37-4972-b8c7-ddf71f648caa\n",
            "  Args:\n",
            "    query: LangGraph\n"
          ]
        }
      ],
      "source": [
        "existing_message = snapshot.values[\"messages\"][-1]\n",
        "existing_message.pretty_print()\n",
        "\n",
        "\n",
        "\n"
      ]
    },
    {
      "cell_type": "code",
      "execution_count": 52,
      "metadata": {
        "colab": {
          "base_uri": "https://localhost:8080/"
        },
        "id": "pZB44FGQuLnC",
        "outputId": "3dd329f7-4471-4115-c558-f849f8506c41"
      },
      "outputs": [
        {
          "output_type": "execute_result",
          "data": {
            "text/plain": [
              "[{'name': 'tavily_search_results_json',\n",
              "  'args': {'query': 'LangGraph'},\n",
              "  'id': '1e42cbd6-9f37-4972-b8c7-ddf71f648caa',\n",
              "  'type': 'tool_call'}]"
            ]
          },
          "metadata": {},
          "execution_count": 52
        }
      ],
      "source": [
        "existing_message.tool_calls"
      ]
    },
    {
      "cell_type": "code",
      "execution_count": 53,
      "metadata": {
        "colab": {
          "base_uri": "https://localhost:8080/"
        },
        "id": "f3k64GXAt9OQ",
        "outputId": "9cda1612-38b7-4ab1-cd97-08af0e6f0818"
      },
      "outputs": [
        {
          "output_type": "stream",
          "name": "stdout",
          "text": [
            "==================================\u001b[1m Ai Message \u001b[0m==================================\n",
            "Tool Calls:\n",
            "  tavily_search_results_json (1e42cbd6-9f37-4972-b8c7-ddf71f648caa)\n",
            " Call ID: 1e42cbd6-9f37-4972-b8c7-ddf71f648caa\n",
            "  Args:\n",
            "    query: LangGraph\n"
          ]
        }
      ],
      "source": [
        "existing_message = snapshot.values[\"messages\"][-1]\n",
        "existing_message.pretty_print()"
      ]
    },
    {
      "cell_type": "code",
      "execution_count": 54,
      "metadata": {
        "colab": {
          "base_uri": "https://localhost:8080/"
        },
        "id": "Y6UzIEgGtryU",
        "outputId": "63a17e48-5b75-45a3-8fe5-7d15938d1583"
      },
      "outputs": [
        {
          "output_type": "execute_result",
          "data": {
            "text/plain": [
              "[{'name': 'tavily_search_results_json',\n",
              "  'args': {'query': 'LangGraph framework for building language model applications'},\n",
              "  'id': 'toolu_01R4ZFcb5hohpiVZwr88Bxhc',\n",
              "  'type': 'tool_call'}]"
            ]
          },
          "metadata": {},
          "execution_count": 54
        }
      ],
      "source": [
        "[{'name': 'tavily_search_results_json',\n",
        "  'args': {'query': 'LangGraph framework for building language model applications'},\n",
        "  'id': 'toolu_01R4ZFcb5hohpiVZwr88Bxhc',\n",
        "  'type': 'tool_call'}]"
      ]
    },
    {
      "cell_type": "code",
      "execution_count": 55,
      "metadata": {
        "colab": {
          "base_uri": "https://localhost:8080/"
        },
        "id": "KrQSUMNV3Jn1",
        "outputId": "25f36eae-c070-4c76-92d4-ebd6fa094dd2"
      },
      "outputs": [
        {
          "output_type": "stream",
          "name": "stdout",
          "text": [
            "==================================\u001b[1m Ai Message \u001b[0m==================================\n",
            "Tool Calls:\n",
            "  tavily_search_results_json (1e42cbd6-9f37-4972-b8c7-ddf71f648caa)\n",
            " Call ID: 1e42cbd6-9f37-4972-b8c7-ddf71f648caa\n",
            "  Args:\n",
            "    query: LangGraph\n",
            "=================================\u001b[1m Tool Message \u001b[0m=================================\n",
            "Name: tavily_search_results_json\n",
            "\n",
            "[{\"url\": \"https://langchain-ai.github.io/langgraph/\", \"content\": \"Overview¶. LangGraph is a library for building stateful, multi-actor applications with LLMs, used to create agent and multi-agent workflows. Check out an introductory tutorial here.. LangGraph is inspired by Pregel and Apache Beam.The public interface draws inspiration from NetworkX.LangGraph is built by LangChain Inc, the creators of LangChain, but can be used without LangChain.\"}, {\"url\": \"https://www.datacamp.com/tutorial/langgraph-tutorial\", \"content\": \"LangGraph is a library within the LangChain ecosystem that simplifies the development of complex, multi-agent large language model (LLM) applications. Learn how to use LangGraph to create stateful, flexible, and scalable systems with nodes, edges, and state management.\"}]\n",
            "==================================\u001b[1m Ai Message \u001b[0m==================================\n",
            "\n",
            "LangGraph is a library for building stateful, multi-actor applications with LLMs, used to create agent and multi-agent workflows.  It's part of the LangChain ecosystem and is inspired by Pregel and Apache Beam.  You can find more information and tutorials online.\n"
          ]
        }
      ],
      "source": [
        "# `None` will append nothing new to the current state, letting it resume as if it had never been interrupted\n",
        "events = graph.stream(None, config, stream_mode=\"values\")\n",
        "for event in events:\n",
        "    if \"messages\" in event:\n",
        "        event[\"messages\"][-1].pretty_print()"
      ]
    },
    {
      "cell_type": "code",
      "execution_count": 56,
      "metadata": {
        "id": "h99cSzX2TCwq"
      },
      "outputs": [],
      "source": [
        "from typing import Annotated\n",
        "\n",
        "from langchain_community.tools.tavily_search import TavilySearchResults\n",
        "from typing_extensions import TypedDict\n",
        "\n",
        "from langgraph.checkpoint.memory import MemorySaver\n",
        "from langgraph.graph import StateGraph, START\n",
        "from langgraph.graph.message import add_messages\n",
        "from langgraph.prebuilt import ToolNode, tools_condition\n",
        "\n",
        "\n",
        "class State(TypedDict):\n",
        "    messages: Annotated[list, add_messages]\n",
        "\n",
        "\n",
        "graph_builder = StateGraph(State)\n",
        "\n",
        "\n",
        "tool = TavilySearchResults(max_results=2)\n",
        "tools = [tool]\n",
        "llm_with_tools = llm.bind_tools(tools)\n",
        "\n",
        "\n",
        "def chatbot(state: State):\n",
        "    return {\"messages\": [llm_with_tools.invoke(state[\"messages\"])]}\n",
        "\n",
        "\n",
        "graph_builder.add_node(\"chatbot\", chatbot)\n",
        "\n",
        "tool_node = ToolNode(tools=[tool])\n",
        "graph_builder.add_node(\"tools\", tool_node)\n",
        "\n",
        "graph_builder.add_conditional_edges(\n",
        "    \"chatbot\",\n",
        "    tools_condition,\n",
        ")\n",
        "graph_builder.add_edge(\"tools\", \"chatbot\")\n",
        "graph_builder.add_edge(START, \"chatbot\")\n",
        "memory = MemorySaver()\n",
        "graph = graph_builder.compile(\n",
        "    checkpointer=memory,\n",
        "    # This is new!\n",
        "    interrupt_before=[\"tools\"],\n",
        "    # Note: can also interrupt **after** actions, if desired.\n",
        "    # interrupt_after=[\"tools\"]\n",
        ")\n",
        "\n",
        "user_input = \"I'm learning LangGraph. search on it for me?\"\n",
        "config = {\"configurable\": {\"thread_id\": \"4\"}}\n",
        "# The config is the **second positional argument** to stream() or invoke()!\n",
        "events = graph.stream({\"messages\": [(\"user\", user_input)]}, config)\n",
        "for event in events:\n",
        "    if \"messages\" in event:\n",
        "        event[\"messages\"][-1].pretty_print()"
      ]
    },
    {
      "cell_type": "code",
      "execution_count": 57,
      "metadata": {
        "id": "H8_tOehOU0p3"
      },
      "outputs": [],
      "source": [
        "snapshot = graph.get_state(config)\n"
      ]
    },
    {
      "cell_type": "code",
      "execution_count": 58,
      "metadata": {
        "colab": {
          "base_uri": "https://localhost:8080/"
        },
        "id": "xpYgY2bdVKe1",
        "outputId": "f4022468-a5c6-4146-e896-a1e106581d95"
      },
      "outputs": [
        {
          "output_type": "execute_result",
          "data": {
            "text/plain": [
              "StateSnapshot(values={'messages': [HumanMessage(content=\"I'm learning LangGraph. search on it for me?\", additional_kwargs={}, response_metadata={}, id='46f0eac7-149f-42f9-9ac2-afce1d196710'), AIMessage(content='', additional_kwargs={'function_call': {'name': 'tavily_search_results_json', 'arguments': '{\"query\": \"LangGraph\"}'}}, response_metadata={'prompt_feedback': {'block_reason': 0, 'safety_ratings': []}, 'finish_reason': 'STOP', 'safety_ratings': []}, id='run-760259b1-bc9a-4a95-b5c1-f9fb30015f16-0', tool_calls=[{'name': 'tavily_search_results_json', 'args': {'query': 'LangGraph'}, 'id': '127bf7bb-986b-4aa3-8e08-1bb168ee165e', 'type': 'tool_call'}], usage_metadata={'input_tokens': 87, 'output_tokens': 11, 'total_tokens': 98, 'input_token_details': {'cache_read': 0}})]}, next=('tools',), config={'configurable': {'thread_id': '4', 'checkpoint_ns': '', 'checkpoint_id': '1efe142b-454b-67ef-8001-11da006db835'}}, metadata={'source': 'loop', 'writes': {'chatbot': {'messages': [AIMessage(content='', additional_kwargs={'function_call': {'name': 'tavily_search_results_json', 'arguments': '{\"query\": \"LangGraph\"}'}}, response_metadata={'prompt_feedback': {'block_reason': 0, 'safety_ratings': []}, 'finish_reason': 'STOP', 'safety_ratings': []}, id='run-760259b1-bc9a-4a95-b5c1-f9fb30015f16-0', tool_calls=[{'name': 'tavily_search_results_json', 'args': {'query': 'LangGraph'}, 'id': '127bf7bb-986b-4aa3-8e08-1bb168ee165e', 'type': 'tool_call'}], usage_metadata={'input_tokens': 87, 'output_tokens': 11, 'total_tokens': 98, 'input_token_details': {'cache_read': 0}})]}}, 'thread_id': '4', 'step': 1, 'parents': {}}, created_at='2025-02-02T08:50:08.131617+00:00', parent_config={'configurable': {'thread_id': '4', 'checkpoint_ns': '', 'checkpoint_id': '1efe142b-4098-6355-8000-71cb3f25becc'}}, tasks=(PregelTask(id='0fb49851-c466-7536-2ad9-8f0a1c509cda', name='tools', path=('__pregel_pull', 'tools'), error=None, interrupts=(), state=None, result=None),))"
            ]
          },
          "metadata": {},
          "execution_count": 58
        }
      ],
      "source": [
        "snapshot"
      ]
    },
    {
      "cell_type": "code",
      "execution_count": 59,
      "metadata": {
        "colab": {
          "base_uri": "https://localhost:8080/"
        },
        "id": "vOCSNXtWVABo",
        "outputId": "668fe870-717c-407d-91c5-0acdb0977f1f"
      },
      "outputs": [
        {
          "output_type": "stream",
          "name": "stdout",
          "text": [
            "==================================\u001b[1m Ai Message \u001b[0m==================================\n",
            "Tool Calls:\n",
            "  tavily_search_results_json (127bf7bb-986b-4aa3-8e08-1bb168ee165e)\n",
            " Call ID: 127bf7bb-986b-4aa3-8e08-1bb168ee165e\n",
            "  Args:\n",
            "    query: LangGraph\n"
          ]
        }
      ],
      "source": [
        "existing_message = snapshot.values[\"messages\"][-1]\n",
        "existing_message.pretty_print()"
      ]
    },
    {
      "cell_type": "code",
      "execution_count": 60,
      "metadata": {
        "id": "BbYknNo2hhV6"
      },
      "outputs": [],
      "source": [
        "from langchain_core.messages import AIMessage, ToolMessage\n",
        "\n",
        "tavily_answer = (\n",
        "    \"LangGraph is a library for building stateful, multi-actor applications with LLMs, used to create agent and multi-agent workflows.  It's part of the LangChain ecosystem and draws inspiration from Pregel and Apache Beam.  You can find more information and tutorials online.\"\n",
        ")\n",
        "new_messages = [\n",
        "    ToolMessage(content=tavily_answer, tool_call_id=existing_message.tool_calls[0][\"id\"]),\n",
        "    AIMessage(content=tavily_answer),\n",
        "]"
      ]
    },
    {
      "cell_type": "code",
      "execution_count": 61,
      "metadata": {
        "colab": {
          "base_uri": "https://localhost:8080/"
        },
        "id": "aYC3TJythm2b",
        "outputId": "9af8c198-430f-45d5-a081-02bb7d55c418"
      },
      "outputs": [
        {
          "output_type": "stream",
          "name": "stdout",
          "text": [
            "==================================\u001b[1m Ai Message \u001b[0m==================================\n",
            "\n",
            "LangGraph is a library for building stateful, multi-actor applications with LLMs, used to create agent and multi-agent workflows.  It's part of the LangChain ecosystem and draws inspiration from Pregel and Apache Beam.  You can find more information and tutorials online.\n"
          ]
        }
      ],
      "source": [
        "new_messages[-1].pretty_print()"
      ]
    },
    {
      "cell_type": "code",
      "execution_count": 62,
      "metadata": {
        "colab": {
          "base_uri": "https://localhost:8080/"
        },
        "id": "0vriknEvhwcm",
        "outputId": "e11908c9-0d71-4374-f68c-f3364dc757d5"
      },
      "outputs": [
        {
          "output_type": "stream",
          "name": "stdout",
          "text": [
            "=================================\u001b[1m Tool Message \u001b[0m=================================\n",
            "\n",
            "LangGraph is a library for building stateful, multi-actor applications with LLMs, used to create agent and multi-agent workflows.  It's part of the LangChain ecosystem and draws inspiration from Pregel and Apache Beam.  You can find more information and tutorials online.\n",
            "==================================\u001b[1m Ai Message \u001b[0m==================================\n",
            "\n",
            "LangGraph is a library for building stateful, multi-actor applications with LLMs, used to create agent and multi-agent workflows.  It's part of the LangChain ecosystem and draws inspiration from Pregel and Apache Beam.  You can find more information and tutorials online.\n"
          ]
        }
      ],
      "source": [
        "for m in new_messages:\n",
        "  m.pretty_print()"
      ]
    },
    {
      "cell_type": "code",
      "execution_count": 63,
      "metadata": {
        "colab": {
          "base_uri": "https://localhost:8080/"
        },
        "id": "hsmN1dQeiMbt",
        "outputId": "ee8020ba-bbd0-45ae-9611-682fa72666de"
      },
      "outputs": [
        {
          "output_type": "execute_result",
          "data": {
            "text/plain": [
              "{'configurable': {'thread_id': '4',\n",
              "  'checkpoint_ns': '',\n",
              "  'checkpoint_id': '1efe142b-479b-687f-8002-eec311e5f485'}}"
            ]
          },
          "metadata": {},
          "execution_count": 63
        }
      ],
      "source": [
        "\n",
        "\n",
        "graph.update_state(\n",
        "    config,\n",
        "    {\"messages\": new_messages},\n",
        ")\n"
      ]
    },
    {
      "cell_type": "code",
      "execution_count": 64,
      "metadata": {
        "colab": {
          "base_uri": "https://localhost:8080/"
        },
        "id": "G8AcF-xT2ZeZ",
        "outputId": "b143aaf6-af76-454e-8cae-057aef717895"
      },
      "outputs": [
        {
          "output_type": "stream",
          "name": "stdout",
          "text": [
            "\n",
            "\n",
            "Last 2 messages;\n",
            "[ToolMessage(content=\"LangGraph is a library for building stateful, multi-actor applications with LLMs, used to create agent and multi-agent workflows.  It's part of the LangChain ecosystem and draws inspiration from Pregel and Apache Beam.  You can find more information and tutorials online.\", id='94881f7a-d061-4c90-b646-96cc2b2ce538', tool_call_id='127bf7bb-986b-4aa3-8e08-1bb168ee165e'), AIMessage(content=\"LangGraph is a library for building stateful, multi-actor applications with LLMs, used to create agent and multi-agent workflows.  It's part of the LangChain ecosystem and draws inspiration from Pregel and Apache Beam.  You can find more information and tutorials online.\", additional_kwargs={}, response_metadata={}, id='32916c2a-39ba-4a7b-9ab5-f3f7f55736fb')]\n"
          ]
        }
      ],
      "source": [
        "\n",
        "print(\"\\n\\nLast 2 messages;\")\n",
        "print (graph.get_state(config).values[\"messages\"][-2:])"
      ]
    },
    {
      "cell_type": "code",
      "execution_count": 65,
      "metadata": {
        "colab": {
          "base_uri": "https://localhost:8080/"
        },
        "id": "Ny5K1o0ljRMp",
        "outputId": "45689a96-50c3-4d74-eb47-9ad2f62c5a3b"
      },
      "outputs": [
        {
          "output_type": "stream",
          "name": "stdout",
          "text": [
            "================================\u001b[1m Human Message \u001b[0m=================================\n",
            "\n",
            "I'm learning LangGraph. search on it for me?\n",
            "==================================\u001b[1m Ai Message \u001b[0m==================================\n",
            "Tool Calls:\n",
            "  tavily_search_results_json (127bf7bb-986b-4aa3-8e08-1bb168ee165e)\n",
            " Call ID: 127bf7bb-986b-4aa3-8e08-1bb168ee165e\n",
            "  Args:\n",
            "    query: LangGraph\n",
            "=================================\u001b[1m Tool Message \u001b[0m=================================\n",
            "\n",
            "LangGraph is a library for building stateful, multi-actor applications with LLMs, used to create agent and multi-agent workflows.  It's part of the LangChain ecosystem and draws inspiration from Pregel and Apache Beam.  You can find more information and tutorials online.\n",
            "==================================\u001b[1m Ai Message \u001b[0m==================================\n",
            "\n",
            "LangGraph is a library for building stateful, multi-actor applications with LLMs, used to create agent and multi-agent workflows.  It's part of the LangChain ecosystem and draws inspiration from Pregel and Apache Beam.  You can find more information and tutorials online.\n"
          ]
        }
      ],
      "source": [
        "for m in graph.get_state(config).values[\"messages\"]:\n",
        "  m.pretty_print()"
      ]
    },
    {
      "cell_type": "code",
      "execution_count": 66,
      "metadata": {
        "colab": {
          "base_uri": "https://localhost:8080/"
        },
        "id": "KRAJd1HSj3Kn",
        "outputId": "b8927d82-b858-449f-f9a6-4bb20bdf937a"
      },
      "outputs": [
        {
          "output_type": "execute_result",
          "data": {
            "text/plain": [
              "()"
            ]
          },
          "metadata": {},
          "execution_count": 66
        }
      ],
      "source": [
        "snapshot = graph.get_state(config)\n",
        "snapshot.next     # ()   no any node because graph end"
      ]
    },
    {
      "cell_type": "code",
      "execution_count": 67,
      "metadata": {
        "colab": {
          "base_uri": "https://localhost:8080/"
        },
        "id": "T7Vh-KkamEui",
        "outputId": "5bb8cbf1-ef72-4d87-80b0-1404ffb39cb6"
      },
      "outputs": [
        {
          "output_type": "execute_result",
          "data": {
            "text/plain": [
              "{'configurable': {'thread_id': '4',\n",
              "  'checkpoint_ns': '',\n",
              "  'checkpoint_id': '1efe142b-48ca-61a8-8003-e78d5944a683'}}"
            ]
          },
          "metadata": {},
          "execution_count": 67
        }
      ],
      "source": [
        "graph.update_state(\n",
        "    config,\n",
        "    {\"messages\": [AIMessage(content=\"i am an exper in ai agents\")]},\n",
        "    as_node=\"chatbot\",\n",
        ")"
      ]
    },
    {
      "cell_type": "code",
      "execution_count": 68,
      "metadata": {
        "colab": {
          "base_uri": "https://localhost:8080/"
        },
        "id": "fwo81CM1mwGH",
        "outputId": "1bbec81b-d864-449a-e128-1b19c4f146e5"
      },
      "outputs": [
        {
          "output_type": "stream",
          "name": "stdout",
          "text": [
            "================================\u001b[1m Human Message \u001b[0m=================================\n",
            "\n",
            "I'm learning LangGraph. search on it for me?\n",
            "==================================\u001b[1m Ai Message \u001b[0m==================================\n",
            "Tool Calls:\n",
            "  tavily_search_results_json (127bf7bb-986b-4aa3-8e08-1bb168ee165e)\n",
            " Call ID: 127bf7bb-986b-4aa3-8e08-1bb168ee165e\n",
            "  Args:\n",
            "    query: LangGraph\n",
            "=================================\u001b[1m Tool Message \u001b[0m=================================\n",
            "\n",
            "LangGraph is a library for building stateful, multi-actor applications with LLMs, used to create agent and multi-agent workflows.  It's part of the LangChain ecosystem and draws inspiration from Pregel and Apache Beam.  You can find more information and tutorials online.\n",
            "==================================\u001b[1m Ai Message \u001b[0m==================================\n",
            "\n",
            "LangGraph is a library for building stateful, multi-actor applications with LLMs, used to create agent and multi-agent workflows.  It's part of the LangChain ecosystem and draws inspiration from Pregel and Apache Beam.  You can find more information and tutorials online.\n",
            "==================================\u001b[1m Ai Message \u001b[0m==================================\n",
            "\n",
            "i am an exper in ai agents\n"
          ]
        }
      ],
      "source": [
        "for m in graph.get_state(config).values[\"messages\"]:\n",
        "  m.pretty_print()      # swaped with two ai messages by last message"
      ]
    },
    {
      "cell_type": "code",
      "execution_count": 69,
      "metadata": {
        "colab": {
          "base_uri": "https://localhost:8080/",
          "height": 308
        },
        "id": "HpsY2BbAnFfZ",
        "outputId": "f4cbb073-1b33-4c26-de34-22fa7ad7ab03"
      },
      "outputs": [
        {
          "output_type": "display_data",
          "data": {
            "image/png": "[encoded data removed]",
            "text/plain": [
              "<IPython.core.display.Image object>"
            ]
          },
          "metadata": {}
        }
      ],
      "source": [
        "from IPython.display import Image, display\n",
        "\n",
        "try:\n",
        "    display(Image(graph.get_graph().draw_mermaid_png()))\n",
        "except Exception:\n",
        "    # This requires some extra dependencies and is optional\n",
        "    pass"
      ]
    },
    {
      "cell_type": "code",
      "execution_count": 70,
      "metadata": {
        "colab": {
          "base_uri": "https://localhost:8080/"
        },
        "id": "lo-KXqmcpb8v",
        "outputId": "3e802e31-31e5-4e06-b24a-f7910f273331"
      },
      "outputs": [
        {
          "output_type": "stream",
          "name": "stdout",
          "text": [
            "[ToolMessage(content=\"LangGraph is a library for building stateful, multi-actor applications with LLMs, used to create agent and multi-agent workflows.  It's part of the LangChain ecosystem and draws inspiration from Pregel and Apache Beam.  You can find more information and tutorials online.\", id='94881f7a-d061-4c90-b646-96cc2b2ce538', tool_call_id='127bf7bb-986b-4aa3-8e08-1bb168ee165e'), AIMessage(content=\"LangGraph is a library for building stateful, multi-actor applications with LLMs, used to create agent and multi-agent workflows.  It's part of the LangChain ecosystem and draws inspiration from Pregel and Apache Beam.  You can find more information and tutorials online.\", additional_kwargs={}, response_metadata={}, id='32916c2a-39ba-4a7b-9ab5-f3f7f55736fb'), AIMessage(content='i am an exper in ai agents', additional_kwargs={}, response_metadata={}, id='cfd6a5d1-b190-45aa-b793-cd19557546d3')]\n",
            "()\n"
          ]
        }
      ],
      "source": [
        "snapshot = graph.get_state(config)\n",
        "print(snapshot.values[\"messages\"][-3:])\n",
        "print(snapshot.next)"
      ]
    },
    {
      "cell_type": "code",
      "execution_count": 71,
      "metadata": {
        "id": "WiIMFOHkqZlm"
      },
      "outputs": [],
      "source": [
        "\n",
        "from langchain_core.messages import HumanMessage\n",
        "user_goals = [HumanMessage(id=1, content=\"i want to learn ai\")]\n",
        "updated_goals = [HumanMessage(id=1, content=\"i want to learn ai with tools\")]"
      ]
    },
    {
      "cell_type": "code",
      "execution_count": 72,
      "metadata": {
        "colab": {
          "base_uri": "https://localhost:8080/"
        },
        "id": "2lzStSJ2rluP",
        "outputId": "4ca8bb7a-48b9-4893-8826-ac19bdc14117"
      },
      "outputs": [
        {
          "output_type": "stream",
          "name": "stdout",
          "text": [
            "[HumanMessage(content='i want to learn ai with tools', additional_kwargs={}, response_metadata={}, id='1')]\n"
          ]
        }
      ],
      "source": [
        "final_goals = add_messages(user_goals, updated_goals)\n",
        "print(final_goals)      # when id 1"
      ]
    },
    {
      "cell_type": "code",
      "execution_count": 73,
      "metadata": {
        "id": "_GEUf-zPsDaC"
      },
      "outputs": [],
      "source": [
        "# from langchain_core.messages import HumanMessage\n",
        "# user_goals = [HumanMessage(id=1, content=\"i want to learn ai\")]\n",
        "# updated_goals = [HumanMessage(id=2, content=\"i want to learn ai with tools\")]"
      ]
    },
    {
      "cell_type": "code",
      "execution_count": 74,
      "metadata": {
        "id": "MJL5pSxXsFXk"
      },
      "outputs": [],
      "source": [
        "# final_goals = add_messages(user_goals, updated_goals)\n",
        "# print(final_goals)      # when id 2"
      ]
    },
    {
      "cell_type": "code",
      "execution_count": 75,
      "metadata": {
        "colab": {
          "base_uri": "https://localhost:8080/"
        },
        "id": "3Pbplfx_qH8h",
        "outputId": "2ac994cf-97b5-4ee7-f5a3-4621aba1dcf6"
      },
      "outputs": [
        {
          "output_type": "stream",
          "name": "stdout",
          "text": [
            "================================\u001b[1m Human Message \u001b[0m=================================\n",
            "\n",
            "I'm learning LangGraph. search it for me?\n",
            "==================================\u001b[1m Ai Message \u001b[0m==================================\n",
            "Tool Calls:\n",
            "  tavily_search_results_json (7cff7dec-04bc-472f-a665-6b7ae13d8427)\n",
            " Call ID: 7cff7dec-04bc-472f-a665-6b7ae13d8427\n",
            "  Args:\n",
            "    query: LangGraph\n"
          ]
        }
      ],
      "source": [
        "user_input = \"I'm learning LangGraph. search it for me?\"\n",
        "config = {\"configurable\": {\"thread_id\": \"5\"}}\n",
        "\n",
        "events = graph.stream(\n",
        "    {\"messages\": [{\"role\": \"user\", \"content\": user_input}]},\n",
        "    config,\n",
        "    stream_mode=\"values\",\n",
        ")\n",
        "for event in events:\n",
        "    if \"messages\" in event:\n",
        "        event[\"messages\"][-1].pretty_print()"
      ]
    },
    {
      "cell_type": "code",
      "execution_count": 76,
      "metadata": {
        "id": "1jVod5nUX_FO"
      },
      "outputs": [],
      "source": [
        "from langchain_core.messages import AIMessage\n",
        "\n",
        "snapshot = graph.get_state(config)"
      ]
    },
    {
      "cell_type": "code",
      "execution_count": 77,
      "metadata": {
        "colab": {
          "base_uri": "https://localhost:8080/"
        },
        "id": "3T4iAn9GYO0u",
        "outputId": "ecd1e89d-4ca6-4466-f70b-621d78ae8aa2"
      },
      "outputs": [
        {
          "output_type": "stream",
          "name": "stdout",
          "text": [
            "original\n",
            "==================================\u001b[1m Ai Message \u001b[0m==================================\n",
            "Tool Calls:\n",
            "  tavily_search_results_json (7cff7dec-04bc-472f-a665-6b7ae13d8427)\n",
            " Call ID: 7cff7dec-04bc-472f-a665-6b7ae13d8427\n",
            "  Args:\n",
            "    query: LangGraph\n",
            "None\n",
            "message id run-464d854d-128e-45e5-a460-83a91ca506e0-0\n",
            "{'name': 'tavily_search_results_json', 'args': {'query': 'LangGraph'}, 'id': '7cff7dec-04bc-472f-a665-6b7ae13d8427', 'type': 'tool_call'}\n"
          ]
        }
      ],
      "source": [
        "existing_message = snapshot.values[\"messages\"][-1]\n",
        "print(\"original\")\n",
        "print(existing_message.pretty_print())\n",
        "print(\"message id\", existing_message.id)\n",
        "print(existing_message.tool_calls[0])"
      ]
    },
    {
      "cell_type": "code",
      "execution_count": 78,
      "metadata": {
        "id": "Ls-o2cz4ZBu0"
      },
      "outputs": [],
      "source": [
        "new_tool_call = existing_message.tool_calls[0].copy()\n",
        "new_tool_call[\"args\"][\"query\"] = \"human-in-the-loop workflow\"\n",
        "new_message = AIMessage(\n",
        "    content=existing_message.content,\n",
        "    tool_calls=[new_tool_call],\n",
        "    id=existing_message.id,\n",
        ")\n",
        "\n"
      ]
    },
    {
      "cell_type": "code",
      "execution_count": 79,
      "metadata": {
        "colab": {
          "base_uri": "https://localhost:8080/"
        },
        "id": "7Dv7sR50acpd",
        "outputId": "7640932d-2a1a-4fff-a20b-eb9e3570e2f1"
      },
      "outputs": [
        {
          "output_type": "stream",
          "name": "stdout",
          "text": [
            "==================================\u001b[1m Ai Message \u001b[0m==================================\n",
            "Tool Calls:\n",
            "  tavily_search_results_json (7cff7dec-04bc-472f-a665-6b7ae13d8427)\n",
            " Call ID: 7cff7dec-04bc-472f-a665-6b7ae13d8427\n",
            "  Args:\n",
            "    query: human-in-the-loop workflow\n"
          ]
        }
      ],
      "source": [
        "new_message.pretty_print()"
      ]
    },
    {
      "cell_type": "code",
      "execution_count": 80,
      "metadata": {
        "colab": {
          "base_uri": "https://localhost:8080/"
        },
        "id": "tW4A-UUWZ7o6",
        "outputId": "a82a604b-495f-4935-b94b-87b39fcc8dd1"
      },
      "outputs": [
        {
          "output_type": "stream",
          "name": "stdout",
          "text": [
            "updated\n",
            "{'name': 'tavily_search_results_json', 'args': {'query': 'human-in-the-loop workflow'}, 'id': '7cff7dec-04bc-472f-a665-6b7ae13d8427', 'type': 'tool_call'}\n",
            "message id run-464d854d-128e-45e5-a460-83a91ca506e0-0\n"
          ]
        }
      ],
      "source": [
        "print(\"updated\")\n",
        "print(new_message.tool_calls[0])\n",
        "print(\"message id\", new_message.id)"
      ]
    },
    {
      "cell_type": "code",
      "execution_count": 81,
      "metadata": {
        "colab": {
          "base_uri": "https://localhost:8080/"
        },
        "id": "U37eyTHdcTg7",
        "outputId": "a73a7439-52c6-45d9-a386-66152d33ac32"
      },
      "outputs": [
        {
          "output_type": "stream",
          "name": "stdout",
          "text": [
            "\n",
            "\n",
            "Tool calls\n"
          ]
        },
        {
          "output_type": "execute_result",
          "data": {
            "text/plain": [
              "[{'name': 'tavily_search_results_json',\n",
              "  'args': {'query': 'human-in-the-loop workflow'},\n",
              "  'id': '7cff7dec-04bc-472f-a665-6b7ae13d8427',\n",
              "  'type': 'tool_call'}]"
            ]
          },
          "metadata": {},
          "execution_count": 81
        }
      ],
      "source": [
        "graph.update_state(config, {\"messages\": [new_message]})\n",
        "print(\"\\n\\nTool calls\")\n",
        "graph.get_state(config).values[\"messages\"][-1].tool_calls"
      ]
    },
    {
      "cell_type": "code",
      "execution_count": 82,
      "metadata": {
        "colab": {
          "base_uri": "https://localhost:8080/"
        },
        "id": "0FzuTK4JeuiA",
        "outputId": "e8eceb9a-4d37-45a6-dede-02437e10d582"
      },
      "outputs": [
        {
          "output_type": "stream",
          "name": "stdout",
          "text": [
            "================================\u001b[1m Human Message \u001b[0m=================================\n",
            "\n",
            "I'm learning LangGraph. search it for me?\n",
            "==================================\u001b[1m Ai Message \u001b[0m==================================\n",
            "Tool Calls:\n",
            "  tavily_search_results_json (7cff7dec-04bc-472f-a665-6b7ae13d8427)\n",
            " Call ID: 7cff7dec-04bc-472f-a665-6b7ae13d8427\n",
            "  Args:\n",
            "    query: human-in-the-loop workflow\n"
          ]
        }
      ],
      "source": [
        "for m in graph.get_state(config).values[\"messages\"]:\n",
        "  m.pretty_print()"
      ]
    },
    {
      "cell_type": "code",
      "execution_count": 83,
      "metadata": {
        "colab": {
          "base_uri": "https://localhost:8080/"
        },
        "id": "eB8fLrKge9ZA",
        "outputId": "da5eab14-57ef-4383-8a0d-cb803cc597a9"
      },
      "outputs": [
        {
          "output_type": "stream",
          "name": "stdout",
          "text": [
            "==================================\u001b[1m Ai Message \u001b[0m==================================\n",
            "Tool Calls:\n",
            "  tavily_search_results_json (7cff7dec-04bc-472f-a665-6b7ae13d8427)\n",
            " Call ID: 7cff7dec-04bc-472f-a665-6b7ae13d8427\n",
            "  Args:\n",
            "    query: human-in-the-loop workflow\n",
            "=================================\u001b[1m Tool Message \u001b[0m=================================\n",
            "Name: tavily_search_results_json\n",
            "\n",
            "[{\"url\": \"https://camunda.com/blog/2024/06/what-is-human-in-the-loop-automation/\", \"content\": \"Human in the Loop (HITL) automation is a hybrid approach where automated systems and human judgment are integrated into a single workflow. Unlike full automation, which operates without any human input, HITL ensures that humans can intervene at specific stages to provide oversight, make decisions, and guide the automation process.\"}, {\"url\": \"https://nordicapis.com/what-is-human-in-the-loop-workflow-automation/\", \"content\": \"HITL: Human Automation Hybrid Ultimately, Human-in-the-Loop is a useful paradigm when implemented within the appropriate circumstances. Allowing humans to add value to an automated chain is an excellent option in most automated workflows and can create unparalleled effectiveness and increased accountability. What do you think about HITL?\"}]\n",
            "==================================\u001b[1m Ai Message \u001b[0m==================================\n",
            "\n",
            "Based on the search results, Human-in-the-Loop (HITL) automation is a hybrid approach combining automated systems and human judgment.  Humans intervene at certain points to oversee, decide, and guide the automation process.  This contrasts with fully automated systems that operate without human input.  The effectiveness of HITL depends on the specific circumstances and can improve automation workflows by increasing both effectiveness and accountability.\n"
          ]
        }
      ],
      "source": [
        "events = graph.stream(None, config, stream_mode=\"values\")\n",
        "for event in events:\n",
        "  if \"messages\" in event:\n",
        "    event[\"messages\"][-1].pretty_print()\n"
      ]
    },
    {
      "cell_type": "code",
      "execution_count": 84,
      "metadata": {
        "id": "hfJWowqqenOT"
      },
      "outputs": [],
      "source": [
        "from typing import Annotated\n",
        "\n",
        "from langchain_community.tools.tavily_search import TavilySearchResults\n",
        "from typing_extensions import TypedDict\n",
        "\n",
        "from langgraph.checkpoint.memory import MemorySaver\n",
        "from langgraph.graph import StateGraph, START\n",
        "from langgraph.prebuilt import ToolNode, tools_condition\n",
        "from langgraph.graph.message import add_messages\n",
        "\n",
        "\n",
        "class State(TypedDict):\n",
        "    messages: Annotated[list, add_messages]\n",
        "    name: str\n",
        "    ask_human: bool"
      ]
    },
    {
      "cell_type": "code",
      "execution_count": 85,
      "metadata": {
        "id": "AUBTOgI7fof8"
      },
      "outputs": [],
      "source": [
        "from pydantic import BaseModel\n",
        "\n",
        "class RequestAssistance(BaseModel):\n",
        "  \"\"\"esclate the converstion to an expert\"\"\"\n",
        "  request: str"
      ]
    },
    {
      "cell_type": "code",
      "execution_count": 86,
      "metadata": {
        "colab": {
          "base_uri": "https://localhost:8080/"
        },
        "id": "JtRH7KF0gvSs",
        "outputId": "d207d217-e633-4f7d-c8fc-b641c970ed91"
      },
      "outputs": [
        {
          "output_type": "stream",
          "name": "stdout",
          "text": [
            "request='i need help'\n",
            "i need help\n"
          ]
        }
      ],
      "source": [
        "abc = RequestAssistance(request=\"i need help\")\n",
        "print(abc)\n",
        "print(abc.request)"
      ]
    },
    {
      "cell_type": "code",
      "execution_count": 87,
      "metadata": {
        "id": "7_AvVf01jBvZ"
      },
      "outputs": [],
      "source": [
        "tool = TavilySearchResults(max_results=2)\n",
        "tools = [tool]\n",
        "llm_with_tools = llm.bind_tools(tools + [RequestAssistance])"
      ]
    },
    {
      "cell_type": "code",
      "execution_count": 88,
      "metadata": {
        "colab": {
          "base_uri": "https://localhost:8080/"
        },
        "id": "TQXwv11pjRZ4",
        "outputId": "0b930768-565f-4d38-e70a-74052c5737ff"
      },
      "outputs": [
        {
          "output_type": "execute_result",
          "data": {
            "text/plain": [
              "RunnableBinding(bound=ChatGoogleGenerativeAI(model='models/gemini-1.5-flash', google_api_key=SecretStr('**********'), max_retries=2, client=<google.ai.generativelanguage_v1beta.services.generative_service.client.GenerativeServiceClient object at 0x79ee112e99d0>, default_metadata=()), kwargs={'tools': [{'type': 'function', 'function': {'name': 'tavily_search_results_json', 'description': 'A search engine optimized for comprehensive, accurate, and trusted results. Useful for when you need to answer questions about current events. Input should be a search query.', 'parameters': {'properties': {'query': {'description': 'search query to look up', 'type': 'string'}}, 'required': ['query'], 'type': 'object'}}}, {'type': 'function', 'function': {'name': 'RequestAssistance', 'description': 'esclate the converstion to an expert', 'parameters': {'properties': {'request': {'type': 'string'}}, 'required': ['request'], 'type': 'object'}}}]}, config={}, config_factories=[])"
            ]
          },
          "metadata": {},
          "execution_count": 88
        }
      ],
      "source": [
        "llm_with_tools"
      ]
    },
    {
      "cell_type": "code",
      "execution_count": 103,
      "metadata": {
        "colab": {
          "base_uri": "https://localhost:8080/"
        },
        "id": "e9fq6GNPjh7_",
        "outputId": "2038ec05-6fc1-4f61-a357-6aeada2a2f0d"
      },
      "outputs": [
        {
          "output_type": "stream",
          "name": "stdout",
          "text": [
            "==================================\u001b[1m Ai Message \u001b[0m==================================\n",
            "Tool Calls:\n",
            "  RequestAssistance (52490c6d-60d5-4656-b480-ea112d783f0e)\n",
            " Call ID: 52490c6d-60d5-4656-b480-ea112d783f0e\n",
            "  Args:\n",
            "    request: connect me with a langraph expert for paid project\n"
          ]
        }
      ],
      "source": [
        "response = llm_with_tools.invoke(\"connect me with a langraph expert for paid project\")\n",
        "response.pretty_print()       # connected with human"
      ]
    },
    {
      "cell_type": "code",
      "execution_count": 90,
      "metadata": {
        "colab": {
          "base_uri": "https://localhost:8080/"
        },
        "id": "xPXbDOdekj3q",
        "outputId": "1e6d6938-f193-4ea1-cd5e-0d35f0a53c50"
      },
      "outputs": [
        {
          "output_type": "stream",
          "name": "stdout",
          "text": [
            "==================================\u001b[1m Ai Message \u001b[0m==================================\n",
            "Tool Calls:\n",
            "  tavily_search_results_json (4aa1f6d7-6a33-4bb8-8bc9-d340040cb8dc)\n",
            " Call ID: 4aa1f6d7-6a33-4bb8-8bc9-d340040cb8dc\n",
            "  Args:\n",
            "    query: langraph expert for paid project\n"
          ]
        }
      ],
      "source": [
        "response = llm_with_tools.invoke(\"search about langraph expert for paid project\")\n",
        "response.pretty_print()       # searching using tavily"
      ]
    },
    {
      "cell_type": "code",
      "execution_count": 91,
      "metadata": {
        "colab": {
          "base_uri": "https://localhost:8080/"
        },
        "id": "_RKKmIjfk1Fk",
        "outputId": "744adc50-4dbf-47ce-e012-3967d1969f6d"
      },
      "outputs": [
        {
          "output_type": "stream",
          "name": "stdout",
          "text": [
            "==================================\u001b[1m Ai Message \u001b[0m==================================\n",
            "\n",
            "Hello! How can I help you today?\n"
          ]
        }
      ],
      "source": [
        "response = llm_with_tools.invoke(\"hello\")\n",
        "response.pretty_print()       # replying by itself"
      ]
    },
    {
      "cell_type": "code",
      "execution_count": 92,
      "metadata": {
        "id": "qmVr9fnsh8Cb"
      },
      "outputs": [],
      "source": [
        "def chatbot(state: State):\n",
        "    message = llm_with_tools.invoke(state[\"messages\"])\n",
        "    ask_human = False\n",
        "    if (\n",
        "        response.tool_calls\n",
        "        and response.tool_calls[0][\"name\"] == RequestAssistance.__name__\n",
        "    ):\n",
        "        ask_human = True\n",
        "    return {\"messages\": [message], \"ask_human\": ask_human}"
      ]
    },
    {
      "cell_type": "code",
      "execution_count": 93,
      "metadata": {
        "colab": {
          "base_uri": "https://localhost:8080/"
        },
        "id": "ZAjw6NjnmF8Q",
        "outputId": "a9bb4b8b-1859-44e8-b7cb-2bfb4bb7734d"
      },
      "outputs": [
        {
          "output_type": "execute_result",
          "data": {
            "text/plain": [
              "<langgraph.graph.state.StateGraph at 0x79edd80cbcd0>"
            ]
          },
          "metadata": {},
          "execution_count": 93
        }
      ],
      "source": [
        "graph_builder = StateGraph(State)\n",
        "graph_builder.add_node(\"chatbot\", chatbot)\n",
        "graph_builder.add_node(\"tools\", ToolNode(tools=[tool]))"
      ]
    },
    {
      "cell_type": "code",
      "execution_count": 94,
      "metadata": {
        "colab": {
          "base_uri": "https://localhost:8080/"
        },
        "id": "YiRVZyHpi5it",
        "outputId": "5ad064f6-dc42-4b89-a64f-6e827c6fe775"
      },
      "outputs": [
        {
          "output_type": "execute_result",
          "data": {
            "text/plain": [
              "<langgraph.graph.state.StateGraph at 0x79edd80cbcd0>"
            ]
          },
          "metadata": {},
          "execution_count": 94
        }
      ],
      "source": [
        "from langchain_core.messages import AIMessage, ToolMessage\n",
        "\n",
        "def create_response(response: str, ai_message: AIMessage):\n",
        "  return ToolMessage(\n",
        "      content=response,\n",
        "      tool_call_id=ai_message.tool_calls[0][\"id\"],\n",
        "  )\n",
        "\n",
        "\n",
        "def human_node(state: State):\n",
        "  new_messages = []\n",
        "  if not isinstance(state[\"messages\"][-1], ToolMessage):\n",
        "    new_messages.append(\n",
        "      create_response(\"no response from human.\", state[\"messages\"][-1])\n",
        "    )\n",
        "  return{\n",
        "        \"messages\": new_messages,\n",
        "        \"ask_human\": False,\n",
        "    }\n",
        "\n",
        "graph_builder.add_node(\"human\", human_node)\n"
      ]
    },
    {
      "cell_type": "code",
      "execution_count": 95,
      "metadata": {
        "colab": {
          "base_uri": "https://localhost:8080/"
        },
        "id": "dlkz8IAunaQ2",
        "outputId": "dbb8f13c-7d71-4406-acbb-51286ed9571f"
      },
      "outputs": [
        {
          "output_type": "execute_result",
          "data": {
            "text/plain": [
              "<langgraph.graph.state.StateGraph at 0x79edd80cbcd0>"
            ]
          },
          "metadata": {},
          "execution_count": 95
        }
      ],
      "source": [
        "def select_next_node(state: State):\n",
        "  if state[\"ask_human\"]:\n",
        "     return \"human\"\n",
        "  return tools_condition(state)\n",
        "\n",
        "graph_builder.add_conditional_edges(\n",
        "    \"chatbot\",\n",
        "    select_next_node,\n",
        "    {\"human\": \"human\", \"tools\": \"tools\", END: END}\n",
        ")"
      ]
    },
    {
      "cell_type": "code",
      "execution_count": 96,
      "metadata": {
        "id": "fO03F6wqqbXG"
      },
      "outputs": [],
      "source": [
        "\n",
        "graph_builder.add_edge(START, \"chatbot\")\n",
        "graph_builder.add_edge(\"tools\", \"chatbot\")\n",
        "graph_builder.add_edge(\"human\", \"chatbot\")\n",
        "memory = MemorySaver()\n",
        "graph = graph_builder.compile(\n",
        "    checkpointer=memory,\n",
        "    interrupt_before=[\"human\"]\n",
        ")"
      ]
    },
    {
      "cell_type": "code",
      "execution_count": 97,
      "metadata": {
        "colab": {
          "base_uri": "https://localhost:8080/",
          "height": 308
        },
        "id": "7zXivEg-ySl5",
        "outputId": "88517a41-164b-4a54-ffbe-828ec7fce910"
      },
      "outputs": [
        {
          "output_type": "display_data",
          "data": {
            "image/png": "[encoded data removed]",
            "text/plain": [
              "<IPython.core.display.Image object>"
            ]
          },
          "metadata": {}
        }
      ],
      "source": [
        "from IPython.display import Image, display\n",
        "\n",
        "try:\n",
        "  display(Image(graph.get_graph().draw_mermaid_png()))\n",
        "except Exception:\n",
        "  pass"
      ]
    },
    {
      "cell_type": "code",
      "execution_count": 105,
      "metadata": {
        "colab": {
          "base_uri": "https://localhost:8080/"
        },
        "id": "W1_am72or2IP",
        "outputId": "a587fbc4-992a-4ced-fef1-3c46520b0e2d"
      },
      "outputs": [
        {
          "output_type": "stream",
          "name": "stdout",
          "text": [
            "================================\u001b[1m Human Message \u001b[0m=================================\n",
            "\n",
            "I need some expert guidence for building this ai agent, could you request assistant for me?\n",
            "==================================\u001b[1m Ai Message \u001b[0m==================================\n",
            "Tool Calls:\n",
            "  RequestAssistance (dce12075-5d10-4ebb-8973-0d1cfd900fb5)\n",
            " Call ID: dce12075-5d10-4ebb-8973-0d1cfd900fb5\n",
            "  Args:\n",
            "    request: I need some expert guidence for building this ai agent.\n"
          ]
        }
      ],
      "source": [
        "user_input = \"I need some expert guidence for building this ai agent, could you request assistant for me?\"\n",
        "config = {\"configurable\": {\"thread_id\": \"71\"}}\n",
        "\n",
        "events = graph.stream(\n",
        "    {\"messages\": [(\"user\", user_input)]}, config, stream_mode=\"values\"\n",
        ")\n",
        "for event in events:\n",
        "    if \"messages\" in event:\n",
        "      event[\"messages\"][-1].pretty_print()"
      ]
    },
    {
      "cell_type": "code",
      "execution_count": 106,
      "metadata": {
        "colab": {
          "base_uri": "https://localhost:8080/"
        },
        "id": "-jTOJ-yOtN-W",
        "outputId": "067451cb-1448-4a60-f625-bd98a65a0208"
      },
      "outputs": [
        {
          "output_type": "execute_result",
          "data": {
            "text/plain": [
              "('human',)"
            ]
          },
          "metadata": {},
          "execution_count": 106
        }
      ],
      "source": [
        "snapshot = graph.get_state(config)\n",
        "snapshot.next"
      ]
    },
    {
      "cell_type": "code",
      "execution_count": 107,
      "metadata": {
        "id": "oiEOwDGXtnxk"
      },
      "outputs": [],
      "source": [
        "ai_message = snapshot.values[\"messages\"][-1]\n",
        "human_response = (\n",
        "    \"We, the experts are here to help! We'd recommend you check out LangGraph to build your agent.\"\n",
        "    \" It's much more reliable and extensible than simple autonomous agents.\"\n",
        ")\n",
        "\n",
        "if ai_message.tool_calls:\n",
        "    tool_message = create_response(human_response, ai_message)\n",
        "else:\n",
        "    # Handle the case where tool_calls is empty\n",
        "    print(\"No tool calls found\")\n",
        "\n",
        "\n"
      ]
    },
    {
      "cell_type": "markdown",
      "metadata": {
        "id": "Cmowf4cnDxcr"
      },
      "source": []
    },
    {
      "cell_type": "code",
      "execution_count": 108,
      "metadata": {
        "colab": {
          "base_uri": "https://localhost:8080/"
        },
        "id": "h4rO3ozn1PoG",
        "outputId": "c774cf3c-9a18-4fcf-8777-827a6537abd4"
      },
      "outputs": [
        {
          "output_type": "stream",
          "name": "stdout",
          "text": [
            "=================================\u001b[1m Tool Message \u001b[0m=================================\n",
            "\n",
            "We, the experts are here to help! We'd recommend you check out LangGraph to build your agent. It's much more reliable and extensible than simple autonomous agents.\n"
          ]
        }
      ],
      "source": [
        "tool_message.pretty_print()"
      ]
    },
    {
      "cell_type": "code",
      "execution_count": 109,
      "metadata": {
        "colab": {
          "base_uri": "https://localhost:8080/"
        },
        "id": "rMzcxSNZy5-z",
        "outputId": "168bed51-a608-4073-a5a3-81d2f12d92c3"
      },
      "outputs": [
        {
          "output_type": "execute_result",
          "data": {
            "text/plain": [
              "{'configurable': {'thread_id': '71',\n",
              "  'checkpoint_ns': '',\n",
              "  'checkpoint_id': '1efe1436-be3d-6833-8002-2868f853980d'}}"
            ]
          },
          "metadata": {},
          "execution_count": 109
        }
      ],
      "source": [
        "graph.update_state(config, {\"messages\": [tool_message]})"
      ]
    },
    {
      "cell_type": "code",
      "execution_count": 110,
      "metadata": {
        "colab": {
          "base_uri": "https://localhost:8080/"
        },
        "id": "jhw5cQJi1hka",
        "outputId": "60912185-e999-4f42-b409-0d7b31c6cb14"
      },
      "outputs": [
        {
          "output_type": "execute_result",
          "data": {
            "text/plain": [
              "[HumanMessage(content='I need some expert guidence for building this ai agent, could you request assistant for me?', additional_kwargs={}, response_metadata={}, id='9cc156e5-5354-4993-acc0-4e58c7cd072b'),\n",
              " AIMessage(content='', additional_kwargs={'function_call': {'name': 'RequestAssistance', 'arguments': '{\"request\": \"I need some expert guidence for building this ai agent.\"}'}}, response_metadata={'prompt_feedback': {'block_reason': 0, 'safety_ratings': []}, 'finish_reason': 'STOP', 'safety_ratings': []}, id='run-39193bad-b5a3-4e21-9f46-0a3f5715ccf7-0', tool_calls=[{'name': 'RequestAssistance', 'args': {'request': 'I need some expert guidence for building this ai agent.'}, 'id': 'dce12075-5d10-4ebb-8973-0d1cfd900fb5', 'type': 'tool_call'}], usage_metadata={'input_tokens': 133, 'output_tokens': 15, 'total_tokens': 148, 'input_token_details': {'cache_read': 0}}),\n",
              " ToolMessage(content=\"We, the experts are here to help! We'd recommend you check out LangGraph to build your agent. It's much more reliable and extensible than simple autonomous agents.\", id='50ef7ef6-0279-422e-8e93-75cfd02e67fb', tool_call_id='dce12075-5d10-4ebb-8973-0d1cfd900fb5')]"
            ]
          },
          "metadata": {},
          "execution_count": 110
        }
      ],
      "source": [
        "graph.get_state(config).values[\"messages\"]"
      ]
    },
    {
      "cell_type": "code",
      "execution_count": 111,
      "metadata": {
        "colab": {
          "base_uri": "https://localhost:8080/",
          "height": 567
        },
        "id": "SF6ydvPf2IOk",
        "outputId": "6de53372-e627-4949-b956-6bc7b4d88287"
      },
      "outputs": [
        {
          "output_type": "stream",
          "name": "stdout",
          "text": [
            "=================================\u001b[1m Tool Message \u001b[0m=================================\n",
            "\n",
            "We, the experts are here to help! We'd recommend you check out LangGraph to build your agent. It's much more reliable and extensible than simple autonomous agents.\n",
            "=================================\u001b[1m Tool Message \u001b[0m=================================\n",
            "\n",
            "We, the experts are here to help! We'd recommend you check out LangGraph to build your agent. It's much more reliable and extensible than simple autonomous agents.\n"
          ]
        },
        {
          "output_type": "error",
          "ename": "ChatGoogleGenerativeAIError",
          "evalue": "Invalid argument provided to Gemini: 400 * GenerateContentRequest.contents[2].parts[0].function_response.name: Name cannot be empty.\n",
          "traceback": [
            "\u001b[0;31m---------------------------------------------------------------------------\u001b[0m",
            "\u001b[0;31mInvalidArgument\u001b[0m                           Traceback (most recent call last)",
            "\u001b[0;32m/usr/local/lib/python3.11/dist-packages/langchain_google_genai/chat_models.py\u001b[0m in \u001b[0;36m_chat_with_retry\u001b[0;34m(**kwargs)\u001b[0m\n\u001b[1;32m    177\u001b[0m         \u001b[0;32mtry\u001b[0m\u001b[0;34m:\u001b[0m\u001b[0;34m\u001b[0m\u001b[0;34m\u001b[0m\u001b[0m\n\u001b[0;32m--> 178\u001b[0;31m             \u001b[0;32mreturn\u001b[0m \u001b[0mgeneration_method\u001b[0m\u001b[0;34m(\u001b[0m\u001b[0;34m**\u001b[0m\u001b[0mkwargs\u001b[0m\u001b[0;34m)\u001b[0m\u001b[0;34m\u001b[0m\u001b[0;34m\u001b[0m\u001b[0m\n\u001b[0m\u001b[1;32m    179\u001b[0m         \u001b[0;31m# Do not retry for these errors.\u001b[0m\u001b[0;34m\u001b[0m\u001b[0;34m\u001b[0m\u001b[0m\n",
            "\u001b[0;32m/usr/local/lib/python3.11/dist-packages/google/ai/generativelanguage_v1beta/services/generative_service/client.py\u001b[0m in \u001b[0;36mgenerate_content\u001b[0;34m(self, request, model, contents, retry, timeout, metadata)\u001b[0m\n\u001b[1;32m    834\u001b[0m         \u001b[0;31m# Send the request.\u001b[0m\u001b[0;34m\u001b[0m\u001b[0;34m\u001b[0m\u001b[0m\n\u001b[0;32m--> 835\u001b[0;31m         response = rpc(\n\u001b[0m\u001b[1;32m    836\u001b[0m             \u001b[0mrequest\u001b[0m\u001b[0;34m,\u001b[0m\u001b[0;34m\u001b[0m\u001b[0;34m\u001b[0m\u001b[0m\n",
            "\u001b[0;32m/usr/local/lib/python3.11/dist-packages/google/api_core/gapic_v1/method.py\u001b[0m in \u001b[0;36m__call__\u001b[0;34m(self, timeout, retry, compression, *args, **kwargs)\u001b[0m\n\u001b[1;32m    130\u001b[0m \u001b[0;34m\u001b[0m\u001b[0m\n\u001b[0;32m--> 131\u001b[0;31m         \u001b[0;32mreturn\u001b[0m \u001b[0mwrapped_func\u001b[0m\u001b[0;34m(\u001b[0m\u001b[0;34m*\u001b[0m\u001b[0margs\u001b[0m\u001b[0;34m,\u001b[0m \u001b[0;34m**\u001b[0m\u001b[0mkwargs\u001b[0m\u001b[0;34m)\u001b[0m\u001b[0;34m\u001b[0m\u001b[0;34m\u001b[0m\u001b[0m\n\u001b[0m\u001b[1;32m    132\u001b[0m \u001b[0;34m\u001b[0m\u001b[0m\n",
            "\u001b[0;32m/usr/local/lib/python3.11/dist-packages/google/api_core/retry/retry_unary.py\u001b[0m in \u001b[0;36mretry_wrapped_func\u001b[0;34m(*args, **kwargs)\u001b[0m\n\u001b[1;32m    292\u001b[0m             )\n\u001b[0;32m--> 293\u001b[0;31m             return retry_target(\n\u001b[0m\u001b[1;32m    294\u001b[0m                 \u001b[0mtarget\u001b[0m\u001b[0;34m,\u001b[0m\u001b[0;34m\u001b[0m\u001b[0;34m\u001b[0m\u001b[0m\n",
            "\u001b[0;32m/usr/local/lib/python3.11/dist-packages/google/api_core/retry/retry_unary.py\u001b[0m in \u001b[0;36mretry_target\u001b[0;34m(target, predicate, sleep_generator, timeout, on_error, exception_factory, **kwargs)\u001b[0m\n\u001b[1;32m    152\u001b[0m             \u001b[0;31m# defer to shared logic for handling errors\u001b[0m\u001b[0;34m\u001b[0m\u001b[0;34m\u001b[0m\u001b[0m\n\u001b[0;32m--> 153\u001b[0;31m             _retry_error_helper(\n\u001b[0m\u001b[1;32m    154\u001b[0m                 \u001b[0mexc\u001b[0m\u001b[0;34m,\u001b[0m\u001b[0;34m\u001b[0m\u001b[0;34m\u001b[0m\u001b[0m\n",
            "\u001b[0;32m/usr/local/lib/python3.11/dist-packages/google/api_core/retry/retry_base.py\u001b[0m in \u001b[0;36m_retry_error_helper\u001b[0;34m(exc, deadline, next_sleep, error_list, predicate_fn, on_error_fn, exc_factory_fn, original_timeout)\u001b[0m\n\u001b[1;32m    211\u001b[0m         )\n\u001b[0;32m--> 212\u001b[0;31m         \u001b[0;32mraise\u001b[0m \u001b[0mfinal_exc\u001b[0m \u001b[0;32mfrom\u001b[0m \u001b[0msource_exc\u001b[0m\u001b[0;34m\u001b[0m\u001b[0;34m\u001b[0m\u001b[0m\n\u001b[0m\u001b[1;32m    213\u001b[0m     \u001b[0;32mif\u001b[0m \u001b[0mon_error_fn\u001b[0m \u001b[0;32mis\u001b[0m \u001b[0;32mnot\u001b[0m \u001b[0;32mNone\u001b[0m\u001b[0;34m:\u001b[0m\u001b[0;34m\u001b[0m\u001b[0;34m\u001b[0m\u001b[0m\n",
            "\u001b[0;32m/usr/local/lib/python3.11/dist-packages/google/api_core/retry/retry_unary.py\u001b[0m in \u001b[0;36mretry_target\u001b[0;34m(target, predicate, sleep_generator, timeout, on_error, exception_factory, **kwargs)\u001b[0m\n\u001b[1;32m    143\u001b[0m         \u001b[0;32mtry\u001b[0m\u001b[0;34m:\u001b[0m\u001b[0;34m\u001b[0m\u001b[0;34m\u001b[0m\u001b[0m\n\u001b[0;32m--> 144\u001b[0;31m             \u001b[0mresult\u001b[0m \u001b[0;34m=\u001b[0m \u001b[0mtarget\u001b[0m\u001b[0;34m(\u001b[0m\u001b[0;34m)\u001b[0m\u001b[0;34m\u001b[0m\u001b[0;34m\u001b[0m\u001b[0m\n\u001b[0m\u001b[1;32m    145\u001b[0m             \u001b[0;32mif\u001b[0m \u001b[0minspect\u001b[0m\u001b[0;34m.\u001b[0m\u001b[0misawaitable\u001b[0m\u001b[0;34m(\u001b[0m\u001b[0mresult\u001b[0m\u001b[0;34m)\u001b[0m\u001b[0;34m:\u001b[0m\u001b[0;34m\u001b[0m\u001b[0;34m\u001b[0m\u001b[0m\n",
            "\u001b[0;32m/usr/local/lib/python3.11/dist-packages/google/api_core/timeout.py\u001b[0m in \u001b[0;36mfunc_with_timeout\u001b[0;34m(*args, **kwargs)\u001b[0m\n\u001b[1;32m    119\u001b[0m \u001b[0;34m\u001b[0m\u001b[0m\n\u001b[0;32m--> 120\u001b[0;31m             \u001b[0;32mreturn\u001b[0m \u001b[0mfunc\u001b[0m\u001b[0;34m(\u001b[0m\u001b[0;34m*\u001b[0m\u001b[0margs\u001b[0m\u001b[0;34m,\u001b[0m \u001b[0;34m**\u001b[0m\u001b[0mkwargs\u001b[0m\u001b[0;34m)\u001b[0m\u001b[0;34m\u001b[0m\u001b[0;34m\u001b[0m\u001b[0m\n\u001b[0m\u001b[1;32m    121\u001b[0m \u001b[0;34m\u001b[0m\u001b[0m\n",
            "\u001b[0;32m/usr/local/lib/python3.11/dist-packages/google/api_core/grpc_helpers.py\u001b[0m in \u001b[0;36merror_remapped_callable\u001b[0;34m(*args, **kwargs)\u001b[0m\n\u001b[1;32m     77\u001b[0m         \u001b[0;32mexcept\u001b[0m \u001b[0mgrpc\u001b[0m\u001b[0;34m.\u001b[0m\u001b[0mRpcError\u001b[0m \u001b[0;32mas\u001b[0m \u001b[0mexc\u001b[0m\u001b[0;34m:\u001b[0m\u001b[0;34m\u001b[0m\u001b[0;34m\u001b[0m\u001b[0m\n\u001b[0;32m---> 78\u001b[0;31m             \u001b[0;32mraise\u001b[0m \u001b[0mexceptions\u001b[0m\u001b[0;34m.\u001b[0m\u001b[0mfrom_grpc_error\u001b[0m\u001b[0;34m(\u001b[0m\u001b[0mexc\u001b[0m\u001b[0;34m)\u001b[0m \u001b[0;32mfrom\u001b[0m \u001b[0mexc\u001b[0m\u001b[0;34m\u001b[0m\u001b[0;34m\u001b[0m\u001b[0m\n\u001b[0m\u001b[1;32m     79\u001b[0m \u001b[0;34m\u001b[0m\u001b[0m\n",
            "\u001b[0;31mInvalidArgument\u001b[0m: 400 * GenerateContentRequest.contents[2].parts[0].function_response.name: Name cannot be empty.\n",
            "\nThe above exception was the direct cause of the following exception:\n",
            "\u001b[0;31mChatGoogleGenerativeAIError\u001b[0m               Traceback (most recent call last)",
            "\u001b[0;32m<ipython-input-111-2fdd3da406c1>\u001b[0m in \u001b[0;36m<cell line: 0>\u001b[0;34m()\u001b[0m\n\u001b[1;32m      1\u001b[0m \u001b[0mevents\u001b[0m \u001b[0;34m=\u001b[0m \u001b[0mgraph\u001b[0m\u001b[0;34m.\u001b[0m\u001b[0mstream\u001b[0m\u001b[0;34m(\u001b[0m\u001b[0;32mNone\u001b[0m\u001b[0;34m,\u001b[0m \u001b[0mconfig\u001b[0m\u001b[0;34m,\u001b[0m \u001b[0mstream_mode\u001b[0m\u001b[0;34m=\u001b[0m\u001b[0;34m\"values\"\u001b[0m\u001b[0;34m)\u001b[0m\u001b[0;34m\u001b[0m\u001b[0;34m\u001b[0m\u001b[0m\n\u001b[1;32m      2\u001b[0m \u001b[0;34m\u001b[0m\u001b[0m\n\u001b[0;32m----> 3\u001b[0;31m \u001b[0;32mfor\u001b[0m \u001b[0mevent\u001b[0m \u001b[0;32min\u001b[0m \u001b[0mevents\u001b[0m\u001b[0;34m:\u001b[0m\u001b[0;34m\u001b[0m\u001b[0;34m\u001b[0m\u001b[0m\n\u001b[0m\u001b[1;32m      4\u001b[0m     \u001b[0;32mif\u001b[0m \u001b[0;34m\"messages\"\u001b[0m \u001b[0;32min\u001b[0m \u001b[0mevent\u001b[0m\u001b[0;34m:\u001b[0m\u001b[0;34m\u001b[0m\u001b[0;34m\u001b[0m\u001b[0m\n\u001b[1;32m      5\u001b[0m       \u001b[0mevent\u001b[0m\u001b[0;34m[\u001b[0m\u001b[0;34m\"messages\"\u001b[0m\u001b[0;34m]\u001b[0m\u001b[0;34m[\u001b[0m\u001b[0;34m-\u001b[0m\u001b[0;36m1\u001b[0m\u001b[0;34m]\u001b[0m\u001b[0;34m.\u001b[0m\u001b[0mpretty_print\u001b[0m\u001b[0;34m(\u001b[0m\u001b[0;34m)\u001b[0m\u001b[0;34m\u001b[0m\u001b[0;34m\u001b[0m\u001b[0m\n",
            "\u001b[0;32m/usr/local/lib/python3.11/dist-packages/langgraph/pregel/__init__.py\u001b[0m in \u001b[0;36mstream\u001b[0;34m(self, input, config, stream_mode, output_keys, interrupt_before, interrupt_after, debug, subgraphs)\u001b[0m\n\u001b[1;32m   1722\u001b[0m                 \u001b[0;31m# with channel updates applied only at the transition between steps.\u001b[0m\u001b[0;34m\u001b[0m\u001b[0;34m\u001b[0m\u001b[0m\n\u001b[1;32m   1723\u001b[0m                 \u001b[0;32mwhile\u001b[0m \u001b[0mloop\u001b[0m\u001b[0;34m.\u001b[0m\u001b[0mtick\u001b[0m\u001b[0;34m(\u001b[0m\u001b[0minput_keys\u001b[0m\u001b[0;34m=\u001b[0m\u001b[0mself\u001b[0m\u001b[0;34m.\u001b[0m\u001b[0minput_channels\u001b[0m\u001b[0;34m)\u001b[0m\u001b[0;34m:\u001b[0m\u001b[0;34m\u001b[0m\u001b[0;34m\u001b[0m\u001b[0m\n\u001b[0;32m-> 1724\u001b[0;31m                     for _ in runner.tick(\n\u001b[0m\u001b[1;32m   1725\u001b[0m                         \u001b[0mloop\u001b[0m\u001b[0;34m.\u001b[0m\u001b[0mtasks\u001b[0m\u001b[0;34m.\u001b[0m\u001b[0mvalues\u001b[0m\u001b[0;34m(\u001b[0m\u001b[0;34m)\u001b[0m\u001b[0;34m,\u001b[0m\u001b[0;34m\u001b[0m\u001b[0;34m\u001b[0m\u001b[0m\n\u001b[1;32m   1726\u001b[0m                         \u001b[0mtimeout\u001b[0m\u001b[0;34m=\u001b[0m\u001b[0mself\u001b[0m\u001b[0;34m.\u001b[0m\u001b[0mstep_timeout\u001b[0m\u001b[0;34m,\u001b[0m\u001b[0;34m\u001b[0m\u001b[0;34m\u001b[0m\u001b[0m\n",
            "\u001b[0;32m/usr/local/lib/python3.11/dist-packages/langgraph/pregel/runner.py\u001b[0m in \u001b[0;36mtick\u001b[0;34m(self, tasks, reraise, timeout, retry_policy, get_waiter)\u001b[0m\n\u001b[1;32m    228\u001b[0m             \u001b[0mt\u001b[0m \u001b[0;34m=\u001b[0m \u001b[0mtasks\u001b[0m\u001b[0;34m[\u001b[0m\u001b[0;36m0\u001b[0m\u001b[0;34m]\u001b[0m\u001b[0;34m\u001b[0m\u001b[0;34m\u001b[0m\u001b[0m\n\u001b[1;32m    229\u001b[0m             \u001b[0;32mtry\u001b[0m\u001b[0;34m:\u001b[0m\u001b[0;34m\u001b[0m\u001b[0;34m\u001b[0m\u001b[0m\n\u001b[0;32m--> 230\u001b[0;31m                 run_with_retry(\n\u001b[0m\u001b[1;32m    231\u001b[0m                     \u001b[0mt\u001b[0m\u001b[0;34m,\u001b[0m\u001b[0;34m\u001b[0m\u001b[0;34m\u001b[0m\u001b[0m\n\u001b[1;32m    232\u001b[0m                     \u001b[0mretry_policy\u001b[0m\u001b[0;34m,\u001b[0m\u001b[0;34m\u001b[0m\u001b[0;34m\u001b[0m\u001b[0m\n",
            "\u001b[0;32m/usr/local/lib/python3.11/dist-packages/langgraph/pregel/retry.py\u001b[0m in \u001b[0;36mrun_with_retry\u001b[0;34m(task, retry_policy, configurable)\u001b[0m\n\u001b[1;32m     38\u001b[0m             \u001b[0mtask\u001b[0m\u001b[0;34m.\u001b[0m\u001b[0mwrites\u001b[0m\u001b[0;34m.\u001b[0m\u001b[0mclear\u001b[0m\u001b[0;34m(\u001b[0m\u001b[0;34m)\u001b[0m\u001b[0;34m\u001b[0m\u001b[0;34m\u001b[0m\u001b[0m\n\u001b[1;32m     39\u001b[0m             \u001b[0;31m# run the task\u001b[0m\u001b[0;34m\u001b[0m\u001b[0;34m\u001b[0m\u001b[0m\n\u001b[0;32m---> 40\u001b[0;31m             \u001b[0;32mreturn\u001b[0m \u001b[0mtask\u001b[0m\u001b[0;34m.\u001b[0m\u001b[0mproc\u001b[0m\u001b[0;34m.\u001b[0m\u001b[0minvoke\u001b[0m\u001b[0;34m(\u001b[0m\u001b[0mtask\u001b[0m\u001b[0;34m.\u001b[0m\u001b[0minput\u001b[0m\u001b[0;34m,\u001b[0m \u001b[0mconfig\u001b[0m\u001b[0;34m)\u001b[0m\u001b[0;34m\u001b[0m\u001b[0;34m\u001b[0m\u001b[0m\n\u001b[0m\u001b[1;32m     41\u001b[0m         \u001b[0;32mexcept\u001b[0m \u001b[0mParentCommand\u001b[0m \u001b[0;32mas\u001b[0m \u001b[0mexc\u001b[0m\u001b[0;34m:\u001b[0m\u001b[0;34m\u001b[0m\u001b[0;34m\u001b[0m\u001b[0m\n\u001b[1;32m     42\u001b[0m             \u001b[0mns\u001b[0m\u001b[0;34m:\u001b[0m \u001b[0mstr\u001b[0m \u001b[0;34m=\u001b[0m \u001b[0mconfig\u001b[0m\u001b[0;34m[\u001b[0m\u001b[0mCONF\u001b[0m\u001b[0;34m]\u001b[0m\u001b[0;34m[\u001b[0m\u001b[0mCONFIG_KEY_CHECKPOINT_NS\u001b[0m\u001b[0;34m]\u001b[0m\u001b[0;34m\u001b[0m\u001b[0;34m\u001b[0m\u001b[0m\n",
            "\u001b[0;32m/usr/local/lib/python3.11/dist-packages/langgraph/utils/runnable.py\u001b[0m in \u001b[0;36minvoke\u001b[0;34m(self, input, config, **kwargs)\u001b[0m\n\u001b[1;32m    493\u001b[0m                 )\n\u001b[1;32m    494\u001b[0m                 \u001b[0;32mif\u001b[0m \u001b[0mi\u001b[0m \u001b[0;34m==\u001b[0m \u001b[0;36m0\u001b[0m\u001b[0;34m:\u001b[0m\u001b[0;34m\u001b[0m\u001b[0;34m\u001b[0m\u001b[0m\n\u001b[0;32m--> 495\u001b[0;31m                     \u001b[0minput\u001b[0m \u001b[0;34m=\u001b[0m \u001b[0mstep\u001b[0m\u001b[0;34m.\u001b[0m\u001b[0minvoke\u001b[0m\u001b[0;34m(\u001b[0m\u001b[0minput\u001b[0m\u001b[0;34m,\u001b[0m \u001b[0mconfig\u001b[0m\u001b[0;34m,\u001b[0m \u001b[0;34m**\u001b[0m\u001b[0mkwargs\u001b[0m\u001b[0;34m)\u001b[0m\u001b[0;34m\u001b[0m\u001b[0;34m\u001b[0m\u001b[0m\n\u001b[0m\u001b[1;32m    496\u001b[0m                 \u001b[0;32melse\u001b[0m\u001b[0;34m:\u001b[0m\u001b[0;34m\u001b[0m\u001b[0;34m\u001b[0m\u001b[0m\n\u001b[1;32m    497\u001b[0m                     \u001b[0minput\u001b[0m \u001b[0;34m=\u001b[0m \u001b[0mstep\u001b[0m\u001b[0;34m.\u001b[0m\u001b[0minvoke\u001b[0m\u001b[0;34m(\u001b[0m\u001b[0minput\u001b[0m\u001b[0;34m,\u001b[0m \u001b[0mconfig\u001b[0m\u001b[0;34m)\u001b[0m\u001b[0;34m\u001b[0m\u001b[0;34m\u001b[0m\u001b[0m\n",
            "\u001b[0;32m/usr/local/lib/python3.11/dist-packages/langgraph/utils/runnable.py\u001b[0m in \u001b[0;36minvoke\u001b[0;34m(self, input, config, **kwargs)\u001b[0m\n\u001b[1;32m    257\u001b[0m         \u001b[0;32melse\u001b[0m\u001b[0;34m:\u001b[0m\u001b[0;34m\u001b[0m\u001b[0;34m\u001b[0m\u001b[0m\n\u001b[1;32m    258\u001b[0m             \u001b[0mcontext\u001b[0m\u001b[0;34m.\u001b[0m\u001b[0mrun\u001b[0m\u001b[0;34m(\u001b[0m\u001b[0m_set_config_context\u001b[0m\u001b[0;34m,\u001b[0m \u001b[0mconfig\u001b[0m\u001b[0;34m)\u001b[0m\u001b[0;34m\u001b[0m\u001b[0;34m\u001b[0m\u001b[0m\n\u001b[0;32m--> 259\u001b[0;31m             \u001b[0mret\u001b[0m \u001b[0;34m=\u001b[0m \u001b[0mcontext\u001b[0m\u001b[0;34m.\u001b[0m\u001b[0mrun\u001b[0m\u001b[0;34m(\u001b[0m\u001b[0mself\u001b[0m\u001b[0;34m.\u001b[0m\u001b[0mfunc\u001b[0m\u001b[0;34m,\u001b[0m \u001b[0;34m*\u001b[0m\u001b[0margs\u001b[0m\u001b[0;34m,\u001b[0m \u001b[0;34m**\u001b[0m\u001b[0mkwargs\u001b[0m\u001b[0;34m)\u001b[0m\u001b[0;34m\u001b[0m\u001b[0;34m\u001b[0m\u001b[0m\n\u001b[0m\u001b[1;32m    260\u001b[0m         \u001b[0;32mif\u001b[0m \u001b[0misinstance\u001b[0m\u001b[0;34m(\u001b[0m\u001b[0mret\u001b[0m\u001b[0;34m,\u001b[0m \u001b[0mRunnable\u001b[0m\u001b[0;34m)\u001b[0m \u001b[0;32mand\u001b[0m \u001b[0mself\u001b[0m\u001b[0;34m.\u001b[0m\u001b[0mrecurse\u001b[0m\u001b[0;34m:\u001b[0m\u001b[0;34m\u001b[0m\u001b[0;34m\u001b[0m\u001b[0m\n\u001b[1;32m    261\u001b[0m             \u001b[0;32mreturn\u001b[0m \u001b[0mret\u001b[0m\u001b[0;34m.\u001b[0m\u001b[0minvoke\u001b[0m\u001b[0;34m(\u001b[0m\u001b[0minput\u001b[0m\u001b[0;34m,\u001b[0m \u001b[0mconfig\u001b[0m\u001b[0;34m)\u001b[0m\u001b[0;34m\u001b[0m\u001b[0;34m\u001b[0m\u001b[0m\n",
            "\u001b[0;32m<ipython-input-92-f7bf4e97285a>\u001b[0m in \u001b[0;36mchatbot\u001b[0;34m(state)\u001b[0m\n\u001b[1;32m      1\u001b[0m \u001b[0;32mdef\u001b[0m \u001b[0mchatbot\u001b[0m\u001b[0;34m(\u001b[0m\u001b[0mstate\u001b[0m\u001b[0;34m:\u001b[0m \u001b[0mState\u001b[0m\u001b[0;34m)\u001b[0m\u001b[0;34m:\u001b[0m\u001b[0;34m\u001b[0m\u001b[0;34m\u001b[0m\u001b[0m\n\u001b[0;32m----> 2\u001b[0;31m     \u001b[0mmessage\u001b[0m \u001b[0;34m=\u001b[0m \u001b[0mllm_with_tools\u001b[0m\u001b[0;34m.\u001b[0m\u001b[0minvoke\u001b[0m\u001b[0;34m(\u001b[0m\u001b[0mstate\u001b[0m\u001b[0;34m[\u001b[0m\u001b[0;34m\"messages\"\u001b[0m\u001b[0;34m]\u001b[0m\u001b[0;34m)\u001b[0m\u001b[0;34m\u001b[0m\u001b[0;34m\u001b[0m\u001b[0m\n\u001b[0m\u001b[1;32m      3\u001b[0m     \u001b[0mask_human\u001b[0m \u001b[0;34m=\u001b[0m \u001b[0;32mFalse\u001b[0m\u001b[0;34m\u001b[0m\u001b[0;34m\u001b[0m\u001b[0m\n\u001b[1;32m      4\u001b[0m     if (\n\u001b[1;32m      5\u001b[0m         \u001b[0mresponse\u001b[0m\u001b[0;34m.\u001b[0m\u001b[0mtool_calls\u001b[0m\u001b[0;34m\u001b[0m\u001b[0;34m\u001b[0m\u001b[0m\n",
            "\u001b[0;32m/usr/local/lib/python3.11/dist-packages/langchain_core/runnables/base.py\u001b[0m in \u001b[0;36minvoke\u001b[0;34m(self, input, config, **kwargs)\u001b[0m\n\u001b[1;32m   5350\u001b[0m         \u001b[0;34m**\u001b[0m\u001b[0mkwargs\u001b[0m\u001b[0;34m:\u001b[0m \u001b[0mOptional\u001b[0m\u001b[0;34m[\u001b[0m\u001b[0mAny\u001b[0m\u001b[0;34m]\u001b[0m\u001b[0;34m,\u001b[0m\u001b[0;34m\u001b[0m\u001b[0;34m\u001b[0m\u001b[0m\n\u001b[1;32m   5351\u001b[0m     ) -> Output:\n\u001b[0;32m-> 5352\u001b[0;31m         return self.bound.invoke(\n\u001b[0m\u001b[1;32m   5353\u001b[0m             \u001b[0minput\u001b[0m\u001b[0;34m,\u001b[0m\u001b[0;34m\u001b[0m\u001b[0;34m\u001b[0m\u001b[0m\n\u001b[1;32m   5354\u001b[0m             \u001b[0mself\u001b[0m\u001b[0;34m.\u001b[0m\u001b[0m_merge_configs\u001b[0m\u001b[0;34m(\u001b[0m\u001b[0mconfig\u001b[0m\u001b[0;34m)\u001b[0m\u001b[0;34m,\u001b[0m\u001b[0;34m\u001b[0m\u001b[0;34m\u001b[0m\u001b[0m\n",
            "\u001b[0;32m/usr/local/lib/python3.11/dist-packages/langchain_core/language_models/chat_models.py\u001b[0m in \u001b[0;36minvoke\u001b[0;34m(self, input, config, stop, **kwargs)\u001b[0m\n\u001b[1;32m    282\u001b[0m         return cast(\n\u001b[1;32m    283\u001b[0m             \u001b[0mChatGeneration\u001b[0m\u001b[0;34m,\u001b[0m\u001b[0;34m\u001b[0m\u001b[0;34m\u001b[0m\u001b[0m\n\u001b[0;32m--> 284\u001b[0;31m             self.generate_prompt(\n\u001b[0m\u001b[1;32m    285\u001b[0m                 \u001b[0;34m[\u001b[0m\u001b[0mself\u001b[0m\u001b[0;34m.\u001b[0m\u001b[0m_convert_input\u001b[0m\u001b[0;34m(\u001b[0m\u001b[0minput\u001b[0m\u001b[0;34m)\u001b[0m\u001b[0;34m]\u001b[0m\u001b[0;34m,\u001b[0m\u001b[0;34m\u001b[0m\u001b[0;34m\u001b[0m\u001b[0m\n\u001b[1;32m    286\u001b[0m                 \u001b[0mstop\u001b[0m\u001b[0;34m=\u001b[0m\u001b[0mstop\u001b[0m\u001b[0;34m,\u001b[0m\u001b[0;34m\u001b[0m\u001b[0;34m\u001b[0m\u001b[0m\n",
            "\u001b[0;32m/usr/local/lib/python3.11/dist-packages/langchain_core/language_models/chat_models.py\u001b[0m in \u001b[0;36mgenerate_prompt\u001b[0;34m(self, prompts, stop, callbacks, **kwargs)\u001b[0m\n\u001b[1;32m    858\u001b[0m     ) -> LLMResult:\n\u001b[1;32m    859\u001b[0m         \u001b[0mprompt_messages\u001b[0m \u001b[0;34m=\u001b[0m \u001b[0;34m[\u001b[0m\u001b[0mp\u001b[0m\u001b[0;34m.\u001b[0m\u001b[0mto_messages\u001b[0m\u001b[0;34m(\u001b[0m\u001b[0;34m)\u001b[0m \u001b[0;32mfor\u001b[0m \u001b[0mp\u001b[0m \u001b[0;32min\u001b[0m \u001b[0mprompts\u001b[0m\u001b[0;34m]\u001b[0m\u001b[0;34m\u001b[0m\u001b[0;34m\u001b[0m\u001b[0m\n\u001b[0;32m--> 860\u001b[0;31m         \u001b[0;32mreturn\u001b[0m \u001b[0mself\u001b[0m\u001b[0;34m.\u001b[0m\u001b[0mgenerate\u001b[0m\u001b[0;34m(\u001b[0m\u001b[0mprompt_messages\u001b[0m\u001b[0;34m,\u001b[0m \u001b[0mstop\u001b[0m\u001b[0;34m=\u001b[0m\u001b[0mstop\u001b[0m\u001b[0;34m,\u001b[0m \u001b[0mcallbacks\u001b[0m\u001b[0;34m=\u001b[0m\u001b[0mcallbacks\u001b[0m\u001b[0;34m,\u001b[0m \u001b[0;34m**\u001b[0m\u001b[0mkwargs\u001b[0m\u001b[0;34m)\u001b[0m\u001b[0;34m\u001b[0m\u001b[0;34m\u001b[0m\u001b[0m\n\u001b[0m\u001b[1;32m    861\u001b[0m \u001b[0;34m\u001b[0m\u001b[0m\n\u001b[1;32m    862\u001b[0m     async def agenerate_prompt(\n",
            "\u001b[0;32m/usr/local/lib/python3.11/dist-packages/langchain_core/language_models/chat_models.py\u001b[0m in \u001b[0;36mgenerate\u001b[0;34m(self, messages, stop, callbacks, tags, metadata, run_name, run_id, **kwargs)\u001b[0m\n\u001b[1;32m    688\u001b[0m             \u001b[0;32mtry\u001b[0m\u001b[0;34m:\u001b[0m\u001b[0;34m\u001b[0m\u001b[0;34m\u001b[0m\u001b[0m\n\u001b[1;32m    689\u001b[0m                 results.append(\n\u001b[0;32m--> 690\u001b[0;31m                     self._generate_with_cache(\n\u001b[0m\u001b[1;32m    691\u001b[0m                         \u001b[0mm\u001b[0m\u001b[0;34m,\u001b[0m\u001b[0;34m\u001b[0m\u001b[0;34m\u001b[0m\u001b[0m\n\u001b[1;32m    692\u001b[0m                         \u001b[0mstop\u001b[0m\u001b[0;34m=\u001b[0m\u001b[0mstop\u001b[0m\u001b[0;34m,\u001b[0m\u001b[0;34m\u001b[0m\u001b[0;34m\u001b[0m\u001b[0m\n",
            "\u001b[0;32m/usr/local/lib/python3.11/dist-packages/langchain_core/language_models/chat_models.py\u001b[0m in \u001b[0;36m_generate_with_cache\u001b[0;34m(self, messages, stop, run_manager, **kwargs)\u001b[0m\n\u001b[1;32m    923\u001b[0m         \u001b[0;32melse\u001b[0m\u001b[0;34m:\u001b[0m\u001b[0;34m\u001b[0m\u001b[0;34m\u001b[0m\u001b[0m\n\u001b[1;32m    924\u001b[0m             \u001b[0;32mif\u001b[0m \u001b[0minspect\u001b[0m\u001b[0;34m.\u001b[0m\u001b[0msignature\u001b[0m\u001b[0;34m(\u001b[0m\u001b[0mself\u001b[0m\u001b[0;34m.\u001b[0m\u001b[0m_generate\u001b[0m\u001b[0;34m)\u001b[0m\u001b[0;34m.\u001b[0m\u001b[0mparameters\u001b[0m\u001b[0;34m.\u001b[0m\u001b[0mget\u001b[0m\u001b[0;34m(\u001b[0m\u001b[0;34m\"run_manager\"\u001b[0m\u001b[0;34m)\u001b[0m\u001b[0;34m:\u001b[0m\u001b[0;34m\u001b[0m\u001b[0;34m\u001b[0m\u001b[0m\n\u001b[0;32m--> 925\u001b[0;31m                 result = self._generate(\n\u001b[0m\u001b[1;32m    926\u001b[0m                     \u001b[0mmessages\u001b[0m\u001b[0;34m,\u001b[0m \u001b[0mstop\u001b[0m\u001b[0;34m=\u001b[0m\u001b[0mstop\u001b[0m\u001b[0;34m,\u001b[0m \u001b[0mrun_manager\u001b[0m\u001b[0;34m=\u001b[0m\u001b[0mrun_manager\u001b[0m\u001b[0;34m,\u001b[0m \u001b[0;34m**\u001b[0m\u001b[0mkwargs\u001b[0m\u001b[0;34m\u001b[0m\u001b[0;34m\u001b[0m\u001b[0m\n\u001b[1;32m    927\u001b[0m                 )\n",
            "\u001b[0;32m/usr/local/lib/python3.11/dist-packages/langchain_google_genai/chat_models.py\u001b[0m in \u001b[0;36m_generate\u001b[0;34m(self, messages, stop, run_manager, tools, functions, safety_settings, tool_config, generation_config, cached_content, tool_choice, **kwargs)\u001b[0m\n\u001b[1;32m    949\u001b[0m             \u001b[0mtool_choice\u001b[0m\u001b[0;34m=\u001b[0m\u001b[0mtool_choice\u001b[0m\u001b[0;34m,\u001b[0m\u001b[0;34m\u001b[0m\u001b[0;34m\u001b[0m\u001b[0m\n\u001b[1;32m    950\u001b[0m         )\n\u001b[0;32m--> 951\u001b[0;31m         response: GenerateContentResponse = _chat_with_retry(\n\u001b[0m\u001b[1;32m    952\u001b[0m             \u001b[0mrequest\u001b[0m\u001b[0;34m=\u001b[0m\u001b[0mrequest\u001b[0m\u001b[0;34m,\u001b[0m\u001b[0;34m\u001b[0m\u001b[0;34m\u001b[0m\u001b[0m\n\u001b[1;32m    953\u001b[0m             \u001b[0;34m**\u001b[0m\u001b[0mkwargs\u001b[0m\u001b[0;34m,\u001b[0m\u001b[0;34m\u001b[0m\u001b[0;34m\u001b[0m\u001b[0m\n",
            "\u001b[0;32m/usr/local/lib/python3.11/dist-packages/langchain_google_genai/chat_models.py\u001b[0m in \u001b[0;36m_chat_with_retry\u001b[0;34m(generation_method, **kwargs)\u001b[0m\n\u001b[1;32m    194\u001b[0m             \u001b[0;32mraise\u001b[0m \u001b[0me\u001b[0m\u001b[0;34m\u001b[0m\u001b[0;34m\u001b[0m\u001b[0m\n\u001b[1;32m    195\u001b[0m \u001b[0;34m\u001b[0m\u001b[0m\n\u001b[0;32m--> 196\u001b[0;31m     \u001b[0;32mreturn\u001b[0m \u001b[0m_chat_with_retry\u001b[0m\u001b[0;34m(\u001b[0m\u001b[0;34m**\u001b[0m\u001b[0mkwargs\u001b[0m\u001b[0;34m)\u001b[0m\u001b[0;34m\u001b[0m\u001b[0;34m\u001b[0m\u001b[0m\n\u001b[0m\u001b[1;32m    197\u001b[0m \u001b[0;34m\u001b[0m\u001b[0m\n\u001b[1;32m    198\u001b[0m \u001b[0;34m\u001b[0m\u001b[0m\n",
            "\u001b[0;32m/usr/local/lib/python3.11/dist-packages/tenacity/__init__.py\u001b[0m in \u001b[0;36mwrapped_f\u001b[0;34m(*args, **kw)\u001b[0m\n\u001b[1;32m    334\u001b[0m             \u001b[0mcopy\u001b[0m \u001b[0;34m=\u001b[0m \u001b[0mself\u001b[0m\u001b[0;34m.\u001b[0m\u001b[0mcopy\u001b[0m\u001b[0;34m(\u001b[0m\u001b[0;34m)\u001b[0m\u001b[0;34m\u001b[0m\u001b[0;34m\u001b[0m\u001b[0m\n\u001b[1;32m    335\u001b[0m             \u001b[0mwrapped_f\u001b[0m\u001b[0;34m.\u001b[0m\u001b[0mstatistics\u001b[0m \u001b[0;34m=\u001b[0m \u001b[0mcopy\u001b[0m\u001b[0;34m.\u001b[0m\u001b[0mstatistics\u001b[0m  \u001b[0;31m# type: ignore[attr-defined]\u001b[0m\u001b[0;34m\u001b[0m\u001b[0;34m\u001b[0m\u001b[0m\n\u001b[0;32m--> 336\u001b[0;31m             \u001b[0;32mreturn\u001b[0m \u001b[0mcopy\u001b[0m\u001b[0;34m(\u001b[0m\u001b[0mf\u001b[0m\u001b[0;34m,\u001b[0m \u001b[0;34m*\u001b[0m\u001b[0margs\u001b[0m\u001b[0;34m,\u001b[0m \u001b[0;34m**\u001b[0m\u001b[0mkw\u001b[0m\u001b[0;34m)\u001b[0m\u001b[0;34m\u001b[0m\u001b[0;34m\u001b[0m\u001b[0m\n\u001b[0m\u001b[1;32m    337\u001b[0m \u001b[0;34m\u001b[0m\u001b[0m\n\u001b[1;32m    338\u001b[0m         \u001b[0;32mdef\u001b[0m \u001b[0mretry_with\u001b[0m\u001b[0;34m(\u001b[0m\u001b[0;34m*\u001b[0m\u001b[0margs\u001b[0m\u001b[0;34m:\u001b[0m \u001b[0mt\u001b[0m\u001b[0;34m.\u001b[0m\u001b[0mAny\u001b[0m\u001b[0;34m,\u001b[0m \u001b[0;34m**\u001b[0m\u001b[0mkwargs\u001b[0m\u001b[0;34m:\u001b[0m \u001b[0mt\u001b[0m\u001b[0;34m.\u001b[0m\u001b[0mAny\u001b[0m\u001b[0;34m)\u001b[0m \u001b[0;34m->\u001b[0m \u001b[0mWrappedFn\u001b[0m\u001b[0;34m:\u001b[0m\u001b[0;34m\u001b[0m\u001b[0;34m\u001b[0m\u001b[0m\n",
            "\u001b[0;32m/usr/local/lib/python3.11/dist-packages/tenacity/__init__.py\u001b[0m in \u001b[0;36m__call__\u001b[0;34m(self, fn, *args, **kwargs)\u001b[0m\n\u001b[1;32m    473\u001b[0m         \u001b[0mretry_state\u001b[0m \u001b[0;34m=\u001b[0m \u001b[0mRetryCallState\u001b[0m\u001b[0;34m(\u001b[0m\u001b[0mretry_object\u001b[0m\u001b[0;34m=\u001b[0m\u001b[0mself\u001b[0m\u001b[0;34m,\u001b[0m \u001b[0mfn\u001b[0m\u001b[0;34m=\u001b[0m\u001b[0mfn\u001b[0m\u001b[0;34m,\u001b[0m \u001b[0margs\u001b[0m\u001b[0;34m=\u001b[0m\u001b[0margs\u001b[0m\u001b[0;34m,\u001b[0m \u001b[0mkwargs\u001b[0m\u001b[0;34m=\u001b[0m\u001b[0mkwargs\u001b[0m\u001b[0;34m)\u001b[0m\u001b[0;34m\u001b[0m\u001b[0;34m\u001b[0m\u001b[0m\n\u001b[1;32m    474\u001b[0m         \u001b[0;32mwhile\u001b[0m \u001b[0;32mTrue\u001b[0m\u001b[0;34m:\u001b[0m\u001b[0;34m\u001b[0m\u001b[0;34m\u001b[0m\u001b[0m\n\u001b[0;32m--> 475\u001b[0;31m             \u001b[0mdo\u001b[0m \u001b[0;34m=\u001b[0m \u001b[0mself\u001b[0m\u001b[0;34m.\u001b[0m\u001b[0miter\u001b[0m\u001b[0;34m(\u001b[0m\u001b[0mretry_state\u001b[0m\u001b[0;34m=\u001b[0m\u001b[0mretry_state\u001b[0m\u001b[0;34m)\u001b[0m\u001b[0;34m\u001b[0m\u001b[0;34m\u001b[0m\u001b[0m\n\u001b[0m\u001b[1;32m    476\u001b[0m             \u001b[0;32mif\u001b[0m \u001b[0misinstance\u001b[0m\u001b[0;34m(\u001b[0m\u001b[0mdo\u001b[0m\u001b[0;34m,\u001b[0m \u001b[0mDoAttempt\u001b[0m\u001b[0;34m)\u001b[0m\u001b[0;34m:\u001b[0m\u001b[0;34m\u001b[0m\u001b[0;34m\u001b[0m\u001b[0m\n\u001b[1;32m    477\u001b[0m                 \u001b[0;32mtry\u001b[0m\u001b[0;34m:\u001b[0m\u001b[0;34m\u001b[0m\u001b[0;34m\u001b[0m\u001b[0m\n",
            "\u001b[0;32m/usr/local/lib/python3.11/dist-packages/tenacity/__init__.py\u001b[0m in \u001b[0;36miter\u001b[0;34m(self, retry_state)\u001b[0m\n\u001b[1;32m    374\u001b[0m         \u001b[0mresult\u001b[0m \u001b[0;34m=\u001b[0m \u001b[0;32mNone\u001b[0m\u001b[0;34m\u001b[0m\u001b[0;34m\u001b[0m\u001b[0m\n\u001b[1;32m    375\u001b[0m         \u001b[0;32mfor\u001b[0m \u001b[0maction\u001b[0m \u001b[0;32min\u001b[0m \u001b[0mself\u001b[0m\u001b[0;34m.\u001b[0m\u001b[0miter_state\u001b[0m\u001b[0;34m.\u001b[0m\u001b[0mactions\u001b[0m\u001b[0;34m:\u001b[0m\u001b[0;34m\u001b[0m\u001b[0;34m\u001b[0m\u001b[0m\n\u001b[0;32m--> 376\u001b[0;31m             \u001b[0mresult\u001b[0m \u001b[0;34m=\u001b[0m \u001b[0maction\u001b[0m\u001b[0;34m(\u001b[0m\u001b[0mretry_state\u001b[0m\u001b[0;34m)\u001b[0m\u001b[0;34m\u001b[0m\u001b[0;34m\u001b[0m\u001b[0m\n\u001b[0m\u001b[1;32m    377\u001b[0m         \u001b[0;32mreturn\u001b[0m \u001b[0mresult\u001b[0m\u001b[0;34m\u001b[0m\u001b[0;34m\u001b[0m\u001b[0m\n\u001b[1;32m    378\u001b[0m \u001b[0;34m\u001b[0m\u001b[0m\n",
            "\u001b[0;32m/usr/local/lib/python3.11/dist-packages/tenacity/__init__.py\u001b[0m in \u001b[0;36m<lambda>\u001b[0;34m(rs)\u001b[0m\n\u001b[1;32m    396\u001b[0m     \u001b[0;32mdef\u001b[0m \u001b[0m_post_retry_check_actions\u001b[0m\u001b[0;34m(\u001b[0m\u001b[0mself\u001b[0m\u001b[0;34m,\u001b[0m \u001b[0mretry_state\u001b[0m\u001b[0;34m:\u001b[0m \u001b[0;34m\"RetryCallState\"\u001b[0m\u001b[0;34m)\u001b[0m \u001b[0;34m->\u001b[0m \u001b[0;32mNone\u001b[0m\u001b[0;34m:\u001b[0m\u001b[0;34m\u001b[0m\u001b[0;34m\u001b[0m\u001b[0m\n\u001b[1;32m    397\u001b[0m         \u001b[0;32mif\u001b[0m \u001b[0;32mnot\u001b[0m \u001b[0;34m(\u001b[0m\u001b[0mself\u001b[0m\u001b[0;34m.\u001b[0m\u001b[0miter_state\u001b[0m\u001b[0;34m.\u001b[0m\u001b[0mis_explicit_retry\u001b[0m \u001b[0;32mor\u001b[0m \u001b[0mself\u001b[0m\u001b[0;34m.\u001b[0m\u001b[0miter_state\u001b[0m\u001b[0;34m.\u001b[0m\u001b[0mretry_run_result\u001b[0m\u001b[0;34m)\u001b[0m\u001b[0;34m:\u001b[0m\u001b[0;34m\u001b[0m\u001b[0;34m\u001b[0m\u001b[0m\n\u001b[0;32m--> 398\u001b[0;31m             \u001b[0mself\u001b[0m\u001b[0;34m.\u001b[0m\u001b[0m_add_action_func\u001b[0m\u001b[0;34m(\u001b[0m\u001b[0;32mlambda\u001b[0m \u001b[0mrs\u001b[0m\u001b[0;34m:\u001b[0m \u001b[0mrs\u001b[0m\u001b[0;34m.\u001b[0m\u001b[0moutcome\u001b[0m\u001b[0;34m.\u001b[0m\u001b[0mresult\u001b[0m\u001b[0;34m(\u001b[0m\u001b[0;34m)\u001b[0m\u001b[0;34m)\u001b[0m\u001b[0;34m\u001b[0m\u001b[0;34m\u001b[0m\u001b[0m\n\u001b[0m\u001b[1;32m    399\u001b[0m             \u001b[0;32mreturn\u001b[0m\u001b[0;34m\u001b[0m\u001b[0;34m\u001b[0m\u001b[0m\n\u001b[1;32m    400\u001b[0m \u001b[0;34m\u001b[0m\u001b[0m\n",
            "\u001b[0;32m/usr/lib/python3.11/concurrent/futures/_base.py\u001b[0m in \u001b[0;36mresult\u001b[0;34m(self, timeout)\u001b[0m\n\u001b[1;32m    447\u001b[0m                     \u001b[0;32mraise\u001b[0m \u001b[0mCancelledError\u001b[0m\u001b[0;34m(\u001b[0m\u001b[0;34m)\u001b[0m\u001b[0;34m\u001b[0m\u001b[0;34m\u001b[0m\u001b[0m\n\u001b[1;32m    448\u001b[0m                 \u001b[0;32melif\u001b[0m \u001b[0mself\u001b[0m\u001b[0;34m.\u001b[0m\u001b[0m_state\u001b[0m \u001b[0;34m==\u001b[0m \u001b[0mFINISHED\u001b[0m\u001b[0;34m:\u001b[0m\u001b[0;34m\u001b[0m\u001b[0;34m\u001b[0m\u001b[0m\n\u001b[0;32m--> 449\u001b[0;31m                     \u001b[0;32mreturn\u001b[0m \u001b[0mself\u001b[0m\u001b[0;34m.\u001b[0m\u001b[0m__get_result\u001b[0m\u001b[0;34m(\u001b[0m\u001b[0;34m)\u001b[0m\u001b[0;34m\u001b[0m\u001b[0;34m\u001b[0m\u001b[0m\n\u001b[0m\u001b[1;32m    450\u001b[0m \u001b[0;34m\u001b[0m\u001b[0m\n\u001b[1;32m    451\u001b[0m                 \u001b[0mself\u001b[0m\u001b[0;34m.\u001b[0m\u001b[0m_condition\u001b[0m\u001b[0;34m.\u001b[0m\u001b[0mwait\u001b[0m\u001b[0;34m(\u001b[0m\u001b[0mtimeout\u001b[0m\u001b[0;34m)\u001b[0m\u001b[0;34m\u001b[0m\u001b[0;34m\u001b[0m\u001b[0m\n",
            "\u001b[0;32m/usr/lib/python3.11/concurrent/futures/_base.py\u001b[0m in \u001b[0;36m__get_result\u001b[0;34m(self)\u001b[0m\n\u001b[1;32m    399\u001b[0m         \u001b[0;32mif\u001b[0m \u001b[0mself\u001b[0m\u001b[0;34m.\u001b[0m\u001b[0m_exception\u001b[0m\u001b[0;34m:\u001b[0m\u001b[0;34m\u001b[0m\u001b[0;34m\u001b[0m\u001b[0m\n\u001b[1;32m    400\u001b[0m             \u001b[0;32mtry\u001b[0m\u001b[0;34m:\u001b[0m\u001b[0;34m\u001b[0m\u001b[0;34m\u001b[0m\u001b[0m\n\u001b[0;32m--> 401\u001b[0;31m                 \u001b[0;32mraise\u001b[0m \u001b[0mself\u001b[0m\u001b[0;34m.\u001b[0m\u001b[0m_exception\u001b[0m\u001b[0;34m\u001b[0m\u001b[0;34m\u001b[0m\u001b[0m\n\u001b[0m\u001b[1;32m    402\u001b[0m             \u001b[0;32mfinally\u001b[0m\u001b[0;34m:\u001b[0m\u001b[0;34m\u001b[0m\u001b[0;34m\u001b[0m\u001b[0m\n\u001b[1;32m    403\u001b[0m                 \u001b[0;31m# Break a reference cycle with the exception in self._exception\u001b[0m\u001b[0;34m\u001b[0m\u001b[0;34m\u001b[0m\u001b[0m\n",
            "\u001b[0;32m/usr/local/lib/python3.11/dist-packages/tenacity/__init__.py\u001b[0m in \u001b[0;36m__call__\u001b[0;34m(self, fn, *args, **kwargs)\u001b[0m\n\u001b[1;32m    476\u001b[0m             \u001b[0;32mif\u001b[0m \u001b[0misinstance\u001b[0m\u001b[0;34m(\u001b[0m\u001b[0mdo\u001b[0m\u001b[0;34m,\u001b[0m \u001b[0mDoAttempt\u001b[0m\u001b[0;34m)\u001b[0m\u001b[0;34m:\u001b[0m\u001b[0;34m\u001b[0m\u001b[0;34m\u001b[0m\u001b[0m\n\u001b[1;32m    477\u001b[0m                 \u001b[0;32mtry\u001b[0m\u001b[0;34m:\u001b[0m\u001b[0;34m\u001b[0m\u001b[0;34m\u001b[0m\u001b[0m\n\u001b[0;32m--> 478\u001b[0;31m                     \u001b[0mresult\u001b[0m \u001b[0;34m=\u001b[0m \u001b[0mfn\u001b[0m\u001b[0;34m(\u001b[0m\u001b[0;34m*\u001b[0m\u001b[0margs\u001b[0m\u001b[0;34m,\u001b[0m \u001b[0;34m**\u001b[0m\u001b[0mkwargs\u001b[0m\u001b[0;34m)\u001b[0m\u001b[0;34m\u001b[0m\u001b[0;34m\u001b[0m\u001b[0m\n\u001b[0m\u001b[1;32m    479\u001b[0m                 \u001b[0;32mexcept\u001b[0m \u001b[0mBaseException\u001b[0m\u001b[0;34m:\u001b[0m  \u001b[0;31m# noqa: B902\u001b[0m\u001b[0;34m\u001b[0m\u001b[0;34m\u001b[0m\u001b[0m\n\u001b[1;32m    480\u001b[0m                     \u001b[0mretry_state\u001b[0m\u001b[0;34m.\u001b[0m\u001b[0mset_exception\u001b[0m\u001b[0;34m(\u001b[0m\u001b[0msys\u001b[0m\u001b[0;34m.\u001b[0m\u001b[0mexc_info\u001b[0m\u001b[0;34m(\u001b[0m\u001b[0;34m)\u001b[0m\u001b[0;34m)\u001b[0m  \u001b[0;31m# type: ignore[arg-type]\u001b[0m\u001b[0;34m\u001b[0m\u001b[0;34m\u001b[0m\u001b[0m\n",
            "\u001b[0;32m/usr/local/lib/python3.11/dist-packages/langchain_google_genai/chat_models.py\u001b[0m in \u001b[0;36m_chat_with_retry\u001b[0;34m(**kwargs)\u001b[0m\n\u001b[1;32m    188\u001b[0m \u001b[0;34m\u001b[0m\u001b[0m\n\u001b[1;32m    189\u001b[0m         \u001b[0;32mexcept\u001b[0m \u001b[0mgoogle\u001b[0m\u001b[0;34m.\u001b[0m\u001b[0mapi_core\u001b[0m\u001b[0;34m.\u001b[0m\u001b[0mexceptions\u001b[0m\u001b[0;34m.\u001b[0m\u001b[0mInvalidArgument\u001b[0m \u001b[0;32mas\u001b[0m \u001b[0me\u001b[0m\u001b[0;34m:\u001b[0m\u001b[0;34m\u001b[0m\u001b[0;34m\u001b[0m\u001b[0m\n\u001b[0;32m--> 190\u001b[0;31m             raise ChatGoogleGenerativeAIError(\n\u001b[0m\u001b[1;32m    191\u001b[0m                 \u001b[0;34mf\"Invalid argument provided to Gemini: {e}\"\u001b[0m\u001b[0;34m\u001b[0m\u001b[0;34m\u001b[0m\u001b[0m\n\u001b[1;32m    192\u001b[0m             ) from e\n",
            "\u001b[0;31mChatGoogleGenerativeAIError\u001b[0m: Invalid argument provided to Gemini: 400 * GenerateContentRequest.contents[2].parts[0].function_response.name: Name cannot be empty.\n"
          ]
        }
      ],
      "source": [
        "events = graph.stream(None, config, stream_mode=\"values\")\n",
        "\n",
        "for event in events:\n",
        "    if \"messages\" in event:\n",
        "      event[\"messages\"][-1].pretty_print()"
      ]
    },
    {
      "cell_type": "code",
      "execution_count": 112,
      "metadata": {
        "colab": {
          "base_uri": "https://localhost:8080/"
        },
        "id": "ANJ5j_LwCpSa",
        "outputId": "8f03b7c0-5dd4-449a-8ba5-556df4afc7a7"
      },
      "outputs": [
        {
          "output_type": "stream",
          "name": "stdout",
          "text": [
            "================================\u001b[1m Human Message \u001b[0m=================================\n",
            "\n",
            "I need some expert guidence for building this ai agent, could you request assistant for me?\n",
            "==================================\u001b[1m Ai Message \u001b[0m==================================\n",
            "Tool Calls:\n",
            "  RequestAssistance (dce12075-5d10-4ebb-8973-0d1cfd900fb5)\n",
            " Call ID: dce12075-5d10-4ebb-8973-0d1cfd900fb5\n",
            "  Args:\n",
            "    request: I need some expert guidence for building this ai agent.\n",
            "=================================\u001b[1m Tool Message \u001b[0m=================================\n",
            "\n",
            "We, the experts are here to help! We'd recommend you check out LangGraph to build your agent. It's much more reliable and extensible than simple autonomous agents.\n"
          ]
        }
      ],
      "source": [
        "for m in graph.get_state(config).values[\"messages\"]:\n",
        "  m.pretty_print()"
      ]
    },
    {
      "cell_type": "code",
      "execution_count": 113,
      "metadata": {
        "colab": {
          "base_uri": "https://localhost:8080/"
        },
        "id": "l6DsPhABp6rR",
        "outputId": "551fc587-de90-4ffd-fbed-7ef321b853ba"
      },
      "outputs": [
        {
          "output_type": "stream",
          "name": "stdout",
          "text": [
            "================================\u001b[1m Human Message \u001b[0m=================================\n",
            "\n",
            "hello!, I'm learning ai agents. \n",
            "==================================\u001b[1m Ai Message \u001b[0m==================================\n",
            "\n",
            "Hello!  I can help you learn about AI agents. What specifically about AI agents are you interested in learning?  For example, are you interested in a particular type of AI agent, a specific application, or the underlying concepts?  The more detail you provide, the better I can assist you.\n"
          ]
        }
      ],
      "source": [
        "config = {\"configurable\": {\"thread_id\": \"101\"}}\n",
        "events = graph.stream(\n",
        "    {\n",
        "        \"messages\": [\n",
        "            {\n",
        "                \"role\": \"user\",\n",
        "                \"content\": (\n",
        "                    \"hello!, I'm learning ai agents. \"\n",
        "\n",
        "                ),\n",
        "            },\n",
        "        ],\n",
        "    },\n",
        "    config,\n",
        "    stream_mode=\"values\",\n",
        ")\n",
        "for event in events:\n",
        "    if \"messages\" in event:\n",
        "        event[\"messages\"][-1].pretty_print()"
      ]
    },
    {
      "cell_type": "code",
      "execution_count": 114,
      "metadata": {
        "colab": {
          "base_uri": "https://localhost:8080/"
        },
        "id": "A5geQLNNqR7N",
        "outputId": "f3dc9a03-581a-4fae-e341-92d32f8c1464"
      },
      "outputs": [
        {
          "output_type": "stream",
          "name": "stdout",
          "text": [
            "================================\u001b[1m Human Message \u001b[0m=================================\n",
            "\n",
            "Ya that's helpful. Maybe I'll build an autonomous agent with it!\n",
            "==================================\u001b[1m Ai Message \u001b[0m==================================\n",
            "\n",
            "That's a great goal! Building an autonomous agent is a challenging but rewarding project. To help you get started, let's break down the process.  We need to consider several key aspects:\n",
            "\n",
            "1. **Define the Environment:** What kind of environment will your agent operate in?  Will it be a simulated environment (like a game) or a real-world environment?  The environment dictates the types of sensors and actions your agent will need.\n",
            "\n",
            "2. **Define the Agent's Goals:** What is the agent supposed to achieve?  This is crucial for designing the reward function and the overall agent architecture.  A clear objective helps guide the development process.\n",
            "\n",
            "3. **Choose an Agent Architecture:**  There are several options, each with its strengths and weaknesses:\n",
            "    * **Rule-based agents:**  These agents follow a set of pre-defined rules.  Simple to implement but not very adaptable.\n",
            "    * **Reactive agents:** These agents react directly to their current sensory input.  More adaptable than rule-based agents but still limited in their planning capabilities.\n",
            "    * **Model-based agents:** These agents build an internal model of the environment and use it to plan their actions. More complex but capable of more sophisticated behavior.\n",
            "    * **Reinforcement learning agents:** These agents learn through trial and error, interacting with the environment and receiving rewards or penalties based on their actions.  Very powerful but require significant computational resources and careful design.\n",
            "\n",
            "\n",
            "4. **Select Appropriate Algorithms and Technologies:**  The choice of algorithms and technologies will depend on the agent architecture and environment.  For example, reinforcement learning agents often use algorithms like Q-learning or Deep Q-Networks (DQN).\n",
            "\n",
            "5. **Implementation and Testing:**  This involves writing the code, training the agent (if necessary), and thoroughly testing its performance.\n",
            "\n",
            "To proceed, tell me more about the kind of autonomous agent you envision.  What environment will it operate in? What are its goals?  What level of complexity are you aiming for?  The more detail you provide, the better I can assist you in planning and building your agent.\n"
          ]
        }
      ],
      "source": [
        "events = graph.stream(\n",
        "    {\n",
        "        \"messages\": [\n",
        "            {\n",
        "                \"role\": \"user\",\n",
        "                \"content\": (\n",
        "                    \"Ya that's helpful. Maybe I'll \"\n",
        "                    \"build an autonomous agent with it!\"\n",
        "                ),\n",
        "            },\n",
        "        ],\n",
        "    },\n",
        "    config,\n",
        "    stream_mode=\"values\",\n",
        ")\n",
        "for event in events:\n",
        "    if \"messages\" in event:\n",
        "        event[\"messages\"][-1].pretty_print()"
      ]
    },
    {
      "cell_type": "code",
      "execution_count": 115,
      "metadata": {
        "colab": {
          "base_uri": "https://localhost:8080/"
        },
        "id": "5bkgLdy3qaLy",
        "outputId": "8768d187-f6e1-4509-ee01-ac98bb7bddf2"
      },
      "outputs": [
        {
          "output_type": "stream",
          "name": "stdout",
          "text": [
            "StateSnapshot(values={'messages': [HumanMessage(content=\"hello!, I'm learning ai agents. \", additional_kwargs={}, response_metadata={}, id='fd290614-0b55-473a-8051-e6df92c766bf'), AIMessage(content='Hello!  I can help you learn about AI agents. What specifically about AI agents are you interested in learning?  For example, are you interested in a particular type of AI agent, a specific application, or the underlying concepts?  The more detail you provide, the better I can assist you.', additional_kwargs={}, response_metadata={'prompt_feedback': {'block_reason': 0, 'safety_ratings': []}, 'finish_reason': 'STOP', 'safety_ratings': []}, id='run-8f2d08b3-e9ea-4b52-a735-6b908b1945a1-0', usage_metadata={'input_tokens': 124, 'output_tokens': 62, 'total_tokens': 186, 'input_token_details': {'cache_read': 0}}), HumanMessage(content=\"Ya that's helpful. Maybe I'll build an autonomous agent with it!\", additional_kwargs={}, response_metadata={}, id='717ae4d1-1350-455d-adac-f573e4c846bb'), AIMessage(content=\"That's a great goal! Building an autonomous agent is a challenging but rewarding project. To help you get started, let's break down the process.  We need to consider several key aspects:\\n\\n1. **Define the Environment:** What kind of environment will your agent operate in?  Will it be a simulated environment (like a game) or a real-world environment?  The environment dictates the types of sensors and actions your agent will need.\\n\\n2. **Define the Agent's Goals:** What is the agent supposed to achieve?  This is crucial for designing the reward function and the overall agent architecture.  A clear objective helps guide the development process.\\n\\n3. **Choose an Agent Architecture:**  There are several options, each with its strengths and weaknesses:\\n    * **Rule-based agents:**  These agents follow a set of pre-defined rules.  Simple to implement but not very adaptable.\\n    * **Reactive agents:** These agents react directly to their current sensory input.  More adaptable than rule-based agents but still limited in their planning capabilities.\\n    * **Model-based agents:** These agents build an internal model of the environment and use it to plan their actions. More complex but capable of more sophisticated behavior.\\n    * **Reinforcement learning agents:** These agents learn through trial and error, interacting with the environment and receiving rewards or penalties based on their actions.  Very powerful but require significant computational resources and careful design.\\n\\n\\n4. **Select Appropriate Algorithms and Technologies:**  The choice of algorithms and technologies will depend on the agent architecture and environment.  For example, reinforcement learning agents often use algorithms like Q-learning or Deep Q-Networks (DQN).\\n\\n5. **Implementation and Testing:**  This involves writing the code, training the agent (if necessary), and thoroughly testing its performance.\\n\\nTo proceed, tell me more about the kind of autonomous agent you envision.  What environment will it operate in? What are its goals?  What level of complexity are you aiming for?  The more detail you provide, the better I can assist you in planning and building your agent.\", additional_kwargs={}, response_metadata={'prompt_feedback': {'block_reason': 0, 'safety_ratings': []}, 'finish_reason': 'STOP', 'safety_ratings': []}, id='run-bba4de55-5c77-4213-ba0b-b3765a959f1c-0', usage_metadata={'input_tokens': 204, 'output_tokens': 437, 'total_tokens': 641, 'input_token_details': {'cache_read': 0}})], 'ask_human': True}, next=('human',), config={'configurable': {'thread_id': '101', 'checkpoint_ns': '', 'checkpoint_id': '1efe1437-469f-6dac-8004-e935a7696b78'}}, metadata={'source': 'loop', 'writes': {'chatbot': {'messages': [AIMessage(content=\"That's a great goal! Building an autonomous agent is a challenging but rewarding project. To help you get started, let's break down the process.  We need to consider several key aspects:\\n\\n1. **Define the Environment:** What kind of environment will your agent operate in?  Will it be a simulated environment (like a game) or a real-world environment?  The environment dictates the types of sensors and actions your agent will need.\\n\\n2. **Define the Agent's Goals:** What is the agent supposed to achieve?  This is crucial for designing the reward function and the overall agent architecture.  A clear objective helps guide the development process.\\n\\n3. **Choose an Agent Architecture:**  There are several options, each with its strengths and weaknesses:\\n    * **Rule-based agents:**  These agents follow a set of pre-defined rules.  Simple to implement but not very adaptable.\\n    * **Reactive agents:** These agents react directly to their current sensory input.  More adaptable than rule-based agents but still limited in their planning capabilities.\\n    * **Model-based agents:** These agents build an internal model of the environment and use it to plan their actions. More complex but capable of more sophisticated behavior.\\n    * **Reinforcement learning agents:** These agents learn through trial and error, interacting with the environment and receiving rewards or penalties based on their actions.  Very powerful but require significant computational resources and careful design.\\n\\n\\n4. **Select Appropriate Algorithms and Technologies:**  The choice of algorithms and technologies will depend on the agent architecture and environment.  For example, reinforcement learning agents often use algorithms like Q-learning or Deep Q-Networks (DQN).\\n\\n5. **Implementation and Testing:**  This involves writing the code, training the agent (if necessary), and thoroughly testing its performance.\\n\\nTo proceed, tell me more about the kind of autonomous agent you envision.  What environment will it operate in? What are its goals?  What level of complexity are you aiming for?  The more detail you provide, the better I can assist you in planning and building your agent.\", additional_kwargs={}, response_metadata={'prompt_feedback': {'block_reason': 0, 'safety_ratings': []}, 'finish_reason': 'STOP', 'safety_ratings': []}, id='run-bba4de55-5c77-4213-ba0b-b3765a959f1c-0', usage_metadata={'input_tokens': 204, 'output_tokens': 437, 'total_tokens': 641, 'input_token_details': {'cache_read': 0}})], 'ask_human': True}}, 'thread_id': '101', 'step': 4, 'parents': {}}, created_at='2025-02-02T08:55:30.393612+00:00', parent_config={'configurable': {'thread_id': '101', 'checkpoint_ns': '', 'checkpoint_id': '1efe1437-26b4-6bb0-8003-4b4ef4a1bfc9'}}, tasks=(PregelTask(id='cc8b003d-f1b5-57e1-198d-0c8bef9cd91b', name='human', path=('__pregel_pull', 'human'), error=None, interrupts=(), state=None, result=None),))\n",
            "StateSnapshot(values={'messages': [HumanMessage(content=\"hello!, I'm learning ai agents. \", additional_kwargs={}, response_metadata={}, id='fd290614-0b55-473a-8051-e6df92c766bf'), AIMessage(content='Hello!  I can help you learn about AI agents. What specifically about AI agents are you interested in learning?  For example, are you interested in a particular type of AI agent, a specific application, or the underlying concepts?  The more detail you provide, the better I can assist you.', additional_kwargs={}, response_metadata={'prompt_feedback': {'block_reason': 0, 'safety_ratings': []}, 'finish_reason': 'STOP', 'safety_ratings': []}, id='run-8f2d08b3-e9ea-4b52-a735-6b908b1945a1-0', usage_metadata={'input_tokens': 124, 'output_tokens': 62, 'total_tokens': 186, 'input_token_details': {'cache_read': 0}}), HumanMessage(content=\"Ya that's helpful. Maybe I'll build an autonomous agent with it!\", additional_kwargs={}, response_metadata={}, id='717ae4d1-1350-455d-adac-f573e4c846bb')], 'ask_human': True}, next=('chatbot',), config={'configurable': {'thread_id': '101', 'checkpoint_ns': '', 'checkpoint_id': '1efe1437-26b4-6bb0-8003-4b4ef4a1bfc9'}}, metadata={'source': 'loop', 'writes': None, 'thread_id': '101', 'step': 3, 'parents': {}}, created_at='2025-02-02T08:55:27.046713+00:00', parent_config={'configurable': {'thread_id': '101', 'checkpoint_ns': '', 'checkpoint_id': '1efe1437-266c-6e4c-8002-bec6ae7f978f'}}, tasks=(PregelTask(id='317b20d5-ae37-bc82-525d-c31efa299dc4', name='chatbot', path=('__pregel_pull', 'chatbot'), error=None, interrupts=(), state=None, result={'messages': [AIMessage(content=\"That's a great goal! Building an autonomous agent is a challenging but rewarding project. To help you get started, let's break down the process.  We need to consider several key aspects:\\n\\n1. **Define the Environment:** What kind of environment will your agent operate in?  Will it be a simulated environment (like a game) or a real-world environment?  The environment dictates the types of sensors and actions your agent will need.\\n\\n2. **Define the Agent's Goals:** What is the agent supposed to achieve?  This is crucial for designing the reward function and the overall agent architecture.  A clear objective helps guide the development process.\\n\\n3. **Choose an Agent Architecture:**  There are several options, each with its strengths and weaknesses:\\n    * **Rule-based agents:**  These agents follow a set of pre-defined rules.  Simple to implement but not very adaptable.\\n    * **Reactive agents:** These agents react directly to their current sensory input.  More adaptable than rule-based agents but still limited in their planning capabilities.\\n    * **Model-based agents:** These agents build an internal model of the environment and use it to plan their actions. More complex but capable of more sophisticated behavior.\\n    * **Reinforcement learning agents:** These agents learn through trial and error, interacting with the environment and receiving rewards or penalties based on their actions.  Very powerful but require significant computational resources and careful design.\\n\\n\\n4. **Select Appropriate Algorithms and Technologies:**  The choice of algorithms and technologies will depend on the agent architecture and environment.  For example, reinforcement learning agents often use algorithms like Q-learning or Deep Q-Networks (DQN).\\n\\n5. **Implementation and Testing:**  This involves writing the code, training the agent (if necessary), and thoroughly testing its performance.\\n\\nTo proceed, tell me more about the kind of autonomous agent you envision.  What environment will it operate in? What are its goals?  What level of complexity are you aiming for?  The more detail you provide, the better I can assist you in planning and building your agent.\", additional_kwargs={}, response_metadata={'prompt_feedback': {'block_reason': 0, 'safety_ratings': []}, 'finish_reason': 'STOP', 'safety_ratings': []}, id='run-bba4de55-5c77-4213-ba0b-b3765a959f1c-0', usage_metadata={'input_tokens': 204, 'output_tokens': 437, 'total_tokens': 641, 'input_token_details': {'cache_read': 0}})], 'ask_human': True}),))\n",
            "StateSnapshot(values={'messages': [HumanMessage(content=\"hello!, I'm learning ai agents. \", additional_kwargs={}, response_metadata={}, id='fd290614-0b55-473a-8051-e6df92c766bf'), AIMessage(content='Hello!  I can help you learn about AI agents. What specifically about AI agents are you interested in learning?  For example, are you interested in a particular type of AI agent, a specific application, or the underlying concepts?  The more detail you provide, the better I can assist you.', additional_kwargs={}, response_metadata={'prompt_feedback': {'block_reason': 0, 'safety_ratings': []}, 'finish_reason': 'STOP', 'safety_ratings': []}, id='run-8f2d08b3-e9ea-4b52-a735-6b908b1945a1-0', usage_metadata={'input_tokens': 124, 'output_tokens': 62, 'total_tokens': 186, 'input_token_details': {'cache_read': 0}})], 'ask_human': True}, next=('__start__',), config={'configurable': {'thread_id': '101', 'checkpoint_ns': '', 'checkpoint_id': '1efe1437-266c-6e4c-8002-bec6ae7f978f'}}, metadata={'source': 'input', 'writes': {'__start__': {'messages': [{'role': 'user', 'content': \"Ya that's helpful. Maybe I'll build an autonomous agent with it!\"}]}}, 'thread_id': '101', 'step': 2, 'parents': {}}, created_at='2025-02-02T08:55:27.017277+00:00', parent_config={'configurable': {'thread_id': '101', 'checkpoint_ns': '', 'checkpoint_id': '1efe1437-15e7-6c3c-8001-cd7220b170ff'}}, tasks=(PregelTask(id='c86adf06-66b7-62ed-2319-ff95aff70346', name='__start__', path=('__pregel_pull', '__start__'), error=None, interrupts=(), state=None, result={'messages': [{'role': 'user', 'content': \"Ya that's helpful. Maybe I'll build an autonomous agent with it!\"}]}),))\n",
            "StateSnapshot(values={'messages': [HumanMessage(content=\"hello!, I'm learning ai agents. \", additional_kwargs={}, response_metadata={}, id='fd290614-0b55-473a-8051-e6df92c766bf'), AIMessage(content='Hello!  I can help you learn about AI agents. What specifically about AI agents are you interested in learning?  For example, are you interested in a particular type of AI agent, a specific application, or the underlying concepts?  The more detail you provide, the better I can assist you.', additional_kwargs={}, response_metadata={'prompt_feedback': {'block_reason': 0, 'safety_ratings': []}, 'finish_reason': 'STOP', 'safety_ratings': []}, id='run-8f2d08b3-e9ea-4b52-a735-6b908b1945a1-0', usage_metadata={'input_tokens': 124, 'output_tokens': 62, 'total_tokens': 186, 'input_token_details': {'cache_read': 0}})], 'ask_human': True}, next=('human',), config={'configurable': {'thread_id': '101', 'checkpoint_ns': '', 'checkpoint_id': '1efe1437-15e7-6c3c-8001-cd7220b170ff'}}, metadata={'source': 'loop', 'writes': {'chatbot': {'messages': [AIMessage(content='Hello!  I can help you learn about AI agents. What specifically about AI agents are you interested in learning?  For example, are you interested in a particular type of AI agent, a specific application, or the underlying concepts?  The more detail you provide, the better I can assist you.', additional_kwargs={}, response_metadata={'prompt_feedback': {'block_reason': 0, 'safety_ratings': []}, 'finish_reason': 'STOP', 'safety_ratings': []}, id='run-8f2d08b3-e9ea-4b52-a735-6b908b1945a1-0', usage_metadata={'input_tokens': 124, 'output_tokens': 62, 'total_tokens': 186, 'input_token_details': {'cache_read': 0}})], 'ask_human': True}}, 'thread_id': '101', 'step': 1, 'parents': {}}, created_at='2025-02-02T08:55:25.285049+00:00', parent_config={'configurable': {'thread_id': '101', 'checkpoint_ns': '', 'checkpoint_id': '1efe1437-0e9f-6b44-8000-241d9a6c457c'}}, tasks=(PregelTask(id='92c719b3-4d6c-588c-46c1-deb83bdf1605', name='human', path=('__pregel_pull', 'human'), error=None, interrupts=(), state=None, result=None),))\n",
            "StateSnapshot(values={'messages': [HumanMessage(content=\"hello!, I'm learning ai agents. \", additional_kwargs={}, response_metadata={}, id='fd290614-0b55-473a-8051-e6df92c766bf')]}, next=('chatbot',), config={'configurable': {'thread_id': '101', 'checkpoint_ns': '', 'checkpoint_id': '1efe1437-0e9f-6b44-8000-241d9a6c457c'}}, metadata={'source': 'loop', 'writes': None, 'thread_id': '101', 'step': 0, 'parents': {}}, created_at='2025-02-02T08:55:24.521527+00:00', parent_config={'configurable': {'thread_id': '101', 'checkpoint_ns': '', 'checkpoint_id': '1efe1437-0e86-686c-bfff-4fceef0f5af1'}}, tasks=(PregelTask(id='b08d1bc7-078b-8f92-3e01-81f2e2fe7808', name='chatbot', path=('__pregel_pull', 'chatbot'), error=None, interrupts=(), state=None, result={'messages': [AIMessage(content='Hello!  I can help you learn about AI agents. What specifically about AI agents are you interested in learning?  For example, are you interested in a particular type of AI agent, a specific application, or the underlying concepts?  The more detail you provide, the better I can assist you.', additional_kwargs={}, response_metadata={'prompt_feedback': {'block_reason': 0, 'safety_ratings': []}, 'finish_reason': 'STOP', 'safety_ratings': []}, id='run-8f2d08b3-e9ea-4b52-a735-6b908b1945a1-0', usage_metadata={'input_tokens': 124, 'output_tokens': 62, 'total_tokens': 186, 'input_token_details': {'cache_read': 0}})], 'ask_human': True}),))\n",
            "StateSnapshot(values={'messages': []}, next=('__start__',), config={'configurable': {'thread_id': '101', 'checkpoint_ns': '', 'checkpoint_id': '1efe1437-0e86-686c-bfff-4fceef0f5af1'}}, metadata={'source': 'input', 'writes': {'__start__': {'messages': [{'role': 'user', 'content': \"hello!, I'm learning ai agents. \"}]}}, 'thread_id': '101', 'step': -1, 'parents': {}}, created_at='2025-02-02T08:55:24.511220+00:00', parent_config=None, tasks=(PregelTask(id='1fe66782-87d0-2718-f7c6-1b9dccee9bc5', name='__start__', path=('__pregel_pull', '__start__'), error=None, interrupts=(), state=None, result={'messages': [{'role': 'user', 'content': \"hello!, I'm learning ai agents. \"}]}),))\n"
          ]
        }
      ],
      "source": [
        "to_replay = []\n",
        "for state in graph.get_state_history(config):\n",
        "  print(state)\n",
        "  to_replay.append(state)"
      ]
    },
    {
      "cell_type": "code",
      "execution_count": 116,
      "metadata": {
        "colab": {
          "base_uri": "https://localhost:8080/"
        },
        "id": "E5ub9hDZqpD7",
        "outputId": "95b7e2b7-7b20-42cd-c156-0c3249e2b055"
      },
      "outputs": [
        {
          "output_type": "stream",
          "name": "stdout",
          "text": [
            "Num Messages:  4 Next:  ('human',)\n",
            "--------------------------------------------------------------------------------\n",
            "Num Messages:  3 Next:  ('chatbot',)\n",
            "--------------------------------------------------------------------------------\n",
            "Num Messages:  2 Next:  ('__start__',)\n",
            "--------------------------------------------------------------------------------\n",
            "Num Messages:  2 Next:  ('human',)\n",
            "--------------------------------------------------------------------------------\n",
            "Num Messages:  1 Next:  ('chatbot',)\n",
            "--------------------------------------------------------------------------------\n",
            "Num Messages:  0 Next:  ('__start__',)\n",
            "--------------------------------------------------------------------------------\n"
          ]
        }
      ],
      "source": [
        "to_replay = None\n",
        "for state in graph.get_state_history(config):\n",
        "    print(\"Num Messages: \", len(state.values[\"messages\"]), \"Next: \", state.next)\n",
        "    print(\"-\" * 80)\n",
        "    if len(state.values[\"messages\"]) == 1:\n",
        "        # We are somewhat arbitrarily selecting a specific state based on the number of chat messages in the state.\n",
        "        to_replay = state"
      ]
    },
    {
      "cell_type": "code",
      "execution_count": 117,
      "metadata": {
        "colab": {
          "base_uri": "https://localhost:8080/"
        },
        "id": "vsk2_S5LwJJW",
        "outputId": "6a1e551c-d25d-4af1-aef0-76abb07dcfae"
      },
      "outputs": [
        {
          "output_type": "stream",
          "name": "stdout",
          "text": [
            "('chatbot',)\n",
            "{'configurable': {'thread_id': '101', 'checkpoint_ns': '', 'checkpoint_id': '1efe1437-0e9f-6b44-8000-241d9a6c457c'}}\n"
          ]
        }
      ],
      "source": [
        "print(to_replay.next)\n",
        "print(to_replay.config)"
      ]
    },
    {
      "cell_type": "code",
      "execution_count": 118,
      "metadata": {
        "colab": {
          "base_uri": "https://localhost:8080/"
        },
        "id": "XXikTnF0xJm3",
        "outputId": "50fca0c1-21ad-42db-955b-288b7bad6c6c"
      },
      "outputs": [
        {
          "output_type": "stream",
          "name": "stdout",
          "text": [
            "StateSnapshot(values={'messages': [HumanMessage(content=\"hello!, I'm learning ai agents. \", additional_kwargs={}, response_metadata={}, id='fd290614-0b55-473a-8051-e6df92c766bf')]}, next=('chatbot',), config={'configurable': {'thread_id': '101', 'checkpoint_ns': '', 'checkpoint_id': '1efe1437-0e9f-6b44-8000-241d9a6c457c'}}, metadata={'source': 'loop', 'writes': None, 'thread_id': '101', 'step': 0, 'parents': {}}, created_at='2025-02-02T08:55:24.521527+00:00', parent_config={'configurable': {'thread_id': '101', 'checkpoint_ns': '', 'checkpoint_id': '1efe1437-0e86-686c-bfff-4fceef0f5af1'}}, tasks=(PregelTask(id='b08d1bc7-078b-8f92-3e01-81f2e2fe7808', name='chatbot', path=('__pregel_pull', 'chatbot'), error=None, interrupts=(), state=None, result={'messages': [AIMessage(content='Hello!  I can help you learn about AI agents. What specifically about AI agents are you interested in learning?  For example, are you interested in a particular type of AI agent, a specific application, or the underlying concepts?  The more detail you provide, the better I can assist you.', additional_kwargs={}, response_metadata={'prompt_feedback': {'block_reason': 0, 'safety_ratings': []}, 'finish_reason': 'STOP', 'safety_ratings': []}, id='run-8f2d08b3-e9ea-4b52-a735-6b908b1945a1-0', usage_metadata={'input_tokens': 124, 'output_tokens': 62, 'total_tokens': 186, 'input_token_details': {'cache_read': 0}})], 'ask_human': True}),))\n"
          ]
        }
      ],
      "source": [
        "print(to_replay)"
      ]
    },
    {
      "cell_type": "code",
      "execution_count": 120,
      "metadata": {
        "id": "lC7WMjDARaO1"
      },
      "outputs": [],
      "source": [
        "config = {\"configurable\": {\"thread id\": 200}}"
      ]
    },
    {
      "cell_type": "code",
      "execution_count": 119,
      "metadata": {
        "colab": {
          "base_uri": "https://localhost:8080/"
        },
        "id": "S-zSrBPs0FK0",
        "outputId": "5bbdc4e5-ae8e-4c5d-d4d5-f4d3197d08c3"
      },
      "outputs": [
        {
          "output_type": "stream",
          "name": "stdout",
          "text": [
            "User: hi\n",
            "Error: Checkpointer requires one or more of the following 'configurable' keys: ['thread_id', 'checkpoint_ns', 'checkpoint_id']\n",
            "User: q\n",
            "Goodbye!\n"
          ]
        }
      ],
      "source": [
        "\n",
        "\n",
        "while True:\n",
        "    try:\n",
        "        # Get user input\n",
        "        user_input = input(\"User: \")\n",
        "\n",
        "        # Check if the user wants to quit\n",
        "        if user_input.lower() in [\"quit\", \"exit\", \"q\"]:\n",
        "            print(\"Goodbye!\")\n",
        "            break\n",
        "\n",
        "\n",
        "        # Ensure that the configuration is correct for Checkpointer\n",
        "        # You might need to define a config dictionary with the required keys\n",
        "        config = {\n",
        "            'thread_id': config,  # Thread ID dynamically obtained\n",
        "            'checkpoint_ns': '',  # Define the checkpoint namespace\n",
        "            'checkpoint_id': '1efe0040-c516-61f4-8000-1c3d5770ed83'  # Use the generated checkpoint ID\n",
        "        }\n",
        "\n",
        "        # Assuming stream_graph_updates is part of LangGraph, pass the config to it\n",
        "        # Modify stream_graph_updates to accept the config if needed\n",
        "        stream_graph_updates(user_input)\n",
        "\n",
        "    except ValueError as e:\n",
        "        # Handle ValueError specifically, especially from LangGraph's Checkpointer\n",
        "        print(f\"Error: {e}\")\n",
        "        # You can decide if you want to continue or exit on error\n",
        "        continue\n",
        "\n",
        "    except Exception as e:\n",
        "        # Catch other exceptions and print the error\n",
        "        print(f\"Unexpected error: {e}\")\n",
        "        break  # Exit loop in case of unexpected error\n",
        "\n",
        "\n"
      ]
    },
    {
      "cell_type": "code",
      "execution_count": 121,
      "metadata": {
        "colab": {
          "base_uri": "https://localhost:8080/",
          "height": 304
        },
        "id": "bnFSTGhGZgGN",
        "outputId": "405dafa5-d27f-4e41-9222-f02977e03ecc"
      },
      "outputs": [
        {
          "output_type": "error",
          "ename": "KeyError",
          "evalue": "'thread_id'",
          "traceback": [
            "\u001b[0;31m---------------------------------------------------------------------------\u001b[0m",
            "\u001b[0;31mKeyError\u001b[0m                                  Traceback (most recent call last)",
            "\u001b[0;32m<ipython-input-121-63e608abad02>\u001b[0m in \u001b[0;36m<cell line: 0>\u001b[0;34m()\u001b[0m\n\u001b[0;32m----> 1\u001b[0;31m \u001b[0msnapshot\u001b[0m \u001b[0;34m=\u001b[0m \u001b[0mgraph\u001b[0m\u001b[0;34m.\u001b[0m\u001b[0mget_state\u001b[0m\u001b[0;34m(\u001b[0m\u001b[0mconfig\u001b[0m\u001b[0;34m)\u001b[0m\u001b[0;34m\u001b[0m\u001b[0;34m\u001b[0m\u001b[0m\n\u001b[0m\u001b[1;32m      2\u001b[0m \u001b[0mprint\u001b[0m\u001b[0;34m(\u001b[0m\u001b[0msnapshot\u001b[0m\u001b[0;34m)\u001b[0m\u001b[0;34m\u001b[0m\u001b[0;34m\u001b[0m\u001b[0m\n",
            "\u001b[0;32m/usr/local/lib/python3.11/dist-packages/langgraph/pregel/__init__.py\u001b[0m in \u001b[0;36mget_state\u001b[0;34m(self, config, subgraphs)\u001b[0m\n\u001b[1;32m    713\u001b[0m \u001b[0;34m\u001b[0m\u001b[0m\n\u001b[1;32m    714\u001b[0m         \u001b[0mconfig\u001b[0m \u001b[0;34m=\u001b[0m \u001b[0mmerge_configs\u001b[0m\u001b[0;34m(\u001b[0m\u001b[0mself\u001b[0m\u001b[0;34m.\u001b[0m\u001b[0mconfig\u001b[0m\u001b[0;34m,\u001b[0m \u001b[0mconfig\u001b[0m\u001b[0;34m)\u001b[0m \u001b[0;32mif\u001b[0m \u001b[0mself\u001b[0m\u001b[0;34m.\u001b[0m\u001b[0mconfig\u001b[0m \u001b[0;32melse\u001b[0m \u001b[0mconfig\u001b[0m\u001b[0;34m\u001b[0m\u001b[0;34m\u001b[0m\u001b[0m\n\u001b[0;32m--> 715\u001b[0;31m         \u001b[0msaved\u001b[0m \u001b[0;34m=\u001b[0m \u001b[0mcheckpointer\u001b[0m\u001b[0;34m.\u001b[0m\u001b[0mget_tuple\u001b[0m\u001b[0;34m(\u001b[0m\u001b[0mconfig\u001b[0m\u001b[0;34m)\u001b[0m\u001b[0;34m\u001b[0m\u001b[0;34m\u001b[0m\u001b[0m\n\u001b[0m\u001b[1;32m    716\u001b[0m         return self._prepare_state_snapshot(\n\u001b[1;32m    717\u001b[0m             \u001b[0mconfig\u001b[0m\u001b[0;34m,\u001b[0m\u001b[0;34m\u001b[0m\u001b[0;34m\u001b[0m\u001b[0m\n",
            "\u001b[0;32m/usr/local/lib/python3.11/dist-packages/langgraph/checkpoint/memory/__init__.py\u001b[0m in \u001b[0;36mget_tuple\u001b[0;34m(self, config)\u001b[0m\n\u001b[1;32m    121\u001b[0m             \u001b[0mOptional\u001b[0m\u001b[0;34m[\u001b[0m\u001b[0mCheckpointTuple\u001b[0m\u001b[0;34m]\u001b[0m\u001b[0;34m:\u001b[0m \u001b[0mThe\u001b[0m \u001b[0mretrieved\u001b[0m \u001b[0mcheckpoint\u001b[0m \u001b[0mtuple\u001b[0m\u001b[0;34m,\u001b[0m \u001b[0;32mor\u001b[0m \u001b[0;32mNone\u001b[0m \u001b[0;32mif\u001b[0m \u001b[0mno\u001b[0m \u001b[0mmatching\u001b[0m \u001b[0mcheckpoint\u001b[0m \u001b[0mwas\u001b[0m \u001b[0mfound\u001b[0m\u001b[0;34m.\u001b[0m\u001b[0;34m\u001b[0m\u001b[0;34m\u001b[0m\u001b[0m\n\u001b[1;32m    122\u001b[0m         \"\"\"\n\u001b[0;32m--> 123\u001b[0;31m         \u001b[0mthread_id\u001b[0m \u001b[0;34m=\u001b[0m \u001b[0mconfig\u001b[0m\u001b[0;34m[\u001b[0m\u001b[0;34m\"configurable\"\u001b[0m\u001b[0;34m]\u001b[0m\u001b[0;34m[\u001b[0m\u001b[0;34m\"thread_id\"\u001b[0m\u001b[0;34m]\u001b[0m\u001b[0;34m\u001b[0m\u001b[0;34m\u001b[0m\u001b[0m\n\u001b[0m\u001b[1;32m    124\u001b[0m         \u001b[0mcheckpoint_ns\u001b[0m \u001b[0;34m=\u001b[0m \u001b[0mconfig\u001b[0m\u001b[0;34m[\u001b[0m\u001b[0;34m\"configurable\"\u001b[0m\u001b[0;34m]\u001b[0m\u001b[0;34m.\u001b[0m\u001b[0mget\u001b[0m\u001b[0;34m(\u001b[0m\u001b[0;34m\"checkpoint_ns\"\u001b[0m\u001b[0;34m,\u001b[0m \u001b[0;34m\"\"\u001b[0m\u001b[0;34m)\u001b[0m\u001b[0;34m\u001b[0m\u001b[0;34m\u001b[0m\u001b[0m\n\u001b[1;32m    125\u001b[0m         \u001b[0;32mif\u001b[0m \u001b[0mcheckpoint_id\u001b[0m \u001b[0;34m:=\u001b[0m \u001b[0mget_checkpoint_id\u001b[0m\u001b[0;34m(\u001b[0m\u001b[0mconfig\u001b[0m\u001b[0;34m)\u001b[0m\u001b[0;34m:\u001b[0m\u001b[0;34m\u001b[0m\u001b[0;34m\u001b[0m\u001b[0m\n",
            "\u001b[0;31mKeyError\u001b[0m: 'thread_id'"
          ]
        }
      ],
      "source": [
        "snapshot = graph.get_state(config)\n",
        "print(snapshot)"
      ]
    },
    {
      "cell_type": "code",
      "source": [
        "while True:\n",
        "    try:\n",
        "        # Get user input\n",
        "        user_input = input(\"User: \")\n",
        "\n",
        "        # Check if the user wants to quit\n",
        "        if user_input.lower() in [\"quit\", \"exit\", \"q\"]:\n",
        "            print(\"Goodbye!\")\n",
        "            break\n",
        "\n",
        "        # Ensure that the configuration is correct for Checkpointer\n",
        "        config = {\n",
        "            'thread_id': '71',  # Thread ID dynamically obtained\n",
        "            'checkpoint_ns': '',  # Define the checkpoint namespace if needed\n",
        "            'checkpoint_id': '1efe0040-c516-61f4-8000-1c3d5770ed83'  # Use the generated checkpoint ID\n",
        "        }\n",
        "\n",
        "        # Assuming stream_graph_updates is part of LangGraph, pass the config to it\n",
        "        # Modify stream_graph_updates to accept the config if needed\n",
        "        stream_graph_updates(user_input)\n",
        "\n",
        "        # If using the stream functionality as per the original code snippet\n",
        "        events = graph.stream(\n",
        "            {\"messages\": [(\"user\", user_input)]}, config, stream_mode=\"values\"\n",
        "        )\n",
        "\n",
        "        # Process the event if \"messages\" is present\n",
        "        for event in events:\n",
        "            if \"messages\" in event:\n",
        "                # Assuming pretty_print method exists to display the message content\n",
        "                event[\"messages\"][-1].pretty_print()\n",
        "\n",
        "    except ValueError as e:\n",
        "        # Handle ValueError specifically, especially from LangGraph's Checkpointer\n",
        "        print(f\"Error: {e}\")\n",
        "        # You can decide if you want to continue or exit on error\n",
        "        continue\n",
        "\n",
        "    except Exception as e:\n",
        "        # Catch other exceptions and print the error\n",
        "        print(f\"Unexpected error: {e}\")\n",
        "        break  # Exit loop in case of unexpected error\n"
      ],
      "metadata": {
        "colab": {
          "base_uri": "https://localhost:8080/"
        },
        "id": "p6ZLFoDfb7ql",
        "outputId": "549b5394-9781-48db-d672-2b7c310f117d"
      },
      "execution_count": 122,
      "outputs": [
        {
          "output_type": "stream",
          "name": "stdout",
          "text": [
            "User: hi\n",
            "Error: Checkpointer requires one or more of the following 'configurable' keys: ['thread_id', 'checkpoint_ns', 'checkpoint_id']\n",
            "User: q\n",
            "Goodbye!\n"
          ]
        }
      ]
    }
  ],
  "metadata": {
    "colab": {
      "provenance": [],
      "authorship_tag": "ABX9TyO2PXOrM0qfJ6D2dcQs81LX",
      "include_colab_link": true
    },
    "kernelspec": {
      "display_name": "Python 3",
      "name": "python3"
    },
    "language_info": {
      "name": "python"
    }
  },
  "nbformat": 4,
  "nbformat_minor": 0
}